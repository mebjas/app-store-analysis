{
 "cells": [
  {
   "cell_type": "markdown",
   "metadata": {},
   "source": [
    "# Analysis\n",
    "\n",
    "**Problem Statement:**\n",
    "\n",
    "There are so many apps on app store, some paid some free; I want to validate few of these scenarios:\n",
    " - What makes an app successfull, what is that metric\n",
    " - What other metrics are available?\n",
    " - Is there correlation between this success metric and other metrics\n",
    " - What does the clusters look like if we try to cluster them\n",
    " \n",
    "This might sound vague at the moment but essentially I want to analyse apps in app store;\n",
    "\n",
    "### Task 1: In this notebook we would essentially be dealing with pre processing of the data to make it more convenient to use;"
   ]
  },
  {
   "cell_type": "code",
   "execution_count": 1,
   "metadata": {
    "collapsed": true
   },
   "outputs": [],
   "source": [
    "import json\n",
    "import pandas as pd\n",
    "import numpy as np\n",
    "import matplotlib.pyplot as plt\n",
    "import seaborn as sns\n",
    "%matplotlib inline\n",
    "\n",
    "sns.set_style(\"whitegrid\")\n",
    "sns.set_palette(\"Set1\", 8, .75)"
   ]
  },
  {
   "cell_type": "code",
   "execution_count": 2,
   "metadata": {
    "collapsed": true
   },
   "outputs": [],
   "source": [
    "df = pd.read_csv(\"../dataset/data.csv\")"
   ]
  },
  {
   "cell_type": "code",
   "execution_count": 3,
   "metadata": {},
   "outputs": [
    {
     "data": {
      "text/plain": [
       "Index(['kind', 'features', 'advisories', 'trackCensoredName', 'fileSizeBytes',\n",
       "       'contentAdvisoryRating', 'genreIds', 'currentVersionReleaseDate',\n",
       "       'currency', 'wrapperType', 'version', 'artistName', 'artistId',\n",
       "       'genres', 'price', 'description', 'trackName', 'bundleId',\n",
       "       'isVppDeviceBasedLicensingEnabled', 'primaryGenreName', 'releaseDate',\n",
       "       'minimumOsVersion', 'formattedPrice', 'primaryGenreId',\n",
       "       'averageUserRating', 'userRatingCount', 'avgUserRatingCV',\n",
       "       'userRatingCountCV', 'sellerUrl', 'releaseNotes'],\n",
       "      dtype='object')"
      ]
     },
     "execution_count": 3,
     "metadata": {},
     "output_type": "execute_result"
    }
   ],
   "source": [
    "# list of all columns\n",
    "df.columns"
   ]
  },
  {
   "cell_type": "code",
   "execution_count": 4,
   "metadata": {},
   "outputs": [
    {
     "name": "stdout",
     "output_type": "stream",
     "text": [
      "No of rows in dataset: 152047, No of columns: 30\n"
     ]
    }
   ],
   "source": [
    "print (\"No of rows in dataset: %d, No of columns: %d\" %  (df.shape[0], df.shape[1]))"
   ]
  },
  {
   "cell_type": "markdown",
   "metadata": {},
   "source": [
    "**Note that:** `trackName` property is the name of application and `bundleId` is the unique name; we can use these bost as unique properties;\n"
   ]
  },
  {
   "cell_type": "code",
   "execution_count": 5,
   "metadata": {
    "collapsed": true
   },
   "outputs": [],
   "source": [
    "# let's define a new dataframe where we will store more processed information\n",
    "data = pd.DataFrame()\n",
    "data['bundleId'] = df['bundleId']\n",
    "data['trackName'] = df['trackName']"
   ]
  },
  {
   "cell_type": "markdown",
   "metadata": {},
   "source": [
    "## Pre processing\n",
    "\n",
    "### (1) Kind"
   ]
  },
  {
   "cell_type": "code",
   "execution_count": 6,
   "metadata": {},
   "outputs": [
    {
     "data": {
      "text/plain": [
       "software    152047\n",
       "Name: kind, dtype: int64"
      ]
     },
     "execution_count": 6,
     "metadata": {},
     "output_type": "execute_result"
    }
   ],
   "source": [
    "df.kind.value_counts()"
   ]
  },
  {
   "cell_type": "markdown",
   "metadata": {},
   "source": [
    "**Summary**: all data in the list is of same kind hence we will ignore this property\n",
    "### (2) features"
   ]
  },
  {
   "cell_type": "code",
   "execution_count": 7,
   "metadata": {},
   "outputs": [
    {
     "data": {
      "text/plain": [
       "[\"iosUniversal\"]    105740\n",
       "[]                   46307\n",
       "Name: features, dtype: int64"
      ]
     },
     "execution_count": 7,
     "metadata": {},
     "output_type": "execute_result"
    }
   ],
   "source": [
    "df.features.value_counts()"
   ]
  },
  {
   "cell_type": "markdown",
   "metadata": {},
   "source": [
    "**Summary:** since there are only two possible outcomes I'll conver this to a column called `isUniversal`"
   ]
  },
  {
   "cell_type": "code",
   "execution_count": 8,
   "metadata": {},
   "outputs": [
    {
     "data": {
      "text/html": [
       "<div>\n",
       "<table border=\"1\" class=\"dataframe\">\n",
       "  <thead>\n",
       "    <tr style=\"text-align: right;\">\n",
       "      <th></th>\n",
       "      <th>bundleId</th>\n",
       "      <th>trackName</th>\n",
       "      <th>IsUniversal</th>\n",
       "    </tr>\n",
       "  </thead>\n",
       "  <tbody>\n",
       "    <tr>\n",
       "      <th>0</th>\n",
       "      <td>com.aaa.iphone.discounts</td>\n",
       "      <td>AAA Mobile</td>\n",
       "      <td>True</td>\n",
       "    </tr>\n",
       "    <tr>\n",
       "      <th>1</th>\n",
       "      <td>com.nextgenreality.gunclublite</td>\n",
       "      <td>AAA GUN CLUB lite</td>\n",
       "      <td>False</td>\n",
       "    </tr>\n",
       "    <tr>\n",
       "      <th>2</th>\n",
       "      <td>com.mcgames.chaosstrike2</td>\n",
       "      <td>Vanguard Online - AAA Shooting Free Online Gam...</td>\n",
       "      <td>True</td>\n",
       "    </tr>\n",
       "    <tr>\n",
       "      <th>3</th>\n",
       "      <td>com.BulletParty.BunboGames</td>\n",
       "      <td>AAA Bullet Party - Online first person shooter...</td>\n",
       "      <td>True</td>\n",
       "    </tr>\n",
       "    <tr>\n",
       "      <th>4</th>\n",
       "      <td>com.fmapp2010.ISearchFree</td>\n",
       "      <td>iSheacher</td>\n",
       "      <td>False</td>\n",
       "    </tr>\n",
       "    <tr>\n",
       "      <th>5</th>\n",
       "      <td>com.onteca.civilwarlite</td>\n",
       "      <td>AAA American Civil War Cannon Shooter : Defend...</td>\n",
       "      <td>True</td>\n",
       "    </tr>\n",
       "    <tr>\n",
       "      <th>6</th>\n",
       "      <td>com.appynation.powertoolsfree</td>\n",
       "      <td>Draw with Powertools FX Free</td>\n",
       "      <td>True</td>\n",
       "    </tr>\n",
       "    <tr>\n",
       "      <th>7</th>\n",
       "      <td>com.1361447304.4691361447304</td>\n",
       "      <td>AAA+ Foundr - Entrepreneur Magazine for a Startup</td>\n",
       "      <td>True</td>\n",
       "    </tr>\n",
       "    <tr>\n",
       "      <th>8</th>\n",
       "      <td>com.1443792976.11461443792976</td>\n",
       "      <td>AAA+ Swimsuits &amp; Sports Magazine App For Men</td>\n",
       "      <td>True</td>\n",
       "    </tr>\n",
       "    <tr>\n",
       "      <th>9</th>\n",
       "      <td>com.AnjaneyaApps.AAA1024Free</td>\n",
       "      <td>AAA 1024 Puzzle - cool math board game</td>\n",
       "      <td>True</td>\n",
       "    </tr>\n",
       "  </tbody>\n",
       "</table>\n",
       "</div>"
      ],
      "text/plain": [
       "                         bundleId  \\\n",
       "0        com.aaa.iphone.discounts   \n",
       "1  com.nextgenreality.gunclublite   \n",
       "2        com.mcgames.chaosstrike2   \n",
       "3      com.BulletParty.BunboGames   \n",
       "4       com.fmapp2010.ISearchFree   \n",
       "5         com.onteca.civilwarlite   \n",
       "6   com.appynation.powertoolsfree   \n",
       "7    com.1361447304.4691361447304   \n",
       "8   com.1443792976.11461443792976   \n",
       "9    com.AnjaneyaApps.AAA1024Free   \n",
       "\n",
       "                                           trackName IsUniversal  \n",
       "0                                         AAA Mobile        True  \n",
       "1                                  AAA GUN CLUB lite       False  \n",
       "2  Vanguard Online - AAA Shooting Free Online Gam...        True  \n",
       "3  AAA Bullet Party - Online first person shooter...        True  \n",
       "4                                          iSheacher       False  \n",
       "5  AAA American Civil War Cannon Shooter : Defend...        True  \n",
       "6                       Draw with Powertools FX Free        True  \n",
       "7  AAA+ Foundr - Entrepreneur Magazine for a Startup        True  \n",
       "8       AAA+ Swimsuits & Sports Magazine App For Men        True  \n",
       "9             AAA 1024 Puzzle - cool math board game        True  "
      ]
     },
     "execution_count": 8,
     "metadata": {},
     "output_type": "execute_result"
    }
   ],
   "source": [
    "def getIsUniversal(x):\n",
    "    if x == '[]':\n",
    "        return False\n",
    "    return True\n",
    "\n",
    "data['IsUniversal'] = df['features'].apply(lambda x: getIsUniversal(x))\n",
    "\n",
    "data.head(10)"
   ]
  },
  {
   "cell_type": "markdown",
   "metadata": {},
   "source": [
    "### (3) advisories"
   ]
  },
  {
   "cell_type": "code",
   "execution_count": 9,
   "metadata": {
    "collapsed": true,
    "scrolled": false
   },
   "outputs": [],
   "source": [
    "# df.advisories.value_counts()\n",
    "# TODO: this is a categorical data and one row can have one or more of these; Think of how to deal with this\n",
    "# but this could be an important data after all"
   ]
  },
  {
   "cell_type": "markdown",
   "metadata": {},
   "source": [
    "### (4) trackCensoredName\n",
    "\n",
    "This seem to be very similar to the name of the track itself, let's see the no of rows where these values differ"
   ]
  },
  {
   "cell_type": "code",
   "execution_count": 10,
   "metadata": {},
   "outputs": [
    {
     "name": "stdout",
     "output_type": "stream",
     "text": [
      "(2, 30)\n"
     ]
    },
    {
     "data": {
      "text/html": [
       "<div>\n",
       "<table border=\"1\" class=\"dataframe\">\n",
       "  <thead>\n",
       "    <tr style=\"text-align: right;\">\n",
       "      <th></th>\n",
       "      <th>trackCensoredName</th>\n",
       "      <th>trackName</th>\n",
       "    </tr>\n",
       "  </thead>\n",
       "  <tbody>\n",
       "    <tr>\n",
       "      <th>77518</th>\n",
       "      <td>F*g Garanti - Kvalitetsstemplet</td>\n",
       "      <td>Fag Garanti - Kvalitetsstemplet</td>\n",
       "    </tr>\n",
       "    <tr>\n",
       "      <th>138646</th>\n",
       "      <td>F*G SmartCheck</td>\n",
       "      <td>FAG SmartCheck</td>\n",
       "    </tr>\n",
       "  </tbody>\n",
       "</table>\n",
       "</div>"
      ],
      "text/plain": [
       "                      trackCensoredName                        trackName\n",
       "77518   F*g Garanti - Kvalitetsstemplet  Fag Garanti - Kvalitetsstemplet\n",
       "138646                   F*G SmartCheck                   FAG SmartCheck"
      ]
     },
     "execution_count": 10,
     "metadata": {},
     "output_type": "execute_result"
    }
   ],
   "source": [
    "print (df.loc[df['trackCensoredName'] != df['trackName']].shape)\n",
    "\n",
    "df.loc[df['trackCensoredName'] != df['trackName']][['trackCensoredName', 'trackName']]"
   ]
  },
  {
   "cell_type": "markdown",
   "metadata": {},
   "source": [
    "**Summary:**: only a single row with trackCensoredName differing from trackName so this features is useless for now\n",
    "\n",
    "### (5) fileSizeBytes\n",
    "This seem to be an interesting property let's see"
   ]
  },
  {
   "cell_type": "code",
   "execution_count": 11,
   "metadata": {},
   "outputs": [
    {
     "name": "stdout",
     "output_type": "stream",
     "text": [
      "Average file size in MD: 57.61 \n",
      "Median file size in MD: 30.21 \n"
     ]
    },
    {
     "data": {
      "text/plain": [
       "<matplotlib.axes._subplots.AxesSubplot at 0x1d448dd5cc0>"
      ]
     },
     "execution_count": 11,
     "metadata": {},
     "output_type": "execute_result"
    },
    {
     "data": {
      "image/png": "[encoded data removed]",
      "text/plain": [
       "<matplotlib.figure.Figure at 0x1d46529fc88>"
      ]
     },
     "metadata": {},
     "output_type": "display_data"
    }
   ],
   "source": [
    "meanSize = df.fileSizeBytes.mean()\n",
    "medianSize = df.fileSizeBytes.median()\n",
    "\n",
    "\n",
    "print (\"Average file size in MD: %0.2f \" % (meanSize / (1024 * 1024)))\n",
    "print (\"Median file size in MD: %0.2f \" % (medianSize / (1024 * 1024)))\n",
    "\n",
    "df.fileSizeBytes.plot(figsize=(10,6))"
   ]
  },
  {
   "cell_type": "code",
   "execution_count": 12,
   "metadata": {},
   "outputs": [
    {
     "data": {
      "text/html": [
       "<div>\n",
       "<table border=\"1\" class=\"dataframe\">\n",
       "  <thead>\n",
       "    <tr style=\"text-align: right;\">\n",
       "      <th></th>\n",
       "      <th>bundleId</th>\n",
       "      <th>trackName</th>\n",
       "      <th>IsUniversal</th>\n",
       "      <th>fileSizeInMB</th>\n",
       "    </tr>\n",
       "  </thead>\n",
       "  <tbody>\n",
       "    <tr>\n",
       "      <th>0</th>\n",
       "      <td>com.aaa.iphone.discounts</td>\n",
       "      <td>AAA Mobile</td>\n",
       "      <td>True</td>\n",
       "      <td>153.721680</td>\n",
       "    </tr>\n",
       "    <tr>\n",
       "      <th>1</th>\n",
       "      <td>com.nextgenreality.gunclublite</td>\n",
       "      <td>AAA GUN CLUB lite</td>\n",
       "      <td>False</td>\n",
       "      <td>29.033732</td>\n",
       "    </tr>\n",
       "    <tr>\n",
       "      <th>2</th>\n",
       "      <td>com.mcgames.chaosstrike2</td>\n",
       "      <td>Vanguard Online - AAA Shooting Free Online Gam...</td>\n",
       "      <td>True</td>\n",
       "      <td>174.367188</td>\n",
       "    </tr>\n",
       "    <tr>\n",
       "      <th>3</th>\n",
       "      <td>com.BulletParty.BunboGames</td>\n",
       "      <td>AAA Bullet Party - Online first person shooter...</td>\n",
       "      <td>True</td>\n",
       "      <td>1182.394531</td>\n",
       "    </tr>\n",
       "    <tr>\n",
       "      <th>4</th>\n",
       "      <td>com.fmapp2010.ISearchFree</td>\n",
       "      <td>iSheacher</td>\n",
       "      <td>False</td>\n",
       "      <td>1.434688</td>\n",
       "    </tr>\n",
       "    <tr>\n",
       "      <th>5</th>\n",
       "      <td>com.onteca.civilwarlite</td>\n",
       "      <td>AAA American Civil War Cannon Shooter : Defend...</td>\n",
       "      <td>True</td>\n",
       "      <td>107.042969</td>\n",
       "    </tr>\n",
       "    <tr>\n",
       "      <th>6</th>\n",
       "      <td>com.appynation.powertoolsfree</td>\n",
       "      <td>Draw with Powertools FX Free</td>\n",
       "      <td>True</td>\n",
       "      <td>56.867188</td>\n",
       "    </tr>\n",
       "    <tr>\n",
       "      <th>7</th>\n",
       "      <td>com.1361447304.4691361447304</td>\n",
       "      <td>AAA+ Foundr - Entrepreneur Magazine for a Startup</td>\n",
       "      <td>True</td>\n",
       "      <td>32.477539</td>\n",
       "    </tr>\n",
       "    <tr>\n",
       "      <th>8</th>\n",
       "      <td>com.1443792976.11461443792976</td>\n",
       "      <td>AAA+ Swimsuits &amp; Sports Magazine App For Men</td>\n",
       "      <td>True</td>\n",
       "      <td>37.444336</td>\n",
       "    </tr>\n",
       "    <tr>\n",
       "      <th>9</th>\n",
       "      <td>com.AnjaneyaApps.AAA1024Free</td>\n",
       "      <td>AAA 1024 Puzzle - cool math board game</td>\n",
       "      <td>True</td>\n",
       "      <td>13.113281</td>\n",
       "    </tr>\n",
       "  </tbody>\n",
       "</table>\n",
       "</div>"
      ],
      "text/plain": [
       "                         bundleId  \\\n",
       "0        com.aaa.iphone.discounts   \n",
       "1  com.nextgenreality.gunclublite   \n",
       "2        com.mcgames.chaosstrike2   \n",
       "3      com.BulletParty.BunboGames   \n",
       "4       com.fmapp2010.ISearchFree   \n",
       "5         com.onteca.civilwarlite   \n",
       "6   com.appynation.powertoolsfree   \n",
       "7    com.1361447304.4691361447304   \n",
       "8   com.1443792976.11461443792976   \n",
       "9    com.AnjaneyaApps.AAA1024Free   \n",
       "\n",
       "                                           trackName IsUniversal  fileSizeInMB  \n",
       "0                                         AAA Mobile        True    153.721680  \n",
       "1                                  AAA GUN CLUB lite       False     29.033732  \n",
       "2  Vanguard Online - AAA Shooting Free Online Gam...        True    174.367188  \n",
       "3  AAA Bullet Party - Online first person shooter...        True   1182.394531  \n",
       "4                                          iSheacher       False      1.434688  \n",
       "5  AAA American Civil War Cannon Shooter : Defend...        True    107.042969  \n",
       "6                       Draw with Powertools FX Free        True     56.867188  \n",
       "7  AAA+ Foundr - Entrepreneur Magazine for a Startup        True     32.477539  \n",
       "8       AAA+ Swimsuits & Sports Magazine App For Men        True     37.444336  \n",
       "9             AAA 1024 Puzzle - cool math board game        True     13.113281  "
      ]
     },
     "execution_count": 12,
     "metadata": {},
     "output_type": "execute_result"
    }
   ],
   "source": [
    "data['fileSizeInMB'] = df['fileSizeBytes'].apply(lambda x: x / (1024 * 1024))\n",
    "data.head(10)"
   ]
  },
  {
   "cell_type": "markdown",
   "metadata": {},
   "source": [
    "### (6) contentAdvisoryRating"
   ]
  },
  {
   "cell_type": "code",
   "execution_count": 13,
   "metadata": {},
   "outputs": [
    {
     "name": "stdout",
     "output_type": "stream",
     "text": [
      "4+               115689\n",
      "17+               15912\n",
      "12+               14470\n",
      "9+                 5972\n",
      "Not yet rated         4\n",
      "Name: contentAdvisoryRating, dtype: int64\n",
      "\n",
      "Normalized distribution\n",
      "4+               0.760877\n",
      "17+              0.104652\n",
      "12+              0.095168\n",
      "9+               0.039277\n",
      "Not yet rated    0.000026\n",
      "Name: contentAdvisoryRating, dtype: float64\n"
     ]
    },
    {
     "data": {
      "text/plain": [
       "<matplotlib.axes._subplots.AxesSubplot at 0x1d44caf36a0>"
      ]
     },
     "execution_count": 13,
     "metadata": {},
     "output_type": "execute_result"
    },
    {
     "data": {
      "image/png": "[encoded data removed]",
      "text/plain": [
       "<matplotlib.figure.Figure at 0x1d448dfb6d8>"
      ]
     },
     "metadata": {},
     "output_type": "display_data"
    },
    {
     "data": {
      "image/png": "[encoded data removed]",
      "text/plain": [
       "<matplotlib.figure.Figure at 0x1d44cb03518>"
      ]
     },
     "metadata": {},
     "output_type": "display_data"
    }
   ],
   "source": [
    "print (df.contentAdvisoryRating.value_counts())\n",
    "print ()\n",
    "print (\"Normalized distribution\")\n",
    "print (df.contentAdvisoryRating.value_counts(normalize =True))\n",
    "\n",
    "_ct = pd.crosstab(df.contentAdvisoryRating, \"count\")\n",
    "_ct.plot(kind=\"pie\", subplots=True)\n",
    "\n",
    "_ct.plot(kind=\"bar\")"
   ]
  },
  {
   "cell_type": "code",
   "execution_count": 14,
   "metadata": {
    "collapsed": true
   },
   "outputs": [],
   "source": [
    "data['contentAdvisoryRating'] = df['contentAdvisoryRating']"
   ]
  },
  {
   "cell_type": "markdown",
   "metadata": {},
   "source": [
    "**Summary**: while nearly `75%` is `4+` rated apps other seem to have a meaning full distribution as well;\n",
    "### (7) genreIds\n",
    "\n",
    "This feature intutively seem to be highly correlated to `genres` property; So we shall rather look at that in place of this;\n",
    "\n",
    "### (8) currentVersionReleaseDate\n",
    "release date of current version; seems an interesting property which doens't need much preprocessing we will keep it as such;"
   ]
  },
  {
   "cell_type": "code",
   "execution_count": 15,
   "metadata": {
    "collapsed": true
   },
   "outputs": [],
   "source": [
    "data['currentVersionReleaseDate'] = df.currentVersionReleaseDate"
   ]
  },
  {
   "cell_type": "markdown",
   "metadata": {},
   "source": [
    "### (9) currency"
   ]
  },
  {
   "cell_type": "code",
   "execution_count": 16,
   "metadata": {},
   "outputs": [
    {
     "data": {
      "text/plain": [
       "USD    152047\n",
       "Name: currency, dtype: int64"
      ]
     },
     "execution_count": 16,
     "metadata": {},
     "output_type": "execute_result"
    }
   ],
   "source": [
    "df.currency.value_counts()"
   ]
  },
  {
   "cell_type": "markdown",
   "metadata": {},
   "source": [
    "All values are USD hence we will ignore\n",
    "### (10) wrapperType"
   ]
  },
  {
   "cell_type": "code",
   "execution_count": 17,
   "metadata": {},
   "outputs": [
    {
     "data": {
      "text/plain": [
       "software    152047\n",
       "Name: wrapperType, dtype: int64"
      ]
     },
     "execution_count": 17,
     "metadata": {},
     "output_type": "execute_result"
    }
   ],
   "source": [
    "df.wrapperType.value_counts()"
   ]
  },
  {
   "cell_type": "markdown",
   "metadata": {},
   "source": [
    "all values are software; hence we will ignore\n",
    "### (11) version"
   ]
  },
  {
   "cell_type": "code",
   "execution_count": 18,
   "metadata": {},
   "outputs": [
    {
     "data": {
      "text/plain": [
       "1.0      27322\n",
       "1.1      10589\n",
       "1.2       6362\n",
       "2.0       3916\n",
       "1.3       3715\n",
       "1.0.1     3329\n",
       "1.4       2749\n",
       "1.0.0     2441\n",
       "1.0.2     2055\n",
       "1.5       2007\n",
       "2.1       1865\n",
       "3.0       1581\n",
       "1.6       1411\n",
       "1.0.3     1370\n",
       "2.2       1220\n",
       "1.1.0     1127\n",
       "1.1.1      986\n",
       "1.7        952\n",
       "1.0.4      902\n",
       "4.0        822\n",
       "Name: version, dtype: int64"
      ]
     },
     "execution_count": 18,
     "metadata": {},
     "output_type": "execute_result"
    }
   ],
   "source": [
    "df.version.value_counts().head(20)"
   ]
  },
  {
   "cell_type": "markdown",
   "metadata": {},
   "source": [
    "**Summary**\n",
    " - This seem to be string like property which can have any value;\n",
    " We can maybe extract features like major version and subversions"
   ]
  },
  {
   "cell_type": "code",
   "execution_count": 19,
   "metadata": {},
   "outputs": [
    {
     "data": {
      "text/html": [
       "<div>\n",
       "<table border=\"1\" class=\"dataframe\">\n",
       "  <thead>\n",
       "    <tr style=\"text-align: right;\">\n",
       "      <th></th>\n",
       "      <th>bundleId</th>\n",
       "      <th>version</th>\n",
       "      <th>subversion</th>\n",
       "    </tr>\n",
       "  </thead>\n",
       "  <tbody>\n",
       "    <tr>\n",
       "      <th>0</th>\n",
       "      <td>com.aaa.iphone.discounts</td>\n",
       "      <td>3</td>\n",
       "      <td>3.11</td>\n",
       "    </tr>\n",
       "    <tr>\n",
       "      <th>1</th>\n",
       "      <td>com.nextgenreality.gunclublite</td>\n",
       "      <td>1</td>\n",
       "      <td>1.7</td>\n",
       "    </tr>\n",
       "    <tr>\n",
       "      <th>2</th>\n",
       "      <td>com.mcgames.chaosstrike2</td>\n",
       "      <td>2</td>\n",
       "      <td>2.0</td>\n",
       "    </tr>\n",
       "    <tr>\n",
       "      <th>3</th>\n",
       "      <td>com.BulletParty.BunboGames</td>\n",
       "      <td>1</td>\n",
       "      <td>1.0</td>\n",
       "    </tr>\n",
       "    <tr>\n",
       "      <th>4</th>\n",
       "      <td>com.fmapp2010.ISearchFree</td>\n",
       "      <td>1</td>\n",
       "      <td>1.3</td>\n",
       "    </tr>\n",
       "    <tr>\n",
       "      <th>5</th>\n",
       "      <td>com.onteca.civilwarlite</td>\n",
       "      <td>4</td>\n",
       "      <td>4.1</td>\n",
       "    </tr>\n",
       "    <tr>\n",
       "      <th>6</th>\n",
       "      <td>com.appynation.powertoolsfree</td>\n",
       "      <td>2</td>\n",
       "      <td>2.7</td>\n",
       "    </tr>\n",
       "    <tr>\n",
       "      <th>7</th>\n",
       "      <td>com.1361447304.4691361447304</td>\n",
       "      <td>7</td>\n",
       "      <td>7.8</td>\n",
       "    </tr>\n",
       "    <tr>\n",
       "      <th>8</th>\n",
       "      <td>com.1443792976.11461443792976</td>\n",
       "      <td>7</td>\n",
       "      <td>7.8</td>\n",
       "    </tr>\n",
       "    <tr>\n",
       "      <th>9</th>\n",
       "      <td>com.AnjaneyaApps.AAA1024Free</td>\n",
       "      <td>1</td>\n",
       "      <td>1.2</td>\n",
       "    </tr>\n",
       "  </tbody>\n",
       "</table>\n",
       "</div>"
      ],
      "text/plain": [
       "                         bundleId version subversion\n",
       "0        com.aaa.iphone.discounts       3       3.11\n",
       "1  com.nextgenreality.gunclublite       1        1.7\n",
       "2        com.mcgames.chaosstrike2       2        2.0\n",
       "3      com.BulletParty.BunboGames       1        1.0\n",
       "4       com.fmapp2010.ISearchFree       1        1.3\n",
       "5         com.onteca.civilwarlite       4        4.1\n",
       "6   com.appynation.powertoolsfree       2        2.7\n",
       "7    com.1361447304.4691361447304       7        7.8\n",
       "8   com.1443792976.11461443792976       7        7.8\n",
       "9    com.AnjaneyaApps.AAA1024Free       1        1.2"
      ]
     },
     "execution_count": 19,
     "metadata": {},
     "output_type": "execute_result"
    }
   ],
   "source": [
    "def getMajorVersion(ver):\n",
    "    return ver.split('.')[0]\n",
    "\n",
    "def getMajorSubVersion(ver):\n",
    "    splt = ver.split('.')\n",
    "    if len(splt) >= 2:\n",
    "        return \".\".join(splt[0:2])\n",
    "    return splt[0] +\".0\"\n",
    "\n",
    "data['version'] = df['version'].apply(lambda x: getMajorVersion(x))\n",
    "data['subversion'] = df['version'].apply(lambda x: getMajorSubVersion(x))\n",
    "\n",
    "data[['bundleId', 'version', 'subversion']].head(10)"
   ]
  },
  {
   "cell_type": "markdown",
   "metadata": {},
   "source": [
    "### (12) artistName"
   ]
  },
  {
   "cell_type": "code",
   "execution_count": 20,
   "metadata": {},
   "outputs": [
    {
     "name": "stdout",
     "output_type": "stream",
     "text": [
      "artists with max applications\n"
     ]
    },
    {
     "data": {
      "text/plain": [
       "CrowdCompass, Inc.                      789\n",
       "eChurch Apps                            594\n",
       "Subsplash Inc                           499\n",
       "MINDBODY, Incorporated                  441\n",
       "FMG Suite                               432\n",
       "DoubleDutch                             384\n",
       "KitApps, Inc.                           317\n",
       "SKOOLBAG PTY LTD                        258\n",
       "AppsVision                              236\n",
       "EventMobi                               210\n",
       "Sharefaith                              207\n",
       "Ketchapp                                200\n",
       "ChowNow                                 176\n",
       "Eteg Tecnologia da Informacao Ltda.     172\n",
       "Tapps Tecnologia da Informação Ltda.    166\n",
       "Magzter Inc.                            163\n",
       "Andrew Lakin                            163\n",
       "AGT Geocentre                           136\n",
       "AGN Sports                              135\n",
       "TabTale LTD                             132\n",
       "Name: artistName, dtype: int64"
      ]
     },
     "execution_count": 20,
     "metadata": {},
     "output_type": "execute_result"
    }
   ],
   "source": [
    "print (\"artists with max applications\")\n",
    "df.artistName.value_counts().head(20)"
   ]
  },
  {
   "cell_type": "code",
   "execution_count": 21,
   "metadata": {
    "collapsed": true
   },
   "outputs": [],
   "source": [
    "data['artist'] = df['artistName']"
   ]
  },
  {
   "cell_type": "markdown",
   "metadata": {},
   "source": [
    "### (13) artistId:\n",
    "might is highly correlated to artistName and hence will ignore\n",
    "\n",
    "### (14) genres\n",
    "This is one of very important property; Let's do some analysis here"
   ]
  },
  {
   "cell_type": "code",
   "execution_count": 22,
   "metadata": {
    "collapsed": true
   },
   "outputs": [],
   "source": [
    "import json\n",
    "genres = {}\n",
    "for genreString in df.genres.values:\n",
    "    gs = json.loads(genreString)\n",
    "    for g in gs:\n",
    "        if g not in genres:\n",
    "            genres[g] = 0\n",
    "        genres[g] = genres[g] + 1"
   ]
  },
  {
   "cell_type": "code",
   "execution_count": 23,
   "metadata": {},
   "outputs": [
    {
     "data": {
      "text/html": [
       "<div>\n",
       "<table border=\"1\" class=\"dataframe\">\n",
       "  <thead>\n",
       "    <tr style=\"text-align: right;\">\n",
       "      <th></th>\n",
       "      <th>genre</th>\n",
       "      <th>count</th>\n",
       "    </tr>\n",
       "  </thead>\n",
       "  <tbody>\n",
       "    <tr>\n",
       "      <th>0</th>\n",
       "      <td>Productivity</td>\n",
       "      <td>13092</td>\n",
       "    </tr>\n",
       "    <tr>\n",
       "      <th>1</th>\n",
       "      <td>Lifestyle</td>\n",
       "      <td>21424</td>\n",
       "    </tr>\n",
       "    <tr>\n",
       "      <th>2</th>\n",
       "      <td>Sports</td>\n",
       "      <td>9946</td>\n",
       "    </tr>\n",
       "    <tr>\n",
       "      <th>3</th>\n",
       "      <td>Trivia</td>\n",
       "      <td>2897</td>\n",
       "    </tr>\n",
       "    <tr>\n",
       "      <th>4</th>\n",
       "      <td>Finance</td>\n",
       "      <td>8503</td>\n",
       "    </tr>\n",
       "    <tr>\n",
       "      <th>5</th>\n",
       "      <td>Medical</td>\n",
       "      <td>6617</td>\n",
       "    </tr>\n",
       "    <tr>\n",
       "      <th>6</th>\n",
       "      <td>Racing</td>\n",
       "      <td>3066</td>\n",
       "    </tr>\n",
       "    <tr>\n",
       "      <th>7</th>\n",
       "      <td>Music</td>\n",
       "      <td>7662</td>\n",
       "    </tr>\n",
       "    <tr>\n",
       "      <th>8</th>\n",
       "      <td>Board</td>\n",
       "      <td>2384</td>\n",
       "    </tr>\n",
       "    <tr>\n",
       "      <th>9</th>\n",
       "      <td>News</td>\n",
       "      <td>5702</td>\n",
       "    </tr>\n",
       "  </tbody>\n",
       "</table>\n",
       "</div>"
      ],
      "text/plain": [
       "          genre  count\n",
       "0  Productivity  13092\n",
       "1     Lifestyle  21424\n",
       "2        Sports   9946\n",
       "3        Trivia   2897\n",
       "4       Finance   8503\n",
       "5       Medical   6617\n",
       "6        Racing   3066\n",
       "7         Music   7662\n",
       "8         Board   2384\n",
       "9          News   5702"
      ]
     },
     "execution_count": 23,
     "metadata": {},
     "output_type": "execute_result"
    }
   ],
   "source": [
    "gdf = pd.DataFrame([[k,v] for k,v in genres.items()], columns=['genre', 'count'])\n",
    "gdf.head(10)"
   ]
  },
  {
   "cell_type": "code",
   "execution_count": 24,
   "metadata": {
    "collapsed": true
   },
   "outputs": [],
   "source": [
    "gs = gdf.sort_values([\"count\"], axis=0, ascending=False)"
   ]
  },
  {
   "cell_type": "code",
   "execution_count": 25,
   "metadata": {
    "scrolled": false
   },
   "outputs": [
    {
     "data": {
      "text/plain": [
       "<matplotlib.text.Text at 0x1d44dbbd048>"
      ]
     },
     "execution_count": 25,
     "metadata": {},
     "output_type": "execute_result"
    },
    {
     "data": {
      "image/png": "[encoded data removed]",
      "text/plain": [
       "<matplotlib.figure.Figure at 0x1d44db97cf8>"
      ]
     },
     "metadata": {},
     "output_type": "display_data"
    }
   ],
   "source": [
    "plt.figure(figsize=(15, 7))\n",
    "fx = sns.barplot(x='genre', y='count', data=gs.head(15))\n",
    "fx.set_xticklabels(rotation=90, labels=gs['genre'])\n",
    "plt.title(\"Distribution by genres\")"
   ]
  },
  {
   "cell_type": "code",
   "execution_count": 26,
   "metadata": {},
   "outputs": [
    {
     "data": {
      "text/html": [
       "<div>\n",
       "<table border=\"1\" class=\"dataframe\">\n",
       "  <thead>\n",
       "    <tr style=\"text-align: right;\">\n",
       "      <th></th>\n",
       "      <th>bundleId</th>\n",
       "      <th>trackName</th>\n",
       "      <th>IsUniversal</th>\n",
       "      <th>fileSizeInMB</th>\n",
       "      <th>contentAdvisoryRating</th>\n",
       "      <th>currentVersionReleaseDate</th>\n",
       "      <th>version</th>\n",
       "      <th>subversion</th>\n",
       "      <th>artist</th>\n",
       "      <th>genres</th>\n",
       "    </tr>\n",
       "  </thead>\n",
       "  <tbody>\n",
       "    <tr>\n",
       "      <th>0</th>\n",
       "      <td>com.aaa.iphone.discounts</td>\n",
       "      <td>AAA Mobile</td>\n",
       "      <td>True</td>\n",
       "      <td>153.721680</td>\n",
       "      <td>4+</td>\n",
       "      <td>2017-12-19T13:23:36Z</td>\n",
       "      <td>3</td>\n",
       "      <td>3.11</td>\n",
       "      <td>American Automobile Association</td>\n",
       "      <td>[\"Lifestyle\", \"Travel\"]</td>\n",
       "    </tr>\n",
       "    <tr>\n",
       "      <th>1</th>\n",
       "      <td>com.nextgenreality.gunclublite</td>\n",
       "      <td>AAA GUN CLUB lite</td>\n",
       "      <td>False</td>\n",
       "      <td>29.033732</td>\n",
       "      <td>9+</td>\n",
       "      <td>2009-11-07T02:12:31Z</td>\n",
       "      <td>1</td>\n",
       "      <td>1.7</td>\n",
       "      <td>Gun Club Studios</td>\n",
       "      <td>[\"Entertainment\", \"Games\", \"Simulation\", \"Acti...</td>\n",
       "    </tr>\n",
       "    <tr>\n",
       "      <th>2</th>\n",
       "      <td>com.mcgames.chaosstrike2</td>\n",
       "      <td>Vanguard Online - AAA Shooting Free Online Gam...</td>\n",
       "      <td>True</td>\n",
       "      <td>174.367188</td>\n",
       "      <td>12+</td>\n",
       "      <td>2016-06-13T17:52:01Z</td>\n",
       "      <td>2</td>\n",
       "      <td>2.0</td>\n",
       "      <td>Hasim Mert Corekci</td>\n",
       "      <td>[\"Games\", \"Arcade\", \"Action\"]</td>\n",
       "    </tr>\n",
       "    <tr>\n",
       "      <th>3</th>\n",
       "      <td>com.BulletParty.BunboGames</td>\n",
       "      <td>AAA Bullet Party - Online first person shooter...</td>\n",
       "      <td>True</td>\n",
       "      <td>1182.394531</td>\n",
       "      <td>17+</td>\n",
       "      <td>2015-04-22T15:01:15Z</td>\n",
       "      <td>1</td>\n",
       "      <td>1.0</td>\n",
       "      <td>Engin Yildiz</td>\n",
       "      <td>[\"Games\", \"Arcade\", \"Action\"]</td>\n",
       "    </tr>\n",
       "    <tr>\n",
       "      <th>4</th>\n",
       "      <td>com.fmapp2010.ISearchFree</td>\n",
       "      <td>iSheacher</td>\n",
       "      <td>False</td>\n",
       "      <td>1.434688</td>\n",
       "      <td>17+</td>\n",
       "      <td>2011-11-23T01:52:45Z</td>\n",
       "      <td>1</td>\n",
       "      <td>1.3</td>\n",
       "      <td>feng min</td>\n",
       "      <td>[\"Photo &amp; Video\", \"Utilities\"]</td>\n",
       "    </tr>\n",
       "    <tr>\n",
       "      <th>5</th>\n",
       "      <td>com.onteca.civilwarlite</td>\n",
       "      <td>AAA American Civil War Cannon Shooter : Defend...</td>\n",
       "      <td>True</td>\n",
       "      <td>107.042969</td>\n",
       "      <td>9+</td>\n",
       "      <td>2015-06-29T16:38:41Z</td>\n",
       "      <td>4</td>\n",
       "      <td>4.1</td>\n",
       "      <td>Onteca</td>\n",
       "      <td>[\"Games\", \"Entertainment\", \"Strategy\", \"Simula...</td>\n",
       "    </tr>\n",
       "    <tr>\n",
       "      <th>6</th>\n",
       "      <td>com.appynation.powertoolsfree</td>\n",
       "      <td>Draw with Powertools FX Free</td>\n",
       "      <td>True</td>\n",
       "      <td>56.867188</td>\n",
       "      <td>4+</td>\n",
       "      <td>2016-01-12T23:42:31Z</td>\n",
       "      <td>2</td>\n",
       "      <td>2.7</td>\n",
       "      <td>Onteca</td>\n",
       "      <td>[\"Games\", \"Photo &amp; Video\", \"Trivia\", \"Board\"]</td>\n",
       "    </tr>\n",
       "    <tr>\n",
       "      <th>7</th>\n",
       "      <td>com.1361447304.4691361447304</td>\n",
       "      <td>AAA+ Foundr - Entrepreneur Magazine for a Startup</td>\n",
       "      <td>True</td>\n",
       "      <td>32.477539</td>\n",
       "      <td>4+</td>\n",
       "      <td>2017-05-12T22:18:51Z</td>\n",
       "      <td>7</td>\n",
       "      <td>7.8</td>\n",
       "      <td>NHC PUBLISHING PTY. LTD</td>\n",
       "      <td>[\"Business\", \"Magazines &amp; Newspapers\"]</td>\n",
       "    </tr>\n",
       "    <tr>\n",
       "      <th>8</th>\n",
       "      <td>com.1443792976.11461443792976</td>\n",
       "      <td>AAA+ Swimsuits &amp; Sports Magazine App For Men</td>\n",
       "      <td>True</td>\n",
       "      <td>37.444336</td>\n",
       "      <td>17+</td>\n",
       "      <td>2017-02-14T21:57:51Z</td>\n",
       "      <td>7</td>\n",
       "      <td>7.8</td>\n",
       "      <td>azacreations</td>\n",
       "      <td>[\"Magazines &amp; Newspapers\", \"Sports\"]</td>\n",
       "    </tr>\n",
       "    <tr>\n",
       "      <th>9</th>\n",
       "      <td>com.AnjaneyaApps.AAA1024Free</td>\n",
       "      <td>AAA 1024 Puzzle - cool math board game</td>\n",
       "      <td>True</td>\n",
       "      <td>13.113281</td>\n",
       "      <td>4+</td>\n",
       "      <td>2014-05-28T07:00:00Z</td>\n",
       "      <td>1</td>\n",
       "      <td>1.2</td>\n",
       "      <td>Bharat Bhushan</td>\n",
       "      <td>[\"Games\", \"Puzzle\", \"Entertainment\", \"Family\"]</td>\n",
       "    </tr>\n",
       "  </tbody>\n",
       "</table>\n",
       "</div>"
      ],
      "text/plain": [
       "                         bundleId  \\\n",
       "0        com.aaa.iphone.discounts   \n",
       "1  com.nextgenreality.gunclublite   \n",
       "2        com.mcgames.chaosstrike2   \n",
       "3      com.BulletParty.BunboGames   \n",
       "4       com.fmapp2010.ISearchFree   \n",
       "5         com.onteca.civilwarlite   \n",
       "6   com.appynation.powertoolsfree   \n",
       "7    com.1361447304.4691361447304   \n",
       "8   com.1443792976.11461443792976   \n",
       "9    com.AnjaneyaApps.AAA1024Free   \n",
       "\n",
       "                                           trackName IsUniversal  \\\n",
       "0                                         AAA Mobile        True   \n",
       "1                                  AAA GUN CLUB lite       False   \n",
       "2  Vanguard Online - AAA Shooting Free Online Gam...        True   \n",
       "3  AAA Bullet Party - Online first person shooter...        True   \n",
       "4                                          iSheacher       False   \n",
       "5  AAA American Civil War Cannon Shooter : Defend...        True   \n",
       "6                       Draw with Powertools FX Free        True   \n",
       "7  AAA+ Foundr - Entrepreneur Magazine for a Startup        True   \n",
       "8       AAA+ Swimsuits & Sports Magazine App For Men        True   \n",
       "9             AAA 1024 Puzzle - cool math board game        True   \n",
       "\n",
       "   fileSizeInMB contentAdvisoryRating currentVersionReleaseDate version  \\\n",
       "0    153.721680                    4+      2017-12-19T13:23:36Z       3   \n",
       "1     29.033732                    9+      2009-11-07T02:12:31Z       1   \n",
       "2    174.367188                   12+      2016-06-13T17:52:01Z       2   \n",
       "3   1182.394531                   17+      2015-04-22T15:01:15Z       1   \n",
       "4      1.434688                   17+      2011-11-23T01:52:45Z       1   \n",
       "5    107.042969                    9+      2015-06-29T16:38:41Z       4   \n",
       "6     56.867188                    4+      2016-01-12T23:42:31Z       2   \n",
       "7     32.477539                    4+      2017-05-12T22:18:51Z       7   \n",
       "8     37.444336                   17+      2017-02-14T21:57:51Z       7   \n",
       "9     13.113281                    4+      2014-05-28T07:00:00Z       1   \n",
       "\n",
       "  subversion                           artist  \\\n",
       "0       3.11  American Automobile Association   \n",
       "1        1.7                 Gun Club Studios   \n",
       "2        2.0               Hasim Mert Corekci   \n",
       "3        1.0                     Engin Yildiz   \n",
       "4        1.3                         feng min   \n",
       "5        4.1                           Onteca   \n",
       "6        2.7                           Onteca   \n",
       "7        7.8          NHC PUBLISHING PTY. LTD   \n",
       "8        7.8                     azacreations   \n",
       "9        1.2                   Bharat Bhushan   \n",
       "\n",
       "                                              genres  \n",
       "0                            [\"Lifestyle\", \"Travel\"]  \n",
       "1  [\"Entertainment\", \"Games\", \"Simulation\", \"Acti...  \n",
       "2                      [\"Games\", \"Arcade\", \"Action\"]  \n",
       "3                      [\"Games\", \"Arcade\", \"Action\"]  \n",
       "4                     [\"Photo & Video\", \"Utilities\"]  \n",
       "5  [\"Games\", \"Entertainment\", \"Strategy\", \"Simula...  \n",
       "6      [\"Games\", \"Photo & Video\", \"Trivia\", \"Board\"]  \n",
       "7             [\"Business\", \"Magazines & Newspapers\"]  \n",
       "8               [\"Magazines & Newspapers\", \"Sports\"]  \n",
       "9     [\"Games\", \"Puzzle\", \"Entertainment\", \"Family\"]  "
      ]
     },
     "execution_count": 26,
     "metadata": {},
     "output_type": "execute_result"
    }
   ],
   "source": [
    "data['genres'] = df['genres']\n",
    "data.head(10)"
   ]
  },
  {
   "cell_type": "markdown",
   "metadata": {},
   "source": [
    "### (15) Price\n",
    "One of most important field"
   ]
  },
  {
   "cell_type": "code",
   "execution_count": 27,
   "metadata": {},
   "outputs": [
    {
     "name": "stdout",
     "output_type": "stream",
     "text": [
      "% Free: 89.683 %\n"
     ]
    }
   ],
   "source": [
    "percentageFree = df[df.price == 0].shape[0] / df.shape[0] * 100\n",
    "\n",
    "print (\"%% Free: %0.3f %%\" % percentageFree)"
   ]
  },
  {
   "cell_type": "code",
   "execution_count": 28,
   "metadata": {
    "collapsed": true
   },
   "outputs": [],
   "source": [
    "data['price'] = df['price']"
   ]
  },
  {
   "cell_type": "code",
   "execution_count": 29,
   "metadata": {},
   "outputs": [
    {
     "data": {
      "text/html": [
       "<div>\n",
       "<table border=\"1\" class=\"dataframe\">\n",
       "  <thead>\n",
       "    <tr style=\"text-align: right;\">\n",
       "      <th></th>\n",
       "      <th>bundleId</th>\n",
       "      <th>trackName</th>\n",
       "      <th>IsUniversal</th>\n",
       "      <th>fileSizeInMB</th>\n",
       "      <th>contentAdvisoryRating</th>\n",
       "      <th>currentVersionReleaseDate</th>\n",
       "      <th>version</th>\n",
       "      <th>subversion</th>\n",
       "      <th>artist</th>\n",
       "      <th>genres</th>\n",
       "      <th>price</th>\n",
       "    </tr>\n",
       "  </thead>\n",
       "  <tbody>\n",
       "    <tr>\n",
       "      <th>0</th>\n",
       "      <td>com.aaa.iphone.discounts</td>\n",
       "      <td>AAA Mobile</td>\n",
       "      <td>True</td>\n",
       "      <td>153.721680</td>\n",
       "      <td>4+</td>\n",
       "      <td>2017-12-19T13:23:36Z</td>\n",
       "      <td>3</td>\n",
       "      <td>3.11</td>\n",
       "      <td>American Automobile Association</td>\n",
       "      <td>[\"Lifestyle\", \"Travel\"]</td>\n",
       "      <td>0.0</td>\n",
       "    </tr>\n",
       "    <tr>\n",
       "      <th>1</th>\n",
       "      <td>com.nextgenreality.gunclublite</td>\n",
       "      <td>AAA GUN CLUB lite</td>\n",
       "      <td>False</td>\n",
       "      <td>29.033732</td>\n",
       "      <td>9+</td>\n",
       "      <td>2009-11-07T02:12:31Z</td>\n",
       "      <td>1</td>\n",
       "      <td>1.7</td>\n",
       "      <td>Gun Club Studios</td>\n",
       "      <td>[\"Entertainment\", \"Games\", \"Simulation\", \"Acti...</td>\n",
       "      <td>0.0</td>\n",
       "    </tr>\n",
       "    <tr>\n",
       "      <th>2</th>\n",
       "      <td>com.mcgames.chaosstrike2</td>\n",
       "      <td>Vanguard Online - AAA Shooting Free Online Gam...</td>\n",
       "      <td>True</td>\n",
       "      <td>174.367188</td>\n",
       "      <td>12+</td>\n",
       "      <td>2016-06-13T17:52:01Z</td>\n",
       "      <td>2</td>\n",
       "      <td>2.0</td>\n",
       "      <td>Hasim Mert Corekci</td>\n",
       "      <td>[\"Games\", \"Arcade\", \"Action\"]</td>\n",
       "      <td>0.0</td>\n",
       "    </tr>\n",
       "  </tbody>\n",
       "</table>\n",
       "</div>"
      ],
      "text/plain": [
       "                         bundleId  \\\n",
       "0        com.aaa.iphone.discounts   \n",
       "1  com.nextgenreality.gunclublite   \n",
       "2        com.mcgames.chaosstrike2   \n",
       "\n",
       "                                           trackName IsUniversal  \\\n",
       "0                                         AAA Mobile        True   \n",
       "1                                  AAA GUN CLUB lite       False   \n",
       "2  Vanguard Online - AAA Shooting Free Online Gam...        True   \n",
       "\n",
       "   fileSizeInMB contentAdvisoryRating currentVersionReleaseDate version  \\\n",
       "0    153.721680                    4+      2017-12-19T13:23:36Z       3   \n",
       "1     29.033732                    9+      2009-11-07T02:12:31Z       1   \n",
       "2    174.367188                   12+      2016-06-13T17:52:01Z       2   \n",
       "\n",
       "  subversion                           artist  \\\n",
       "0       3.11  American Automobile Association   \n",
       "1        1.7                 Gun Club Studios   \n",
       "2        2.0               Hasim Mert Corekci   \n",
       "\n",
       "                                              genres  price  \n",
       "0                            [\"Lifestyle\", \"Travel\"]    0.0  \n",
       "1  [\"Entertainment\", \"Games\", \"Simulation\", \"Acti...    0.0  \n",
       "2                      [\"Games\", \"Arcade\", \"Action\"]    0.0  "
      ]
     },
     "execution_count": 29,
     "metadata": {},
     "output_type": "execute_result"
    }
   ],
   "source": [
    "data.head(3)"
   ]
  },
  {
   "cell_type": "markdown",
   "metadata": {},
   "source": [
    "### (16) Description\n",
    "This is a plain text field, will just copy it to new dataframe and use as text features later"
   ]
  },
  {
   "cell_type": "code",
   "execution_count": 30,
   "metadata": {
    "collapsed": true
   },
   "outputs": [],
   "source": [
    "data['description'] = df.description"
   ]
  },
  {
   "cell_type": "markdown",
   "metadata": {},
   "source": [
    "### (17) isVppDeviceBasedLicensingEnabled\n",
    "I don't totally know what this feature means (TODO);\n",
    "99.2% sample have true value rest have false, but stills storing this to actual df"
   ]
  },
  {
   "cell_type": "code",
   "execution_count": 31,
   "metadata": {},
   "outputs": [
    {
     "data": {
      "text/plain": [
       "True     99.23379\n",
       "False     0.76621\n",
       "Name: isVppDeviceBasedLicensingEnabled, dtype: float64"
      ]
     },
     "execution_count": 31,
     "metadata": {},
     "output_type": "execute_result"
    }
   ],
   "source": [
    "df.isVppDeviceBasedLicensingEnabled.value_counts(normalize=True) * 100"
   ]
  },
  {
   "cell_type": "code",
   "execution_count": 32,
   "metadata": {
    "collapsed": true
   },
   "outputs": [],
   "source": [
    "data['isVppDeviceBasedLicensingEnabled'] = df.isVppDeviceBasedLicensingEnabled"
   ]
  },
  {
   "cell_type": "markdown",
   "metadata": {},
   "source": [
    "### (17) primaryGenreName\n",
    "This is an interesting feature"
   ]
  },
  {
   "cell_type": "code",
   "execution_count": 33,
   "metadata": {},
   "outputs": [
    {
     "data": {
      "text/plain": [
       "Games                     21.761692\n",
       "Business                   9.347110\n",
       "Education                  9.330667\n",
       "Entertainment              6.327649\n",
       "Lifestyle                  6.323045\n",
       "Utilities                  5.839642\n",
       "Finance                    4.533467\n",
       "Health & Fitness           3.639664\n",
       "Productivity               3.324630\n",
       "Medical                    3.221372\n",
       "Sports                     3.112853\n",
       "Music                      3.049715\n",
       "Travel                     3.023407\n",
       "Photo & Video              2.667596\n",
       "Reference                  2.509093\n",
       "News                       2.199320\n",
       "Social Networking          1.954001\n",
       "Shopping                   1.918486\n",
       "Food & Drink               1.836932\n",
       "Book                       1.792867\n",
       "Navigation                 1.232514\n",
       "Stickers                   0.545226\n",
       "Weather                    0.436707\n",
       "Magazines & Newspapers     0.072346\n",
       "Name: primaryGenreName, dtype: float64"
      ]
     },
     "execution_count": 33,
     "metadata": {},
     "output_type": "execute_result"
    }
   ],
   "source": [
    "df.primaryGenreName.value_counts(normalize=True) * 100"
   ]
  },
  {
   "cell_type": "code",
   "execution_count": 34,
   "metadata": {},
   "outputs": [
    {
     "data": {
      "text/plain": [
       "<matplotlib.axes._subplots.AxesSubplot at 0x1d448c293c8>"
      ]
     },
     "execution_count": 34,
     "metadata": {},
     "output_type": "execute_result"
    },
    {
     "data": {
      "image/png": "[encoded data removed]",
      "text/plain": [
       "<matplotlib.figure.Figure at 0x1d44db97c88>"
      ]
     },
     "metadata": {},
     "output_type": "display_data"
    }
   ],
   "source": [
    "_ct = pd.crosstab(df.primaryGenreName, \"count\")\n",
    "_ct.plot(kind='bar', figsize=(15, 7))"
   ]
  },
  {
   "cell_type": "code",
   "execution_count": 35,
   "metadata": {
    "collapsed": true
   },
   "outputs": [],
   "source": [
    "data['primaryGenreName'] = df.primaryGenreName"
   ]
  },
  {
   "cell_type": "markdown",
   "metadata": {},
   "source": [
    "### (17) releaseDate\n",
    "released date of app; This could be related to how old the app is"
   ]
  },
  {
   "cell_type": "code",
   "execution_count": 36,
   "metadata": {},
   "outputs": [],
   "source": [
    "# data['releaseDate'] = df.releaseDate\n",
    "from datetime import datetime\n",
    "def getAgeInDays(datestring):\n",
    "    return (datetime.now() - datetime.strptime(datestring, \"%Y-%m-%dT%H:%M:%SZ\")).days\n",
    "\n",
    "data['releaseDate'] = df.releaseDate\n",
    "data['ageInDays'] = df.releaseDate.apply(lambda x: getAgeInDays(x))"
   ]
  },
  {
   "cell_type": "code",
   "execution_count": 37,
   "metadata": {},
   "outputs": [
    {
     "data": {
      "text/plain": [
       "<matplotlib.axes._subplots.AxesSubplot at 0x1d44cd15e48>"
      ]
     },
     "execution_count": 37,
     "metadata": {},
     "output_type": "execute_result"
    },
    {
     "data": {
      "image/png": "[encoded data removed]",
      "text/plain": [
       "<matplotlib.figure.Figure at 0x1d44cd1c780>"
      ]
     },
     "metadata": {},
     "output_type": "display_data"
    }
   ],
   "source": [
    "data['ageInDays'].hist()"
   ]
  },
  {
   "cell_type": "markdown",
   "metadata": {},
   "source": [
    "### (18) minimumOsVersion\n",
    "We will just keep the main version no for simplicity"
   ]
  },
  {
   "cell_type": "code",
   "execution_count": 38,
   "metadata": {
    "collapsed": true
   },
   "outputs": [],
   "source": [
    "def getMajorOSVersion(osver):\n",
    "    return osver.split(\".\")[0]\n",
    "data['minimumOsVersion'] = df.minimumOsVersion.apply(lambda x: getMajorOSVersion(x))"
   ]
  },
  {
   "cell_type": "code",
   "execution_count": 39,
   "metadata": {},
   "outputs": [
    {
     "data": {
      "text/plain": [
       "8     31.439621\n",
       "7     18.854696\n",
       "6     17.125626\n",
       "9     16.012154\n",
       "5      5.462785\n",
       "10     4.393378\n",
       "4      4.349313\n",
       "3      1.744855\n",
       "11     0.417634\n",
       "2      0.199938\n",
       "Name: minimumOsVersion, dtype: float64"
      ]
     },
     "execution_count": 39,
     "metadata": {},
     "output_type": "execute_result"
    }
   ],
   "source": [
    "# % distribution\n",
    "data['minimumOsVersion'].value_counts(normalize=True) * 100"
   ]
  },
  {
   "cell_type": "markdown",
   "metadata": {},
   "source": [
    "### (19) formattedPrice\n",
    "Since we have price we will ignore this\n",
    "\n",
    "### (20) primaryGenreId\n",
    "Since we have string of primary Genre we will ignore this\n",
    "\n",
    "### (21, 22) averageUserRating & avgUserRatingCV\n",
    "This is another most important feature"
   ]
  },
  {
   "cell_type": "code",
   "execution_count": 40,
   "metadata": {},
   "outputs": [
    {
     "data": {
      "text/plain": [
       "null    62.251804\n",
       "4.5     12.058114\n",
       "4.0      8.175761\n",
       "3.5      5.300992\n",
       "3.0      3.787645\n",
       "5.0      3.615987\n",
       "2.5      2.506462\n",
       "2.0      1.441002\n",
       "1.5      0.638618\n",
       "1.0      0.223615\n",
       "Name: averageUserRating, dtype: float64"
      ]
     },
     "execution_count": 40,
     "metadata": {},
     "output_type": "execute_result"
    }
   ],
   "source": [
    "# Actual\n",
    "df.averageUserRating.value_counts(normalize=True) * 100"
   ]
  },
  {
   "cell_type": "code",
   "execution_count": 41,
   "metadata": {},
   "outputs": [
    {
     "data": {
      "text/plain": [
       "null    58.281321\n",
       "5.0     10.167251\n",
       "4.5      9.463521\n",
       "4.0      6.521668\n",
       "3.5      4.003367\n",
       "3.0      3.758048\n",
       "1.0      3.016173\n",
       "2.5      2.093432\n",
       "2.0      1.812597\n",
       "1.5      0.882622\n",
       "Name: avgUserRatingCV, dtype: float64"
      ]
     },
     "execution_count": 41,
     "metadata": {},
     "output_type": "execute_result"
    }
   ],
   "source": [
    "# current version\n",
    "df.avgUserRatingCV.value_counts(normalize=True) * 100"
   ]
  },
  {
   "cell_type": "code",
   "execution_count": 42,
   "metadata": {},
   "outputs": [
    {
     "data": {
      "text/plain": [
       "<matplotlib.text.Text at 0x1d44e232a90>"
      ]
     },
     "execution_count": 42,
     "metadata": {},
     "output_type": "execute_result"
    },
    {
     "data": {
      "image/png": "[encoded data removed]",
      "text/plain": [
       "<matplotlib.figure.Figure at 0x1d44e12d978>"
      ]
     },
     "metadata": {},
     "output_type": "display_data"
    },
    {
     "data": {
      "image/png": "[encoded data removed]",
      "text/plain": [
       "<matplotlib.figure.Figure at 0x1d44e12dbe0>"
      ]
     },
     "metadata": {},
     "output_type": "display_data"
    }
   ],
   "source": [
    "_ct = pd.crosstab(df.averageUserRating, \"Count\")\n",
    "_ct.plot(kind='bar', figsize=(15, 7))\n",
    "plt.title(\"Plot for average user rating\")\n",
    "\n",
    "_ct = pd.crosstab(df.avgUserRatingCV, \"Count\")\n",
    "_ct.plot(kind='bar', figsize=(15, 7))\n",
    "plt.title(\"Plot for average user rating for current version\")"
   ]
  },
  {
   "cell_type": "code",
   "execution_count": 43,
   "metadata": {
    "collapsed": true
   },
   "outputs": [],
   "source": [
    "data['averageUserRating'] = df.averageUserRating\n",
    "data['avgUserRatingCV'] = df.avgUserRatingCV"
   ]
  },
  {
   "cell_type": "markdown",
   "metadata": {},
   "source": [
    "**Sumamry**: maximum apps have no user rating at all;\n",
    "### (23, 24) userRatingCount & userRatingCountCV"
   ]
  },
  {
   "cell_type": "code",
   "execution_count": 44,
   "metadata": {},
   "outputs": [
    {
     "data": {
      "text/plain": [
       "<matplotlib.text.Text at 0x1d44f0e0be0>"
      ]
     },
     "execution_count": 44,
     "metadata": {},
     "output_type": "execute_result"
    },
    {
     "data": {
      "image/png": "[encoded data removed]",
      "text/plain": [
       "<matplotlib.figure.Figure at 0x1d44e2299b0>"
      ]
     },
     "metadata": {},
     "output_type": "display_data"
    },
    {
     "data": {
      "image/png": "[encoded data removed]",
      "text/plain": [
       "<matplotlib.figure.Figure at 0x1d44f0899e8>"
      ]
     },
     "metadata": {},
     "output_type": "display_data"
    }
   ],
   "source": [
    "data['userRatingCount'] = df.userRatingCount.replace('null', 0)\n",
    "data.userRatingCount = data.userRatingCount.apply(lambda x: int(x))\n",
    "data.userRatingCount.hist(figsize=(10, 5))\n",
    "plt.title(\"Histogram for user rating count\")\n",
    "\n",
    "plt.figure()\n",
    "data['userRatingCountCV'] = df.userRatingCountCV.replace('null', 0)\n",
    "data.userRatingCountCV = data.userRatingCountCV.apply(lambda x: int(x))\n",
    "data.userRatingCountCV.hist(figsize=(10, 5))\n",
    "plt.title(\"Histogram for user rating count for current version\")"
   ]
  },
  {
   "cell_type": "markdown",
   "metadata": {},
   "source": [
    "### (25) sellerUrl\n",
    " - Not all of the sellers have url, so one interesting property would be to check if website exist on the first place"
   ]
  },
  {
   "cell_type": "code",
   "execution_count": 45,
   "metadata": {},
   "outputs": [
    {
     "data": {
      "text/plain": [
       "0    False\n",
       "1     True\n",
       "2    False\n",
       "3    False\n",
       "4     True\n",
       "5    False\n",
       "6    False\n",
       "7    False\n",
       "8     True\n",
       "9    False\n",
       "Name: hasUrl, dtype: bool"
      ]
     },
     "execution_count": 45,
     "metadata": {},
     "output_type": "execute_result"
    }
   ],
   "source": [
    "data['hasUrl'] = df.sellerUrl.apply(lambda x: x != 'null')\n",
    "data['hasUrl'].head(10)"
   ]
  },
  {
   "cell_type": "code",
   "execution_count": 46,
   "metadata": {},
   "outputs": [],
   "source": [
    "def getDomain(url):\n",
    "    if url == 'null':\n",
    "        return 'null'\n",
    "    \n",
    "    _splt = url.split('/')\n",
    "    if len(_splt) >= 3:\n",
    "        return _splt[2]\n",
    "    return 'null'\n",
    "\n",
    "data['sellerUrl'] = df.sellerUrl\n",
    "data['sellerUrlDomain'] = df.sellerUrl.apply(lambda x: getDomain(x))"
   ]
  },
  {
   "cell_type": "code",
   "execution_count": 47,
   "metadata": {},
   "outputs": [
    {
     "data": {
      "text/html": [
       "<div>\n",
       "<table border=\"1\" class=\"dataframe\">\n",
       "  <thead>\n",
       "    <tr style=\"text-align: right;\">\n",
       "      <th></th>\n",
       "      <th>bundleId</th>\n",
       "      <th>trackName</th>\n",
       "      <th>IsUniversal</th>\n",
       "      <th>fileSizeInMB</th>\n",
       "      <th>contentAdvisoryRating</th>\n",
       "      <th>currentVersionReleaseDate</th>\n",
       "      <th>version</th>\n",
       "      <th>subversion</th>\n",
       "      <th>artist</th>\n",
       "      <th>genres</th>\n",
       "      <th>...</th>\n",
       "      <th>releaseDate</th>\n",
       "      <th>ageInDays</th>\n",
       "      <th>minimumOsVersion</th>\n",
       "      <th>averageUserRating</th>\n",
       "      <th>avgUserRatingCV</th>\n",
       "      <th>userRatingCount</th>\n",
       "      <th>userRatingCountCV</th>\n",
       "      <th>hasUrl</th>\n",
       "      <th>sellerUrl</th>\n",
       "      <th>sellerUrlDomain</th>\n",
       "    </tr>\n",
       "  </thead>\n",
       "  <tbody>\n",
       "    <tr>\n",
       "      <th>0</th>\n",
       "      <td>com.aaa.iphone.discounts</td>\n",
       "      <td>AAA Mobile</td>\n",
       "      <td>True</td>\n",
       "      <td>153.721680</td>\n",
       "      <td>4+</td>\n",
       "      <td>2017-12-19T13:23:36Z</td>\n",
       "      <td>3</td>\n",
       "      <td>3.11</td>\n",
       "      <td>American Automobile Association</td>\n",
       "      <td>[\"Lifestyle\", \"Travel\"]</td>\n",
       "      <td>...</td>\n",
       "      <td>2009-04-21T04:39:36Z</td>\n",
       "      <td>3177</td>\n",
       "      <td>10</td>\n",
       "      <td>3.0</td>\n",
       "      <td>3.0</td>\n",
       "      <td>24767</td>\n",
       "      <td>34</td>\n",
       "      <td>False</td>\n",
       "      <td>null</td>\n",
       "      <td>null</td>\n",
       "    </tr>\n",
       "    <tr>\n",
       "      <th>1</th>\n",
       "      <td>com.nextgenreality.gunclublite</td>\n",
       "      <td>AAA GUN CLUB lite</td>\n",
       "      <td>False</td>\n",
       "      <td>29.033732</td>\n",
       "      <td>9+</td>\n",
       "      <td>2009-11-07T02:12:31Z</td>\n",
       "      <td>1</td>\n",
       "      <td>1.7</td>\n",
       "      <td>Gun Club Studios</td>\n",
       "      <td>[\"Entertainment\", \"Games\", \"Simulation\", \"Acti...</td>\n",
       "      <td>...</td>\n",
       "      <td>2009-04-28T07:00:00Z</td>\n",
       "      <td>3170</td>\n",
       "      <td>2</td>\n",
       "      <td>3.5</td>\n",
       "      <td>3.5</td>\n",
       "      <td>30957</td>\n",
       "      <td>20294</td>\n",
       "      <td>True</td>\n",
       "      <td>http://www.thebinarymill.com/gunclub3/</td>\n",
       "      <td>www.thebinarymill.com</td>\n",
       "    </tr>\n",
       "    <tr>\n",
       "      <th>2</th>\n",
       "      <td>com.mcgames.chaosstrike2</td>\n",
       "      <td>Vanguard Online - AAA Shooting Free Online Gam...</td>\n",
       "      <td>True</td>\n",
       "      <td>174.367188</td>\n",
       "      <td>12+</td>\n",
       "      <td>2016-06-13T17:52:01Z</td>\n",
       "      <td>2</td>\n",
       "      <td>2.0</td>\n",
       "      <td>Hasim Mert Corekci</td>\n",
       "      <td>[\"Games\", \"Arcade\", \"Action\"]</td>\n",
       "      <td>...</td>\n",
       "      <td>2016-01-30T00:15:05Z</td>\n",
       "      <td>702</td>\n",
       "      <td>7</td>\n",
       "      <td>4.0</td>\n",
       "      <td>4.0</td>\n",
       "      <td>403</td>\n",
       "      <td>259</td>\n",
       "      <td>False</td>\n",
       "      <td>null</td>\n",
       "      <td>null</td>\n",
       "    </tr>\n",
       "    <tr>\n",
       "      <th>3</th>\n",
       "      <td>com.BulletParty.BunboGames</td>\n",
       "      <td>AAA Bullet Party - Online first person shooter...</td>\n",
       "      <td>True</td>\n",
       "      <td>1182.394531</td>\n",
       "      <td>17+</td>\n",
       "      <td>2015-04-22T15:01:15Z</td>\n",
       "      <td>1</td>\n",
       "      <td>1.0</td>\n",
       "      <td>Engin Yildiz</td>\n",
       "      <td>[\"Games\", \"Arcade\", \"Action\"]</td>\n",
       "      <td>...</td>\n",
       "      <td>2014-11-06T01:21:25Z</td>\n",
       "      <td>1152</td>\n",
       "      <td>6</td>\n",
       "      <td>3.5</td>\n",
       "      <td>3.5</td>\n",
       "      <td>165</td>\n",
       "      <td>146</td>\n",
       "      <td>False</td>\n",
       "      <td>null</td>\n",
       "      <td>null</td>\n",
       "    </tr>\n",
       "    <tr>\n",
       "      <th>4</th>\n",
       "      <td>com.fmapp2010.ISearchFree</td>\n",
       "      <td>iSheacher</td>\n",
       "      <td>False</td>\n",
       "      <td>1.434688</td>\n",
       "      <td>17+</td>\n",
       "      <td>2011-11-23T01:52:45Z</td>\n",
       "      <td>1</td>\n",
       "      <td>1.3</td>\n",
       "      <td>feng min</td>\n",
       "      <td>[\"Photo &amp; Video\", \"Utilities\"]</td>\n",
       "      <td>...</td>\n",
       "      <td>2010-05-19T07:00:00Z</td>\n",
       "      <td>2784</td>\n",
       "      <td>3</td>\n",
       "      <td>2.5</td>\n",
       "      <td>2.0</td>\n",
       "      <td>322</td>\n",
       "      <td>71</td>\n",
       "      <td>True</td>\n",
       "      <td>http://clotapp.blog.com/2010/04/19/all-images-...</td>\n",
       "      <td>clotapp.blog.com</td>\n",
       "    </tr>\n",
       "    <tr>\n",
       "      <th>5</th>\n",
       "      <td>com.onteca.civilwarlite</td>\n",
       "      <td>AAA American Civil War Cannon Shooter : Defend...</td>\n",
       "      <td>True</td>\n",
       "      <td>107.042969</td>\n",
       "      <td>9+</td>\n",
       "      <td>2015-06-29T16:38:41Z</td>\n",
       "      <td>4</td>\n",
       "      <td>4.1</td>\n",
       "      <td>Onteca</td>\n",
       "      <td>[\"Games\", \"Entertainment\", \"Strategy\", \"Simula...</td>\n",
       "      <td>...</td>\n",
       "      <td>2012-11-16T20:26:43Z</td>\n",
       "      <td>1871</td>\n",
       "      <td>6</td>\n",
       "      <td>3.0</td>\n",
       "      <td>3.5</td>\n",
       "      <td>199</td>\n",
       "      <td>50</td>\n",
       "      <td>False</td>\n",
       "      <td>null</td>\n",
       "      <td>null</td>\n",
       "    </tr>\n",
       "    <tr>\n",
       "      <th>6</th>\n",
       "      <td>com.appynation.powertoolsfree</td>\n",
       "      <td>Draw with Powertools FX Free</td>\n",
       "      <td>True</td>\n",
       "      <td>56.867188</td>\n",
       "      <td>4+</td>\n",
       "      <td>2016-01-12T23:42:31Z</td>\n",
       "      <td>2</td>\n",
       "      <td>2.7</td>\n",
       "      <td>Onteca</td>\n",
       "      <td>[\"Games\", \"Photo &amp; Video\", \"Trivia\", \"Board\"]</td>\n",
       "      <td>...</td>\n",
       "      <td>2012-08-02T19:17:30Z</td>\n",
       "      <td>1977</td>\n",
       "      <td>7</td>\n",
       "      <td>4.0</td>\n",
       "      <td>2.5</td>\n",
       "      <td>64</td>\n",
       "      <td>4</td>\n",
       "      <td>False</td>\n",
       "      <td>null</td>\n",
       "      <td>null</td>\n",
       "    </tr>\n",
       "    <tr>\n",
       "      <th>7</th>\n",
       "      <td>com.1361447304.4691361447304</td>\n",
       "      <td>AAA+ Foundr - Entrepreneur Magazine for a Startup</td>\n",
       "      <td>True</td>\n",
       "      <td>32.477539</td>\n",
       "      <td>4+</td>\n",
       "      <td>2017-05-12T22:18:51Z</td>\n",
       "      <td>7</td>\n",
       "      <td>7.8</td>\n",
       "      <td>NHC PUBLISHING PTY. LTD</td>\n",
       "      <td>[\"Business\", \"Magazines &amp; Newspapers\"]</td>\n",
       "      <td>...</td>\n",
       "      <td>2013-03-05T00:19:42Z</td>\n",
       "      <td>1763</td>\n",
       "      <td>8</td>\n",
       "      <td>5.0</td>\n",
       "      <td>5.0</td>\n",
       "      <td>325</td>\n",
       "      <td>5</td>\n",
       "      <td>False</td>\n",
       "      <td>null</td>\n",
       "      <td>null</td>\n",
       "    </tr>\n",
       "    <tr>\n",
       "      <th>8</th>\n",
       "      <td>com.1443792976.11461443792976</td>\n",
       "      <td>AAA+ Swimsuits &amp; Sports Magazine App For Men</td>\n",
       "      <td>True</td>\n",
       "      <td>37.444336</td>\n",
       "      <td>17+</td>\n",
       "      <td>2017-02-14T21:57:51Z</td>\n",
       "      <td>7</td>\n",
       "      <td>7.8</td>\n",
       "      <td>azacreations</td>\n",
       "      <td>[\"Magazines &amp; Newspapers\", \"Sports\"]</td>\n",
       "      <td>...</td>\n",
       "      <td>2015-10-13T20:10:31Z</td>\n",
       "      <td>810</td>\n",
       "      <td>8</td>\n",
       "      <td>4.0</td>\n",
       "      <td>3.5</td>\n",
       "      <td>86</td>\n",
       "      <td>17</td>\n",
       "      <td>True</td>\n",
       "      <td>http://www.swimsuitsandsports.com/</td>\n",
       "      <td>www.swimsuitsandsports.com</td>\n",
       "    </tr>\n",
       "    <tr>\n",
       "      <th>9</th>\n",
       "      <td>com.AnjaneyaApps.AAA1024Free</td>\n",
       "      <td>AAA 1024 Puzzle - cool math board game</td>\n",
       "      <td>True</td>\n",
       "      <td>13.113281</td>\n",
       "      <td>4+</td>\n",
       "      <td>2014-05-28T07:00:00Z</td>\n",
       "      <td>1</td>\n",
       "      <td>1.2</td>\n",
       "      <td>Bharat Bhushan</td>\n",
       "      <td>[\"Games\", \"Puzzle\", \"Entertainment\", \"Family\"]</td>\n",
       "      <td>...</td>\n",
       "      <td>2014-05-28T07:00:00Z</td>\n",
       "      <td>1314</td>\n",
       "      <td>6</td>\n",
       "      <td>4.5</td>\n",
       "      <td>4.5</td>\n",
       "      <td>7</td>\n",
       "      <td>7</td>\n",
       "      <td>False</td>\n",
       "      <td>null</td>\n",
       "      <td>null</td>\n",
       "    </tr>\n",
       "  </tbody>\n",
       "</table>\n",
       "<p>10 rows × 24 columns</p>\n",
       "</div>"
      ],
      "text/plain": [
       "                         bundleId  \\\n",
       "0        com.aaa.iphone.discounts   \n",
       "1  com.nextgenreality.gunclublite   \n",
       "2        com.mcgames.chaosstrike2   \n",
       "3      com.BulletParty.BunboGames   \n",
       "4       com.fmapp2010.ISearchFree   \n",
       "5         com.onteca.civilwarlite   \n",
       "6   com.appynation.powertoolsfree   \n",
       "7    com.1361447304.4691361447304   \n",
       "8   com.1443792976.11461443792976   \n",
       "9    com.AnjaneyaApps.AAA1024Free   \n",
       "\n",
       "                                           trackName IsUniversal  \\\n",
       "0                                         AAA Mobile        True   \n",
       "1                                  AAA GUN CLUB lite       False   \n",
       "2  Vanguard Online - AAA Shooting Free Online Gam...        True   \n",
       "3  AAA Bullet Party - Online first person shooter...        True   \n",
       "4                                          iSheacher       False   \n",
       "5  AAA American Civil War Cannon Shooter : Defend...        True   \n",
       "6                       Draw with Powertools FX Free        True   \n",
       "7  AAA+ Foundr - Entrepreneur Magazine for a Startup        True   \n",
       "8       AAA+ Swimsuits & Sports Magazine App For Men        True   \n",
       "9             AAA 1024 Puzzle - cool math board game        True   \n",
       "\n",
       "   fileSizeInMB contentAdvisoryRating currentVersionReleaseDate version  \\\n",
       "0    153.721680                    4+      2017-12-19T13:23:36Z       3   \n",
       "1     29.033732                    9+      2009-11-07T02:12:31Z       1   \n",
       "2    174.367188                   12+      2016-06-13T17:52:01Z       2   \n",
       "3   1182.394531                   17+      2015-04-22T15:01:15Z       1   \n",
       "4      1.434688                   17+      2011-11-23T01:52:45Z       1   \n",
       "5    107.042969                    9+      2015-06-29T16:38:41Z       4   \n",
       "6     56.867188                    4+      2016-01-12T23:42:31Z       2   \n",
       "7     32.477539                    4+      2017-05-12T22:18:51Z       7   \n",
       "8     37.444336                   17+      2017-02-14T21:57:51Z       7   \n",
       "9     13.113281                    4+      2014-05-28T07:00:00Z       1   \n",
       "\n",
       "  subversion                           artist  \\\n",
       "0       3.11  American Automobile Association   \n",
       "1        1.7                 Gun Club Studios   \n",
       "2        2.0               Hasim Mert Corekci   \n",
       "3        1.0                     Engin Yildiz   \n",
       "4        1.3                         feng min   \n",
       "5        4.1                           Onteca   \n",
       "6        2.7                           Onteca   \n",
       "7        7.8          NHC PUBLISHING PTY. LTD   \n",
       "8        7.8                     azacreations   \n",
       "9        1.2                   Bharat Bhushan   \n",
       "\n",
       "                                              genres  \\\n",
       "0                            [\"Lifestyle\", \"Travel\"]   \n",
       "1  [\"Entertainment\", \"Games\", \"Simulation\", \"Acti...   \n",
       "2                      [\"Games\", \"Arcade\", \"Action\"]   \n",
       "3                      [\"Games\", \"Arcade\", \"Action\"]   \n",
       "4                     [\"Photo & Video\", \"Utilities\"]   \n",
       "5  [\"Games\", \"Entertainment\", \"Strategy\", \"Simula...   \n",
       "6      [\"Games\", \"Photo & Video\", \"Trivia\", \"Board\"]   \n",
       "7             [\"Business\", \"Magazines & Newspapers\"]   \n",
       "8               [\"Magazines & Newspapers\", \"Sports\"]   \n",
       "9     [\"Games\", \"Puzzle\", \"Entertainment\", \"Family\"]   \n",
       "\n",
       "              ...                       releaseDate ageInDays  \\\n",
       "0             ...              2009-04-21T04:39:36Z      3177   \n",
       "1             ...              2009-04-28T07:00:00Z      3170   \n",
       "2             ...              2016-01-30T00:15:05Z       702   \n",
       "3             ...              2014-11-06T01:21:25Z      1152   \n",
       "4             ...              2010-05-19T07:00:00Z      2784   \n",
       "5             ...              2012-11-16T20:26:43Z      1871   \n",
       "6             ...              2012-08-02T19:17:30Z      1977   \n",
       "7             ...              2013-03-05T00:19:42Z      1763   \n",
       "8             ...              2015-10-13T20:10:31Z       810   \n",
       "9             ...              2014-05-28T07:00:00Z      1314   \n",
       "\n",
       "  minimumOsVersion averageUserRating avgUserRatingCV  userRatingCount  \\\n",
       "0               10               3.0             3.0            24767   \n",
       "1                2               3.5             3.5            30957   \n",
       "2                7               4.0             4.0              403   \n",
       "3                6               3.5             3.5              165   \n",
       "4                3               2.5             2.0              322   \n",
       "5                6               3.0             3.5              199   \n",
       "6                7               4.0             2.5               64   \n",
       "7                8               5.0             5.0              325   \n",
       "8                8               4.0             3.5               86   \n",
       "9                6               4.5             4.5                7   \n",
       "\n",
       "  userRatingCountCV hasUrl                                          sellerUrl  \\\n",
       "0                34  False                                               null   \n",
       "1             20294   True             http://www.thebinarymill.com/gunclub3/   \n",
       "2               259  False                                               null   \n",
       "3               146  False                                               null   \n",
       "4                71   True  http://clotapp.blog.com/2010/04/19/all-images-...   \n",
       "5                50  False                                               null   \n",
       "6                 4  False                                               null   \n",
       "7                 5  False                                               null   \n",
       "8                17   True                 http://www.swimsuitsandsports.com/   \n",
       "9                 7  False                                               null   \n",
       "\n",
       "              sellerUrlDomain  \n",
       "0                        null  \n",
       "1       www.thebinarymill.com  \n",
       "2                        null  \n",
       "3                        null  \n",
       "4            clotapp.blog.com  \n",
       "5                        null  \n",
       "6                        null  \n",
       "7                        null  \n",
       "8  www.swimsuitsandsports.com  \n",
       "9                        null  \n",
       "\n",
       "[10 rows x 24 columns]"
      ]
     },
     "execution_count": 47,
     "metadata": {},
     "output_type": "execute_result"
    }
   ],
   "source": [
    "data.head(10)"
   ]
  },
  {
   "cell_type": "markdown",
   "metadata": {},
   "source": [
    "### (26) releaseNotes"
   ]
  },
  {
   "cell_type": "code",
   "execution_count": 48,
   "metadata": {},
   "outputs": [],
   "source": [
    "data['releaseNotes'] = df.releaseNotes"
   ]
  },
  {
   "cell_type": "markdown",
   "metadata": {},
   "source": [
    "## Write new data frame to disk"
   ]
  },
  {
   "cell_type": "code",
   "execution_count": 49,
   "metadata": {
    "collapsed": true
   },
   "outputs": [],
   "source": [
    "# data.to_csv(\"../dataset/processed.data.csv\")"
   ]
  },
  {
   "cell_type": "markdown",
   "metadata": {},
   "source": [
    "### Let's have a look at summary so far for paid apps"
   ]
  },
  {
   "cell_type": "code",
   "execution_count": 50,
   "metadata": {},
   "outputs": [
    {
     "data": {
      "text/plain": [
       "(15687, 30)"
      ]
     },
     "execution_count": 50,
     "metadata": {},
     "output_type": "execute_result"
    }
   ],
   "source": [
    "paidApps = df[df.price > 0]\n",
    "paidApps.shape"
   ]
  },
  {
   "cell_type": "markdown",
   "metadata": {},
   "source": [
    "**Summary**: around 15.5K paid apps have been mined; Let's look at their `contentAdvisoryRating` and `Genres`"
   ]
  },
  {
   "cell_type": "code",
   "execution_count": 51,
   "metadata": {
    "collapsed": true
   },
   "outputs": [],
   "source": [
    "def plotSummary(_df, figsize=(15, 7)):\n",
    "    print (_df.contentAdvisoryRating.value_counts())\n",
    "    print ()\n",
    "    print (\"Normalized distribution\")\n",
    "    print (_df.contentAdvisoryRating.value_counts(normalize =True))\n",
    "\n",
    "    _ct = pd.crosstab(_df.contentAdvisoryRating, \"count\")\n",
    "    _ct.plot(kind=\"pie\", subplots=True)\n",
    "    _ct.plot(kind=\"bar\")\n",
    "    plt.title(\"Distribution by content advisory rating\")    \n",
    "    \n",
    "    # Genres\n",
    "    _genres = {}\n",
    "    for genreString in _df.genres.values:\n",
    "        gs = json.loads(genreString)\n",
    "        for g in gs:\n",
    "            if g not in _genres:\n",
    "                _genres[g] = 0\n",
    "            _genres[g] = _genres[g] + 1\n",
    "    \n",
    "    _gdf = pd.DataFrame([[k,v] for k,v in _genres.items()], columns=['genre', 'count'])\n",
    "    _gs = _gdf.sort_values([\"count\"], axis=0, ascending=False)\n",
    "    \n",
    "    plt.figure(figsize=figsize)\n",
    "    fx = sns.barplot(x='genre', y='count', data=_gs.head(30))\n",
    "    fx.set_xticklabels(rotation=90, labels=_gs['genre'])\n",
    "    plt.title(\"Distribution by genres\")\n",
    "    \n",
    "    _ct = pd.crosstab(_df.primaryGenreName, \"count\")\n",
    "    _ct.plot(kind='bar', figsize=figsize)\n",
    "    plt.title(\"Distribution by primary genres\")\n"
   ]
  },
  {
   "cell_type": "code",
   "execution_count": 52,
   "metadata": {},
   "outputs": [
    {
     "name": "stdout",
     "output_type": "stream",
     "text": [
      "4+     12458\n",
      "12+     1366\n",
      "17+     1133\n",
      "9+       730\n",
      "Name: contentAdvisoryRating, dtype: int64\n",
      "\n",
      "Normalized distribution\n",
      "4+     0.794161\n",
      "12+    0.087078\n",
      "17+    0.072225\n",
      "9+     0.046535\n",
      "Name: contentAdvisoryRating, dtype: float64\n"
     ]
    },
    {
     "data": {
      "image/png": "[encoded data removed]",
      "text/plain": [
       "<matplotlib.figure.Figure at 0x1d4492fd9e8>"
      ]
     },
     "metadata": {},
     "output_type": "display_data"
    },
    {
     "data": {
      "image/png": "[encoded data removed]",
      "text/plain": [
       "<matplotlib.figure.Figure at 0x1d4492fd8d0>"
      ]
     },
     "metadata": {},
     "output_type": "display_data"
    },
    {
     "data": {
      "image/png": "[encoded data removed]",
      "text/plain": [
       "<matplotlib.figure.Figure at 0x1d450226d30>"
      ]
     },
     "metadata": {},
     "output_type": "display_data"
    },
    {
     "data": {
      "image/png": "[encoded data removed]",
      "text/plain": [
       "<matplotlib.figure.Figure at 0x1d4502334a8>"
      ]
     },
     "metadata": {},
     "output_type": "display_data"
    }
   ],
   "source": [
    "plotSummary(paidApps)"
   ]
  },
  {
   "cell_type": "markdown",
   "metadata": {},
   "source": [
    "**Summary**:\n",
    " - Paid apps are more educational as compared to Games or Entertainment\n",
    " - Content Advisory Rating seem to be similar to free apps"
   ]
  },
  {
   "cell_type": "code",
   "execution_count": null,
   "metadata": {
    "collapsed": true
   },
   "outputs": [],
   "source": []
  }
 ],
 "metadata": {
  "kernelspec": {
   "display_name": "Python 3",
   "language": "python",
   "name": "python3"
  },
  "language_info": {
   "codemirror_mode": {
    "name": "ipython",
    "version": 3
   },
   "file_extension": ".py",
   "mimetype": "text/x-python",
   "name": "python",
   "nbconvert_exporter": "python",
   "pygments_lexer": "ipython3",
   "version": "3.5.2"
  }
 },
 "nbformat": 4,
 "nbformat_minor": 2
}
