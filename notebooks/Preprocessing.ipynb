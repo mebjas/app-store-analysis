{
 "cells": [
  {
   "cell_type": "markdown",
   "metadata": {},
   "source": [
    "# Analysis\n",
    "\n",
    "**Problem Statement:**\n",
    "\n",
    "There are so many apps on app store, some paid some free; I want to validate few of these scenarios:\n",
    " - What makes an app successfull, what is that metric\n",
    " - What other metrics are available?\n",
    " - Is there correlation between this success metric and other metrics\n",
    " - What does the clusters look like if we try to cluster them\n",
    " \n",
    "This might sound vague at the moment but essentially I want to analyse apps in app store;\n",
    "\n",
    "### Task 1: In this notebook we would essentially be dealing with pre processing of the data to make it more convenient to use;"
   ]
  },
  {
   "cell_type": "code",
   "execution_count": 1,
   "metadata": {
    "collapsed": true
   },
   "outputs": [],
   "source": [
    "import json\n",
    "import pandas as pd\n",
    "import numpy as np\n",
    "import matplotlib.pyplot as plt\n",
    "import seaborn as sns\n",
    "%matplotlib inline\n",
    "\n",
    "sns.set_style(\"whitegrid\")\n",
    "sns.set_palette(\"Set1\", 8, .75)"
   ]
  },
  {
   "cell_type": "code",
   "execution_count": 2,
   "metadata": {},
   "outputs": [],
   "source": [
    "df = pd.read_csv(\"../dataset/data.csv\")"
   ]
  },
  {
   "cell_type": "code",
   "execution_count": 3,
   "metadata": {},
   "outputs": [
    {
     "data": {
      "text/plain": [
       "Index(['kind', 'features', 'advisories', 'trackCensoredName', 'fileSizeBytes',\n",
       "       'contentAdvisoryRating', 'genreIds', 'currentVersionReleaseDate',\n",
       "       'currency', 'wrapperType', 'version', 'artistName', 'artistId',\n",
       "       'genres', 'price', 'description', 'trackName', 'bundleId',\n",
       "       'isVppDeviceBasedLicensingEnabled', 'primaryGenreName', 'releaseDate',\n",
       "       'minimumOsVersion', 'formattedPrice', 'primaryGenreId',\n",
       "       'averageUserRating', 'userRatingCount', 'avgUserRatingCV',\n",
       "       'userRatingCountCV', 'sellerUrl', 'releaseNotes'],\n",
       "      dtype='object')"
      ]
     },
     "execution_count": 3,
     "metadata": {},
     "output_type": "execute_result"
    }
   ],
   "source": [
    "# list of all columns\n",
    "df.columns"
   ]
  },
  {
   "cell_type": "code",
   "execution_count": 4,
   "metadata": {},
   "outputs": [
    {
     "name": "stdout",
     "output_type": "stream",
     "text": [
      "No of rows in dataset: 121106, No of columns: 30\n"
     ]
    }
   ],
   "source": [
    "print (\"No of rows in dataset: %d, No of columns: %d\" %  (df.shape[0], df.shape[1]))"
   ]
  },
  {
   "cell_type": "markdown",
   "metadata": {},
   "source": [
    "**Note that:** `trackName` property is the name of application and `bundleId` is the unique name; we can use these bost as unique properties;\n"
   ]
  },
  {
   "cell_type": "code",
   "execution_count": 5,
   "metadata": {
    "collapsed": true
   },
   "outputs": [],
   "source": [
    "# let's define a new dataframe where we will store more processed information\n",
    "data = pd.DataFrame()\n",
    "data['bundleId'] = df['bundleId']\n",
    "data['trackName'] = df['trackName']"
   ]
  },
  {
   "cell_type": "markdown",
   "metadata": {},
   "source": [
    "## Pre processing\n",
    "\n",
    "### (1) Kind"
   ]
  },
  {
   "cell_type": "code",
   "execution_count": 6,
   "metadata": {},
   "outputs": [
    {
     "data": {
      "text/plain": [
       "software    121106\n",
       "Name: kind, dtype: int64"
      ]
     },
     "execution_count": 6,
     "metadata": {},
     "output_type": "execute_result"
    }
   ],
   "source": [
    "df.kind.value_counts()"
   ]
  },
  {
   "cell_type": "markdown",
   "metadata": {},
   "source": [
    "**Summary**: all data in the list is of same kind hence we will ignore this property\n",
    "### (2) features"
   ]
  },
  {
   "cell_type": "code",
   "execution_count": 7,
   "metadata": {},
   "outputs": [
    {
     "data": {
      "text/plain": [
       "[\"iosUniversal\"]    84905\n",
       "[]                  36201\n",
       "Name: features, dtype: int64"
      ]
     },
     "execution_count": 7,
     "metadata": {},
     "output_type": "execute_result"
    }
   ],
   "source": [
    "df.features.value_counts()"
   ]
  },
  {
   "cell_type": "markdown",
   "metadata": {},
   "source": [
    "**Summary:** since there are only two possible outcomes I'll conver this to a column called `isUniversal`"
   ]
  },
  {
   "cell_type": "code",
   "execution_count": 8,
   "metadata": {},
   "outputs": [
    {
     "data": {
      "text/html": [
       "<div>\n",
       "<table border=\"1\" class=\"dataframe\">\n",
       "  <thead>\n",
       "    <tr style=\"text-align: right;\">\n",
       "      <th></th>\n",
       "      <th>bundleId</th>\n",
       "      <th>trackName</th>\n",
       "      <th>IsUniversal</th>\n",
       "    </tr>\n",
       "  </thead>\n",
       "  <tbody>\n",
       "    <tr>\n",
       "      <th>0</th>\n",
       "      <td>com.aaa.iphone.discounts</td>\n",
       "      <td>AAA Mobile</td>\n",
       "      <td>True</td>\n",
       "    </tr>\n",
       "    <tr>\n",
       "      <th>1</th>\n",
       "      <td>com.nextgenreality.gunclublite</td>\n",
       "      <td>AAA GUN CLUB lite</td>\n",
       "      <td>False</td>\n",
       "    </tr>\n",
       "    <tr>\n",
       "      <th>2</th>\n",
       "      <td>com.mcgames.chaosstrike2</td>\n",
       "      <td>Vanguard Online - AAA Shooting Free Online Gam...</td>\n",
       "      <td>True</td>\n",
       "    </tr>\n",
       "    <tr>\n",
       "      <th>3</th>\n",
       "      <td>com.BulletParty.BunboGames</td>\n",
       "      <td>AAA Bullet Party - Online first person shooter...</td>\n",
       "      <td>True</td>\n",
       "    </tr>\n",
       "    <tr>\n",
       "      <th>4</th>\n",
       "      <td>com.fmapp2010.ISearchFree</td>\n",
       "      <td>iSheacher</td>\n",
       "      <td>False</td>\n",
       "    </tr>\n",
       "    <tr>\n",
       "      <th>5</th>\n",
       "      <td>com.onteca.civilwarlite</td>\n",
       "      <td>AAA American Civil War Cannon Shooter : Defend...</td>\n",
       "      <td>True</td>\n",
       "    </tr>\n",
       "    <tr>\n",
       "      <th>6</th>\n",
       "      <td>com.appynation.powertoolsfree</td>\n",
       "      <td>Draw with Powertools FX Free</td>\n",
       "      <td>True</td>\n",
       "    </tr>\n",
       "    <tr>\n",
       "      <th>7</th>\n",
       "      <td>com.1361447304.4691361447304</td>\n",
       "      <td>AAA+ Foundr - Entrepreneur Magazine for a Startup</td>\n",
       "      <td>True</td>\n",
       "    </tr>\n",
       "    <tr>\n",
       "      <th>8</th>\n",
       "      <td>com.1443792976.11461443792976</td>\n",
       "      <td>AAA+ Swimsuits &amp; Sports Magazine App For Men</td>\n",
       "      <td>True</td>\n",
       "    </tr>\n",
       "    <tr>\n",
       "      <th>9</th>\n",
       "      <td>com.AnjaneyaApps.AAA1024Free</td>\n",
       "      <td>AAA 1024 Puzzle - cool math board game</td>\n",
       "      <td>True</td>\n",
       "    </tr>\n",
       "  </tbody>\n",
       "</table>\n",
       "</div>"
      ],
      "text/plain": [
       "                         bundleId  \\\n",
       "0        com.aaa.iphone.discounts   \n",
       "1  com.nextgenreality.gunclublite   \n",
       "2        com.mcgames.chaosstrike2   \n",
       "3      com.BulletParty.BunboGames   \n",
       "4       com.fmapp2010.ISearchFree   \n",
       "5         com.onteca.civilwarlite   \n",
       "6   com.appynation.powertoolsfree   \n",
       "7    com.1361447304.4691361447304   \n",
       "8   com.1443792976.11461443792976   \n",
       "9    com.AnjaneyaApps.AAA1024Free   \n",
       "\n",
       "                                           trackName IsUniversal  \n",
       "0                                         AAA Mobile        True  \n",
       "1                                  AAA GUN CLUB lite       False  \n",
       "2  Vanguard Online - AAA Shooting Free Online Gam...        True  \n",
       "3  AAA Bullet Party - Online first person shooter...        True  \n",
       "4                                          iSheacher       False  \n",
       "5  AAA American Civil War Cannon Shooter : Defend...        True  \n",
       "6                       Draw with Powertools FX Free        True  \n",
       "7  AAA+ Foundr - Entrepreneur Magazine for a Startup        True  \n",
       "8       AAA+ Swimsuits & Sports Magazine App For Men        True  \n",
       "9             AAA 1024 Puzzle - cool math board game        True  "
      ]
     },
     "execution_count": 8,
     "metadata": {},
     "output_type": "execute_result"
    }
   ],
   "source": [
    "def getIsUniversal(x):\n",
    "    if x == '[]':\n",
    "        return False\n",
    "    return True\n",
    "\n",
    "data['IsUniversal'] = df['features'].apply(lambda x: getIsUniversal(x))\n",
    "\n",
    "data.head(10)"
   ]
  },
  {
   "cell_type": "markdown",
   "metadata": {},
   "source": [
    "### (3) advisories"
   ]
  },
  {
   "cell_type": "code",
   "execution_count": 9,
   "metadata": {
    "scrolled": false
   },
   "outputs": [],
   "source": [
    "# df.advisories.value_counts()\n",
    "# TODO: this is a categorical data and one row can have one or more of these; Think of how to deal with this\n",
    "# but this could be an important data after all"
   ]
  },
  {
   "cell_type": "markdown",
   "metadata": {},
   "source": [
    "### (4) trackCensoredName\n",
    "\n",
    "This seem to be very similar to the name of the track itself, let's see the no of rows where these values differ"
   ]
  },
  {
   "cell_type": "code",
   "execution_count": 12,
   "metadata": {},
   "outputs": [
    {
     "name": "stdout",
     "output_type": "stream",
     "text": [
      "(1, 30)\n"
     ]
    },
    {
     "data": {
      "text/html": [
       "<div>\n",
       "<table border=\"1\" class=\"dataframe\">\n",
       "  <thead>\n",
       "    <tr style=\"text-align: right;\">\n",
       "      <th></th>\n",
       "      <th>trackCensoredName</th>\n",
       "      <th>trackName</th>\n",
       "    </tr>\n",
       "  </thead>\n",
       "  <tbody>\n",
       "    <tr>\n",
       "      <th>77518</th>\n",
       "      <td>F*g Garanti - Kvalitetsstemplet</td>\n",
       "      <td>Fag Garanti - Kvalitetsstemplet</td>\n",
       "    </tr>\n",
       "  </tbody>\n",
       "</table>\n",
       "</div>"
      ],
      "text/plain": [
       "                     trackCensoredName                        trackName\n",
       "77518  F*g Garanti - Kvalitetsstemplet  Fag Garanti - Kvalitetsstemplet"
      ]
     },
     "execution_count": 12,
     "metadata": {},
     "output_type": "execute_result"
    }
   ],
   "source": [
    "print (df.loc[df['trackCensoredName'] != df['trackName']].shape)\n",
    "\n",
    "df.loc[df['trackCensoredName'] != df['trackName']][['trackCensoredName', 'trackName']]"
   ]
  },
  {
   "cell_type": "markdown",
   "metadata": {},
   "source": [
    "**Summary:**: only a single row with trackCensoredName differing from trackName so this features is useless for now\n",
    "\n",
    "### (5) fileSizeBytes\n",
    "This seem to be an interesting property let's see"
   ]
  },
  {
   "cell_type": "code",
   "execution_count": 13,
   "metadata": {},
   "outputs": [
    {
     "name": "stdout",
     "output_type": "stream",
     "text": [
      "Average file size in MD: 58.62 \n",
      "Median file size in MD: 30.95 \n"
     ]
    },
    {
     "data": {
      "text/plain": [
       "<matplotlib.axes._subplots.AxesSubplot at 0x15b99425198>"
      ]
     },
     "execution_count": 13,
     "metadata": {},
     "output_type": "execute_result"
    },
    {
     "data": {
      "image/png": "[encoded data removed]",
      "text/plain": [
       "<matplotlib.figure.Figure at 0x15b9942c780>"
      ]
     },
     "metadata": {},
     "output_type": "display_data"
    }
   ],
   "source": [
    "meanSize = df.fileSizeBytes.mean()\n",
    "medianSize = df.fileSizeBytes.median()\n",
    "\n",
    "\n",
    "print (\"Average file size in MD: %0.2f \" % (meanSize / (1024 * 1024)))\n",
    "print (\"Median file size in MD: %0.2f \" % (medianSize / (1024 * 1024)))\n",
    "\n",
    "df.fileSizeBytes.plot(figsize=(10,6))"
   ]
  },
  {
   "cell_type": "code",
   "execution_count": 14,
   "metadata": {},
   "outputs": [
    {
     "data": {
      "text/html": [
       "<div>\n",
       "<table border=\"1\" class=\"dataframe\">\n",
       "  <thead>\n",
       "    <tr style=\"text-align: right;\">\n",
       "      <th></th>\n",
       "      <th>bundleId</th>\n",
       "      <th>trackName</th>\n",
       "      <th>IsUniversal</th>\n",
       "      <th>fileSizeInMB</th>\n",
       "    </tr>\n",
       "  </thead>\n",
       "  <tbody>\n",
       "    <tr>\n",
       "      <th>0</th>\n",
       "      <td>com.aaa.iphone.discounts</td>\n",
       "      <td>AAA Mobile</td>\n",
       "      <td>True</td>\n",
       "      <td>153.721680</td>\n",
       "    </tr>\n",
       "    <tr>\n",
       "      <th>1</th>\n",
       "      <td>com.nextgenreality.gunclublite</td>\n",
       "      <td>AAA GUN CLUB lite</td>\n",
       "      <td>False</td>\n",
       "      <td>29.033732</td>\n",
       "    </tr>\n",
       "    <tr>\n",
       "      <th>2</th>\n",
       "      <td>com.mcgames.chaosstrike2</td>\n",
       "      <td>Vanguard Online - AAA Shooting Free Online Gam...</td>\n",
       "      <td>True</td>\n",
       "      <td>174.367188</td>\n",
       "    </tr>\n",
       "    <tr>\n",
       "      <th>3</th>\n",
       "      <td>com.BulletParty.BunboGames</td>\n",
       "      <td>AAA Bullet Party - Online first person shooter...</td>\n",
       "      <td>True</td>\n",
       "      <td>1182.394531</td>\n",
       "    </tr>\n",
       "    <tr>\n",
       "      <th>4</th>\n",
       "      <td>com.fmapp2010.ISearchFree</td>\n",
       "      <td>iSheacher</td>\n",
       "      <td>False</td>\n",
       "      <td>1.434688</td>\n",
       "    </tr>\n",
       "    <tr>\n",
       "      <th>5</th>\n",
       "      <td>com.onteca.civilwarlite</td>\n",
       "      <td>AAA American Civil War Cannon Shooter : Defend...</td>\n",
       "      <td>True</td>\n",
       "      <td>107.042969</td>\n",
       "    </tr>\n",
       "    <tr>\n",
       "      <th>6</th>\n",
       "      <td>com.appynation.powertoolsfree</td>\n",
       "      <td>Draw with Powertools FX Free</td>\n",
       "      <td>True</td>\n",
       "      <td>56.867188</td>\n",
       "    </tr>\n",
       "    <tr>\n",
       "      <th>7</th>\n",
       "      <td>com.1361447304.4691361447304</td>\n",
       "      <td>AAA+ Foundr - Entrepreneur Magazine for a Startup</td>\n",
       "      <td>True</td>\n",
       "      <td>32.477539</td>\n",
       "    </tr>\n",
       "    <tr>\n",
       "      <th>8</th>\n",
       "      <td>com.1443792976.11461443792976</td>\n",
       "      <td>AAA+ Swimsuits &amp; Sports Magazine App For Men</td>\n",
       "      <td>True</td>\n",
       "      <td>37.444336</td>\n",
       "    </tr>\n",
       "    <tr>\n",
       "      <th>9</th>\n",
       "      <td>com.AnjaneyaApps.AAA1024Free</td>\n",
       "      <td>AAA 1024 Puzzle - cool math board game</td>\n",
       "      <td>True</td>\n",
       "      <td>13.113281</td>\n",
       "    </tr>\n",
       "  </tbody>\n",
       "</table>\n",
       "</div>"
      ],
      "text/plain": [
       "                         bundleId  \\\n",
       "0        com.aaa.iphone.discounts   \n",
       "1  com.nextgenreality.gunclublite   \n",
       "2        com.mcgames.chaosstrike2   \n",
       "3      com.BulletParty.BunboGames   \n",
       "4       com.fmapp2010.ISearchFree   \n",
       "5         com.onteca.civilwarlite   \n",
       "6   com.appynation.powertoolsfree   \n",
       "7    com.1361447304.4691361447304   \n",
       "8   com.1443792976.11461443792976   \n",
       "9    com.AnjaneyaApps.AAA1024Free   \n",
       "\n",
       "                                           trackName IsUniversal  fileSizeInMB  \n",
       "0                                         AAA Mobile        True    153.721680  \n",
       "1                                  AAA GUN CLUB lite       False     29.033732  \n",
       "2  Vanguard Online - AAA Shooting Free Online Gam...        True    174.367188  \n",
       "3  AAA Bullet Party - Online first person shooter...        True   1182.394531  \n",
       "4                                          iSheacher       False      1.434688  \n",
       "5  AAA American Civil War Cannon Shooter : Defend...        True    107.042969  \n",
       "6                       Draw with Powertools FX Free        True     56.867188  \n",
       "7  AAA+ Foundr - Entrepreneur Magazine for a Startup        True     32.477539  \n",
       "8       AAA+ Swimsuits & Sports Magazine App For Men        True     37.444336  \n",
       "9             AAA 1024 Puzzle - cool math board game        True     13.113281  "
      ]
     },
     "execution_count": 14,
     "metadata": {},
     "output_type": "execute_result"
    }
   ],
   "source": [
    "data['fileSizeInMB'] = df['fileSizeBytes'].apply(lambda x: x / (1024 * 1024))\n",
    "data.head(10)"
   ]
  },
  {
   "cell_type": "markdown",
   "metadata": {},
   "source": [
    "### (6) contentAdvisoryRating"
   ]
  },
  {
   "cell_type": "code",
   "execution_count": 15,
   "metadata": {},
   "outputs": [
    {
     "name": "stdout",
     "output_type": "stream",
     "text": [
      "4+               91509\n",
      "17+              12952\n",
      "12+              11869\n",
      "9+                4774\n",
      "Not yet rated        2\n",
      "Name: contentAdvisoryRating, dtype: int64\n",
      "\n",
      "Normalized distribution\n",
      "4+               0.755611\n",
      "17+              0.106948\n",
      "12+              0.098005\n",
      "9+               0.039420\n",
      "Not yet rated    0.000017\n",
      "Name: contentAdvisoryRating, dtype: float64\n"
     ]
    },
    {
     "data": {
      "text/plain": [
       "<matplotlib.axes._subplots.AxesSubplot at 0x15b993e2d68>"
      ]
     },
     "execution_count": 15,
     "metadata": {},
     "output_type": "execute_result"
    },
    {
     "data": {
      "image/png": "[encoded data removed]",
      "text/plain": [
       "<matplotlib.figure.Figure at 0x15b99ed6ac8>"
      ]
     },
     "metadata": {},
     "output_type": "display_data"
    },
    {
     "data": {
      "image/png": "[encoded data removed]",
      "text/plain": [
       "<matplotlib.figure.Figure at 0x15b99bf7be0>"
      ]
     },
     "metadata": {},
     "output_type": "display_data"
    }
   ],
   "source": [
    "print (df.contentAdvisoryRating.value_counts())\n",
    "print ()\n",
    "print (\"Normalized distribution\")\n",
    "print (df.contentAdvisoryRating.value_counts(normalize =True))\n",
    "\n",
    "_ct = pd.crosstab(df.contentAdvisoryRating, \"count\")\n",
    "_ct.plot(kind=\"pie\", subplots=True)\n",
    "\n",
    "_ct.plot(kind=\"bar\")"
   ]
  },
  {
   "cell_type": "code",
   "execution_count": 16,
   "metadata": {
    "collapsed": true
   },
   "outputs": [],
   "source": [
    "data['contentAdvisoryRating'] = df['contentAdvisoryRating']"
   ]
  },
  {
   "cell_type": "markdown",
   "metadata": {},
   "source": [
    "**Summary**: while nearly `75%` is `4+` rated apps other seem to have a meaning full distribution as well;\n",
    "### (7) genreIds\n",
    "\n",
    "This feature intutively seem to be highly correlated to `genres` property; So we shall rather look at that in place of this;\n",
    "\n",
    "### (8) currentVersionReleaseDate\n",
    "release date of current version; seems an interesting property which doens't need much preprocessing we will keep it as such;"
   ]
  },
  {
   "cell_type": "code",
   "execution_count": 17,
   "metadata": {},
   "outputs": [],
   "source": [
    "data['currentVersionReleaseDate'] = df.currentVersionReleaseDate"
   ]
  },
  {
   "cell_type": "markdown",
   "metadata": {},
   "source": [
    "### (9) currency"
   ]
  },
  {
   "cell_type": "code",
   "execution_count": 18,
   "metadata": {},
   "outputs": [
    {
     "data": {
      "text/plain": [
       "USD    121106\n",
       "Name: currency, dtype: int64"
      ]
     },
     "execution_count": 18,
     "metadata": {},
     "output_type": "execute_result"
    }
   ],
   "source": [
    "df.currency.value_counts()"
   ]
  },
  {
   "cell_type": "markdown",
   "metadata": {},
   "source": [
    "All values are USD hence we will ignore\n",
    "### (10) wrapperType"
   ]
  },
  {
   "cell_type": "code",
   "execution_count": 19,
   "metadata": {},
   "outputs": [
    {
     "data": {
      "text/plain": [
       "software    121106\n",
       "Name: wrapperType, dtype: int64"
      ]
     },
     "execution_count": 19,
     "metadata": {},
     "output_type": "execute_result"
    }
   ],
   "source": [
    "df.wrapperType.value_counts()"
   ]
  },
  {
   "cell_type": "markdown",
   "metadata": {},
   "source": [
    "all values are software; hence we will ignore\n",
    "### (11) version"
   ]
  },
  {
   "cell_type": "code",
   "execution_count": 20,
   "metadata": {},
   "outputs": [
    {
     "data": {
      "text/plain": [
       "1.0      21692\n",
       "1.1       8447\n",
       "1.2       5116\n",
       "2.0       3132\n",
       "1.3       2933\n",
       "1.0.1     2626\n",
       "1.4       2136\n",
       "1.0.0     1913\n",
       "1.0.2     1632\n",
       "1.5       1567\n",
       "2.1       1487\n",
       "3.0       1256\n",
       "1.6       1141\n",
       "1.0.3     1074\n",
       "2.2       1000\n",
       "1.1.0      885\n",
       "1.7        771\n",
       "1.0.4      739\n",
       "1.1.1      732\n",
       "1.2.1      637\n",
       "Name: version, dtype: int64"
      ]
     },
     "execution_count": 20,
     "metadata": {},
     "output_type": "execute_result"
    }
   ],
   "source": [
    "df.version.value_counts().head(20)"
   ]
  },
  {
   "cell_type": "markdown",
   "metadata": {},
   "source": [
    "**Summary**\n",
    " - This seem to be string like property which can have any value;\n",
    " We can maybe extract features like major version and subversions"
   ]
  },
  {
   "cell_type": "code",
   "execution_count": 21,
   "metadata": {},
   "outputs": [
    {
     "data": {
      "text/html": [
       "<div>\n",
       "<table border=\"1\" class=\"dataframe\">\n",
       "  <thead>\n",
       "    <tr style=\"text-align: right;\">\n",
       "      <th></th>\n",
       "      <th>bundleId</th>\n",
       "      <th>version</th>\n",
       "      <th>subversion</th>\n",
       "    </tr>\n",
       "  </thead>\n",
       "  <tbody>\n",
       "    <tr>\n",
       "      <th>0</th>\n",
       "      <td>com.aaa.iphone.discounts</td>\n",
       "      <td>3</td>\n",
       "      <td>3.11</td>\n",
       "    </tr>\n",
       "    <tr>\n",
       "      <th>1</th>\n",
       "      <td>com.nextgenreality.gunclublite</td>\n",
       "      <td>1</td>\n",
       "      <td>1.7</td>\n",
       "    </tr>\n",
       "    <tr>\n",
       "      <th>2</th>\n",
       "      <td>com.mcgames.chaosstrike2</td>\n",
       "      <td>2</td>\n",
       "      <td>2.0</td>\n",
       "    </tr>\n",
       "    <tr>\n",
       "      <th>3</th>\n",
       "      <td>com.BulletParty.BunboGames</td>\n",
       "      <td>1</td>\n",
       "      <td>1.0</td>\n",
       "    </tr>\n",
       "    <tr>\n",
       "      <th>4</th>\n",
       "      <td>com.fmapp2010.ISearchFree</td>\n",
       "      <td>1</td>\n",
       "      <td>1.3</td>\n",
       "    </tr>\n",
       "    <tr>\n",
       "      <th>5</th>\n",
       "      <td>com.onteca.civilwarlite</td>\n",
       "      <td>4</td>\n",
       "      <td>4.1</td>\n",
       "    </tr>\n",
       "    <tr>\n",
       "      <th>6</th>\n",
       "      <td>com.appynation.powertoolsfree</td>\n",
       "      <td>2</td>\n",
       "      <td>2.7</td>\n",
       "    </tr>\n",
       "    <tr>\n",
       "      <th>7</th>\n",
       "      <td>com.1361447304.4691361447304</td>\n",
       "      <td>7</td>\n",
       "      <td>7.8</td>\n",
       "    </tr>\n",
       "    <tr>\n",
       "      <th>8</th>\n",
       "      <td>com.1443792976.11461443792976</td>\n",
       "      <td>7</td>\n",
       "      <td>7.8</td>\n",
       "    </tr>\n",
       "    <tr>\n",
       "      <th>9</th>\n",
       "      <td>com.AnjaneyaApps.AAA1024Free</td>\n",
       "      <td>1</td>\n",
       "      <td>1.2</td>\n",
       "    </tr>\n",
       "  </tbody>\n",
       "</table>\n",
       "</div>"
      ],
      "text/plain": [
       "                         bundleId version subversion\n",
       "0        com.aaa.iphone.discounts       3       3.11\n",
       "1  com.nextgenreality.gunclublite       1        1.7\n",
       "2        com.mcgames.chaosstrike2       2        2.0\n",
       "3      com.BulletParty.BunboGames       1        1.0\n",
       "4       com.fmapp2010.ISearchFree       1        1.3\n",
       "5         com.onteca.civilwarlite       4        4.1\n",
       "6   com.appynation.powertoolsfree       2        2.7\n",
       "7    com.1361447304.4691361447304       7        7.8\n",
       "8   com.1443792976.11461443792976       7        7.8\n",
       "9    com.AnjaneyaApps.AAA1024Free       1        1.2"
      ]
     },
     "execution_count": 21,
     "metadata": {},
     "output_type": "execute_result"
    }
   ],
   "source": [
    "def getMajorVersion(ver):\n",
    "    return ver.split('.')[0]\n",
    "\n",
    "def getMajorSubVersion(ver):\n",
    "    splt = ver.split('.')\n",
    "    if len(splt) >= 2:\n",
    "        return \".\".join(splt[0:2])\n",
    "    return splt[0] +\".0\"\n",
    "\n",
    "data['version'] = df['version'].apply(lambda x: getMajorVersion(x))\n",
    "data['subversion'] = df['version'].apply(lambda x: getMajorSubVersion(x))\n",
    "\n",
    "data[['bundleId', 'version', 'subversion']].head(10)"
   ]
  },
  {
   "cell_type": "markdown",
   "metadata": {},
   "source": [
    "### (12) artistName"
   ]
  },
  {
   "cell_type": "code",
   "execution_count": 22,
   "metadata": {},
   "outputs": [
    {
     "name": "stdout",
     "output_type": "stream",
     "text": [
      "artists with max applications\n"
     ]
    },
    {
     "data": {
      "text/plain": [
       "CrowdCompass, Inc.                      635\n",
       "eChurch Apps                            398\n",
       "MINDBODY, Incorporated                  355\n",
       "Subsplash Inc                           346\n",
       "DoubleDutch                             320\n",
       "FMG Suite                               259\n",
       "KitApps, Inc.                           256\n",
       "SKOOLBAG PTY LTD                        216\n",
       "AppsVision                              186\n",
       "EventMobi                               183\n",
       "Ketchapp                                176\n",
       "Andrew Lakin                            158\n",
       "Tapps Tecnologia da Informação Ltda.    150\n",
       "ChowNow                                 140\n",
       "AGT Geocentre                           136\n",
       "AGN Sports                              135\n",
       "Sharefaith                              124\n",
       "Tekk Innovations LLC                    124\n",
       "TabTale LTD                             121\n",
       "AHI Infotech                            118\n",
       "Name: artistName, dtype: int64"
      ]
     },
     "execution_count": 22,
     "metadata": {},
     "output_type": "execute_result"
    }
   ],
   "source": [
    "print (\"artists with max applications\")\n",
    "df.artistName.value_counts().head(20)"
   ]
  },
  {
   "cell_type": "code",
   "execution_count": 23,
   "metadata": {
    "collapsed": true
   },
   "outputs": [],
   "source": [
    "data['artist'] = df['artistName']"
   ]
  },
  {
   "cell_type": "markdown",
   "metadata": {},
   "source": [
    "### (13) artistId:\n",
    "might is highly correlated to artistName and hence will ignore\n",
    "\n",
    "### (14) genres\n",
    "This is one of very important property; Let's do some analysis here"
   ]
  },
  {
   "cell_type": "code",
   "execution_count": 24,
   "metadata": {},
   "outputs": [],
   "source": [
    "import json\n",
    "genres = {}\n",
    "for genreString in df.genres.values:\n",
    "    gs = json.loads(genreString)\n",
    "    for g in gs:\n",
    "        if g not in genres:\n",
    "            genres[g] = 0\n",
    "        genres[g] = genres[g] + 1"
   ]
  },
  {
   "cell_type": "code",
   "execution_count": 25,
   "metadata": {},
   "outputs": [
    {
     "data": {
      "text/html": [
       "<div>\n",
       "<table border=\"1\" class=\"dataframe\">\n",
       "  <thead>\n",
       "    <tr style=\"text-align: right;\">\n",
       "      <th></th>\n",
       "      <th>genre</th>\n",
       "      <th>count</th>\n",
       "    </tr>\n",
       "  </thead>\n",
       "  <tbody>\n",
       "    <tr>\n",
       "      <th>0</th>\n",
       "      <td>Racing</td>\n",
       "      <td>2649</td>\n",
       "    </tr>\n",
       "    <tr>\n",
       "      <th>1</th>\n",
       "      <td>Action</td>\n",
       "      <td>6032</td>\n",
       "    </tr>\n",
       "    <tr>\n",
       "      <th>2</th>\n",
       "      <td>Health &amp; Fitness</td>\n",
       "      <td>7177</td>\n",
       "    </tr>\n",
       "    <tr>\n",
       "      <th>3</th>\n",
       "      <td>Utilities</td>\n",
       "      <td>14931</td>\n",
       "    </tr>\n",
       "    <tr>\n",
       "      <th>4</th>\n",
       "      <td>Eating &amp; Drinking</td>\n",
       "      <td>22</td>\n",
       "    </tr>\n",
       "    <tr>\n",
       "      <th>5</th>\n",
       "      <td>Casino</td>\n",
       "      <td>1388</td>\n",
       "    </tr>\n",
       "    <tr>\n",
       "      <th>6</th>\n",
       "      <td>Shopping</td>\n",
       "      <td>2887</td>\n",
       "    </tr>\n",
       "    <tr>\n",
       "      <th>7</th>\n",
       "      <td>Simulation</td>\n",
       "      <td>4515</td>\n",
       "    </tr>\n",
       "    <tr>\n",
       "      <th>8</th>\n",
       "      <td>Art</td>\n",
       "      <td>70</td>\n",
       "    </tr>\n",
       "    <tr>\n",
       "      <th>9</th>\n",
       "      <td>Education</td>\n",
       "      <td>17266</td>\n",
       "    </tr>\n",
       "  </tbody>\n",
       "</table>\n",
       "</div>"
      ],
      "text/plain": [
       "               genre  count\n",
       "0             Racing   2649\n",
       "1             Action   6032\n",
       "2   Health & Fitness   7177\n",
       "3          Utilities  14931\n",
       "4  Eating & Drinking     22\n",
       "5             Casino   1388\n",
       "6           Shopping   2887\n",
       "7         Simulation   4515\n",
       "8                Art     70\n",
       "9          Education  17266"
      ]
     },
     "execution_count": 25,
     "metadata": {},
     "output_type": "execute_result"
    }
   ],
   "source": [
    "gdf = pd.DataFrame([[k,v] for k,v in genres.items()], columns=['genre', 'count'])\n",
    "gdf.head(10)"
   ]
  },
  {
   "cell_type": "code",
   "execution_count": 26,
   "metadata": {},
   "outputs": [],
   "source": [
    "gs = gdf.sort_values([\"count\"], axis=0, ascending=False)"
   ]
  },
  {
   "cell_type": "code",
   "execution_count": 27,
   "metadata": {
    "scrolled": false
   },
   "outputs": [
    {
     "data": {
      "text/plain": [
       "[<matplotlib.text.Text at 0x15b9a063c18>,\n",
       " <matplotlib.text.Text at 0x15b9a067240>,\n",
       " <matplotlib.text.Text at 0x15b9a0ec208>,\n",
       " <matplotlib.text.Text at 0x15b9a0eccc0>,\n",
       " <matplotlib.text.Text at 0x15b9a0ef7b8>,\n",
       " <matplotlib.text.Text at 0x15b9a0f42b0>,\n",
       " <matplotlib.text.Text at 0x15b9a0f4d68>,\n",
       " <matplotlib.text.Text at 0x15b9a0f8860>,\n",
       " <matplotlib.text.Text at 0x15b9a0fc358>,\n",
       " <matplotlib.text.Text at 0x15b9a0fce10>,\n",
       " <matplotlib.text.Text at 0x15b9a101908>,\n",
       " <matplotlib.text.Text at 0x15b9a104400>,\n",
       " <matplotlib.text.Text at 0x15b9a104eb8>,\n",
       " <matplotlib.text.Text at 0x15b9a1089b0>,\n",
       " <matplotlib.text.Text at 0x15b9a10c4a8>]"
      ]
     },
     "execution_count": 27,
     "metadata": {},
     "output_type": "execute_result"
    },
    {
     "data": {
      "image/png": "[encoded data removed]",
      "text/plain": [
       "<matplotlib.figure.Figure at 0x15b9a04a048>"
      ]
     },
     "metadata": {},
     "output_type": "display_data"
    }
   ],
   "source": [
    "plt.figure(figsize=(15, 7))\n",
    "fx = sns.barplot(x='genre', y='count', data=gs.head(15))\n",
    "fx.set_xticklabels(rotation=90, labels=gs['genre'])"
   ]
  },
  {
   "cell_type": "code",
   "execution_count": 28,
   "metadata": {},
   "outputs": [
    {
     "data": {
      "text/html": [
       "<div>\n",
       "<table border=\"1\" class=\"dataframe\">\n",
       "  <thead>\n",
       "    <tr style=\"text-align: right;\">\n",
       "      <th></th>\n",
       "      <th>bundleId</th>\n",
       "      <th>trackName</th>\n",
       "      <th>IsUniversal</th>\n",
       "      <th>fileSizeInMB</th>\n",
       "      <th>contentAdvisoryRating</th>\n",
       "      <th>currentVersionReleaseDate</th>\n",
       "      <th>version</th>\n",
       "      <th>subversion</th>\n",
       "      <th>artist</th>\n",
       "      <th>genres</th>\n",
       "    </tr>\n",
       "  </thead>\n",
       "  <tbody>\n",
       "    <tr>\n",
       "      <th>0</th>\n",
       "      <td>com.aaa.iphone.discounts</td>\n",
       "      <td>AAA Mobile</td>\n",
       "      <td>True</td>\n",
       "      <td>153.721680</td>\n",
       "      <td>4+</td>\n",
       "      <td>2017-12-19T13:23:36Z</td>\n",
       "      <td>3</td>\n",
       "      <td>3.11</td>\n",
       "      <td>American Automobile Association</td>\n",
       "      <td>[\"Lifestyle\", \"Travel\"]</td>\n",
       "    </tr>\n",
       "    <tr>\n",
       "      <th>1</th>\n",
       "      <td>com.nextgenreality.gunclublite</td>\n",
       "      <td>AAA GUN CLUB lite</td>\n",
       "      <td>False</td>\n",
       "      <td>29.033732</td>\n",
       "      <td>9+</td>\n",
       "      <td>2009-11-07T02:12:31Z</td>\n",
       "      <td>1</td>\n",
       "      <td>1.7</td>\n",
       "      <td>Gun Club Studios</td>\n",
       "      <td>[\"Entertainment\", \"Games\", \"Simulation\", \"Acti...</td>\n",
       "    </tr>\n",
       "    <tr>\n",
       "      <th>2</th>\n",
       "      <td>com.mcgames.chaosstrike2</td>\n",
       "      <td>Vanguard Online - AAA Shooting Free Online Gam...</td>\n",
       "      <td>True</td>\n",
       "      <td>174.367188</td>\n",
       "      <td>12+</td>\n",
       "      <td>2016-06-13T17:52:01Z</td>\n",
       "      <td>2</td>\n",
       "      <td>2.0</td>\n",
       "      <td>Hasim Mert Corekci</td>\n",
       "      <td>[\"Games\", \"Arcade\", \"Action\"]</td>\n",
       "    </tr>\n",
       "    <tr>\n",
       "      <th>3</th>\n",
       "      <td>com.BulletParty.BunboGames</td>\n",
       "      <td>AAA Bullet Party - Online first person shooter...</td>\n",
       "      <td>True</td>\n",
       "      <td>1182.394531</td>\n",
       "      <td>17+</td>\n",
       "      <td>2015-04-22T15:01:15Z</td>\n",
       "      <td>1</td>\n",
       "      <td>1.0</td>\n",
       "      <td>Engin Yildiz</td>\n",
       "      <td>[\"Games\", \"Arcade\", \"Action\"]</td>\n",
       "    </tr>\n",
       "    <tr>\n",
       "      <th>4</th>\n",
       "      <td>com.fmapp2010.ISearchFree</td>\n",
       "      <td>iSheacher</td>\n",
       "      <td>False</td>\n",
       "      <td>1.434688</td>\n",
       "      <td>17+</td>\n",
       "      <td>2011-11-23T01:52:45Z</td>\n",
       "      <td>1</td>\n",
       "      <td>1.3</td>\n",
       "      <td>feng min</td>\n",
       "      <td>[\"Photo &amp; Video\", \"Utilities\"]</td>\n",
       "    </tr>\n",
       "    <tr>\n",
       "      <th>5</th>\n",
       "      <td>com.onteca.civilwarlite</td>\n",
       "      <td>AAA American Civil War Cannon Shooter : Defend...</td>\n",
       "      <td>True</td>\n",
       "      <td>107.042969</td>\n",
       "      <td>9+</td>\n",
       "      <td>2015-06-29T16:38:41Z</td>\n",
       "      <td>4</td>\n",
       "      <td>4.1</td>\n",
       "      <td>Onteca</td>\n",
       "      <td>[\"Games\", \"Entertainment\", \"Strategy\", \"Simula...</td>\n",
       "    </tr>\n",
       "    <tr>\n",
       "      <th>6</th>\n",
       "      <td>com.appynation.powertoolsfree</td>\n",
       "      <td>Draw with Powertools FX Free</td>\n",
       "      <td>True</td>\n",
       "      <td>56.867188</td>\n",
       "      <td>4+</td>\n",
       "      <td>2016-01-12T23:42:31Z</td>\n",
       "      <td>2</td>\n",
       "      <td>2.7</td>\n",
       "      <td>Onteca</td>\n",
       "      <td>[\"Games\", \"Photo &amp; Video\", \"Trivia\", \"Board\"]</td>\n",
       "    </tr>\n",
       "    <tr>\n",
       "      <th>7</th>\n",
       "      <td>com.1361447304.4691361447304</td>\n",
       "      <td>AAA+ Foundr - Entrepreneur Magazine for a Startup</td>\n",
       "      <td>True</td>\n",
       "      <td>32.477539</td>\n",
       "      <td>4+</td>\n",
       "      <td>2017-05-12T22:18:51Z</td>\n",
       "      <td>7</td>\n",
       "      <td>7.8</td>\n",
       "      <td>NHC PUBLISHING PTY. LTD</td>\n",
       "      <td>[\"Business\", \"Magazines &amp; Newspapers\"]</td>\n",
       "    </tr>\n",
       "    <tr>\n",
       "      <th>8</th>\n",
       "      <td>com.1443792976.11461443792976</td>\n",
       "      <td>AAA+ Swimsuits &amp; Sports Magazine App For Men</td>\n",
       "      <td>True</td>\n",
       "      <td>37.444336</td>\n",
       "      <td>17+</td>\n",
       "      <td>2017-02-14T21:57:51Z</td>\n",
       "      <td>7</td>\n",
       "      <td>7.8</td>\n",
       "      <td>azacreations</td>\n",
       "      <td>[\"Magazines &amp; Newspapers\", \"Sports\"]</td>\n",
       "    </tr>\n",
       "    <tr>\n",
       "      <th>9</th>\n",
       "      <td>com.AnjaneyaApps.AAA1024Free</td>\n",
       "      <td>AAA 1024 Puzzle - cool math board game</td>\n",
       "      <td>True</td>\n",
       "      <td>13.113281</td>\n",
       "      <td>4+</td>\n",
       "      <td>2014-05-28T07:00:00Z</td>\n",
       "      <td>1</td>\n",
       "      <td>1.2</td>\n",
       "      <td>Bharat Bhushan</td>\n",
       "      <td>[\"Games\", \"Puzzle\", \"Entertainment\", \"Family\"]</td>\n",
       "    </tr>\n",
       "  </tbody>\n",
       "</table>\n",
       "</div>"
      ],
      "text/plain": [
       "                         bundleId  \\\n",
       "0        com.aaa.iphone.discounts   \n",
       "1  com.nextgenreality.gunclublite   \n",
       "2        com.mcgames.chaosstrike2   \n",
       "3      com.BulletParty.BunboGames   \n",
       "4       com.fmapp2010.ISearchFree   \n",
       "5         com.onteca.civilwarlite   \n",
       "6   com.appynation.powertoolsfree   \n",
       "7    com.1361447304.4691361447304   \n",
       "8   com.1443792976.11461443792976   \n",
       "9    com.AnjaneyaApps.AAA1024Free   \n",
       "\n",
       "                                           trackName IsUniversal  \\\n",
       "0                                         AAA Mobile        True   \n",
       "1                                  AAA GUN CLUB lite       False   \n",
       "2  Vanguard Online - AAA Shooting Free Online Gam...        True   \n",
       "3  AAA Bullet Party - Online first person shooter...        True   \n",
       "4                                          iSheacher       False   \n",
       "5  AAA American Civil War Cannon Shooter : Defend...        True   \n",
       "6                       Draw with Powertools FX Free        True   \n",
       "7  AAA+ Foundr - Entrepreneur Magazine for a Startup        True   \n",
       "8       AAA+ Swimsuits & Sports Magazine App For Men        True   \n",
       "9             AAA 1024 Puzzle - cool math board game        True   \n",
       "\n",
       "   fileSizeInMB contentAdvisoryRating currentVersionReleaseDate version  \\\n",
       "0    153.721680                    4+      2017-12-19T13:23:36Z       3   \n",
       "1     29.033732                    9+      2009-11-07T02:12:31Z       1   \n",
       "2    174.367188                   12+      2016-06-13T17:52:01Z       2   \n",
       "3   1182.394531                   17+      2015-04-22T15:01:15Z       1   \n",
       "4      1.434688                   17+      2011-11-23T01:52:45Z       1   \n",
       "5    107.042969                    9+      2015-06-29T16:38:41Z       4   \n",
       "6     56.867188                    4+      2016-01-12T23:42:31Z       2   \n",
       "7     32.477539                    4+      2017-05-12T22:18:51Z       7   \n",
       "8     37.444336                   17+      2017-02-14T21:57:51Z       7   \n",
       "9     13.113281                    4+      2014-05-28T07:00:00Z       1   \n",
       "\n",
       "  subversion                           artist  \\\n",
       "0       3.11  American Automobile Association   \n",
       "1        1.7                 Gun Club Studios   \n",
       "2        2.0               Hasim Mert Corekci   \n",
       "3        1.0                     Engin Yildiz   \n",
       "4        1.3                         feng min   \n",
       "5        4.1                           Onteca   \n",
       "6        2.7                           Onteca   \n",
       "7        7.8          NHC PUBLISHING PTY. LTD   \n",
       "8        7.8                     azacreations   \n",
       "9        1.2                   Bharat Bhushan   \n",
       "\n",
       "                                              genres  \n",
       "0                            [\"Lifestyle\", \"Travel\"]  \n",
       "1  [\"Entertainment\", \"Games\", \"Simulation\", \"Acti...  \n",
       "2                      [\"Games\", \"Arcade\", \"Action\"]  \n",
       "3                      [\"Games\", \"Arcade\", \"Action\"]  \n",
       "4                     [\"Photo & Video\", \"Utilities\"]  \n",
       "5  [\"Games\", \"Entertainment\", \"Strategy\", \"Simula...  \n",
       "6      [\"Games\", \"Photo & Video\", \"Trivia\", \"Board\"]  \n",
       "7             [\"Business\", \"Magazines & Newspapers\"]  \n",
       "8               [\"Magazines & Newspapers\", \"Sports\"]  \n",
       "9     [\"Games\", \"Puzzle\", \"Entertainment\", \"Family\"]  "
      ]
     },
     "execution_count": 28,
     "metadata": {},
     "output_type": "execute_result"
    }
   ],
   "source": [
    "data['genres'] = df['genres']\n",
    "data.head(10)"
   ]
  },
  {
   "cell_type": "markdown",
   "metadata": {},
   "source": [
    "### (15) Price\n",
    "One of most important field"
   ]
  },
  {
   "cell_type": "code",
   "execution_count": 29,
   "metadata": {},
   "outputs": [
    {
     "name": "stdout",
     "output_type": "stream",
     "text": [
      "% Free: 89.879 %\n"
     ]
    }
   ],
   "source": [
    "percentageFree = df[df.price == 0].shape[0] / df.shape[0] * 100\n",
    "\n",
    "print (\"%% Free: %0.3f %%\" % percentageFree)"
   ]
  },
  {
   "cell_type": "code",
   "execution_count": 31,
   "metadata": {},
   "outputs": [],
   "source": [
    "data['price'] = df['price']"
   ]
  },
  {
   "cell_type": "code",
   "execution_count": 33,
   "metadata": {},
   "outputs": [],
   "source": [
    "paidApps = df[df.price > 0]"
   ]
  },
  {
   "cell_type": "markdown",
   "metadata": {},
   "source": [
    "### In progress more to be added"
   ]
  }
 ],
 "metadata": {
  "kernelspec": {
   "display_name": "Python 3",
   "language": "python",
   "name": "python3"
  },
  "language_info": {
   "codemirror_mode": {
    "name": "ipython",
    "version": 3
   },
   "file_extension": ".py",
   "mimetype": "text/x-python",
   "name": "python",
   "nbconvert_exporter": "python",
   "pygments_lexer": "ipython3",
   "version": "3.5.2"
  }
 },
 "nbformat": 4,
 "nbformat_minor": 2
}
