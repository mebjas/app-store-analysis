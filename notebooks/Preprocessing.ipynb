{
 "cells": [
  {
   "cell_type": "markdown",
   "metadata": {},
   "source": [
    "# Analysis\n",
    "\n",
    "**Problem Statement:**\n",
    "\n",
    "There are so many apps on app store, some paid some free; I want to validate few of these scenarios:\n",
    " - What makes an app successfull, what is that metric\n",
    " - What other metrics are available?\n",
    " - Is there correlation between this success metric and other metrics\n",
    " - What does the clusters look like if we try to cluster them\n",
    " \n",
    "This might sound vague at the moment but essentially I want to analyse apps in app store;\n",
    "\n",
    "### Task 1: In this notebook we would essentially be dealing with pre processing of the data to make it more convenient to use;"
   ]
  },
  {
   "cell_type": "code",
   "execution_count": 1,
   "metadata": {
    "collapsed": true
   },
   "outputs": [],
   "source": [
    "import json\n",
    "import pandas as pd\n",
    "import numpy as np\n",
    "import matplotlib.pyplot as plt\n",
    "import seaborn as sns\n",
    "%matplotlib inline\n",
    "\n",
    "sns.set_style(\"whitegrid\")\n",
    "sns.set_palette(\"Set1\", 8, .75)"
   ]
  },
  {
   "cell_type": "code",
   "execution_count": 2,
   "metadata": {
    "collapsed": true
   },
   "outputs": [],
   "source": [
    "df = pd.read_csv(\"../dataset/data.csv\")"
   ]
  },
  {
   "cell_type": "code",
   "execution_count": 3,
   "metadata": {},
   "outputs": [
    {
     "data": {
      "text/plain": [
       "Index(['kind', 'features', 'advisories', 'trackCensoredName', 'fileSizeBytes',\n",
       "       'contentAdvisoryRating', 'genreIds', 'currentVersionReleaseDate',\n",
       "       'currency', 'wrapperType', 'version', 'artistName', 'artistId',\n",
       "       'genres', 'price', 'description', 'trackName', 'bundleId',\n",
       "       'isVppDeviceBasedLicensingEnabled', 'primaryGenreName', 'releaseDate',\n",
       "       'minimumOsVersion', 'formattedPrice', 'primaryGenreId',\n",
       "       'averageUserRating', 'userRatingCount', 'avgUserRatingCV',\n",
       "       'userRatingCountCV', 'sellerUrl', 'releaseNotes'],\n",
       "      dtype='object')"
      ]
     },
     "execution_count": 3,
     "metadata": {},
     "output_type": "execute_result"
    }
   ],
   "source": [
    "# list of all columns\n",
    "df.columns"
   ]
  },
  {
   "cell_type": "code",
   "execution_count": 4,
   "metadata": {},
   "outputs": [
    {
     "name": "stdout",
     "output_type": "stream",
     "text": [
      "No of rows in dataset: 325426, No of columns: 30\n"
     ]
    }
   ],
   "source": [
    "print (\"No of rows in dataset: %d, No of columns: %d\" %  (df.shape[0], df.shape[1]))"
   ]
  },
  {
   "cell_type": "markdown",
   "metadata": {},
   "source": [
    "**Note that:** `trackName` property is the name of application and `bundleId` is the unique name; we can use these bost as unique properties;\n"
   ]
  },
  {
   "cell_type": "code",
   "execution_count": 5,
   "metadata": {
    "collapsed": true
   },
   "outputs": [],
   "source": [
    "# let's define a new dataframe where we will store more processed information\n",
    "data = pd.DataFrame()\n",
    "data['bundleId'] = df['bundleId']\n",
    "data['trackName'] = df['trackName']"
   ]
  },
  {
   "cell_type": "markdown",
   "metadata": {},
   "source": [
    "## Pre processing\n",
    "\n",
    "### (1) Kind"
   ]
  },
  {
   "cell_type": "code",
   "execution_count": 6,
   "metadata": {},
   "outputs": [
    {
     "data": {
      "text/plain": [
       "software    325426\n",
       "Name: kind, dtype: int64"
      ]
     },
     "execution_count": 6,
     "metadata": {},
     "output_type": "execute_result"
    }
   ],
   "source": [
    "df.kind.value_counts()"
   ]
  },
  {
   "cell_type": "markdown",
   "metadata": {},
   "source": [
    "**Summary**: all data in the list is of same kind hence we will ignore this property\n",
    "### (2) features"
   ]
  },
  {
   "cell_type": "code",
   "execution_count": 7,
   "metadata": {},
   "outputs": [
    {
     "data": {
      "text/plain": [
       "[\"iosUniversal\"]    68.857129\n",
       "[]                  31.142871\n",
       "Name: features, dtype: float64"
      ]
     },
     "execution_count": 7,
     "metadata": {},
     "output_type": "execute_result"
    }
   ],
   "source": [
    "df.features.value_counts(normalize=True) * 100"
   ]
  },
  {
   "cell_type": "markdown",
   "metadata": {},
   "source": [
    "**Summary:** since there are only two possible outcomes I'll conver this to a column called `isUniversal`"
   ]
  },
  {
   "cell_type": "code",
   "execution_count": 8,
   "metadata": {},
   "outputs": [
    {
     "data": {
      "text/html": [
       "<div>\n",
       "<table border=\"1\" class=\"dataframe\">\n",
       "  <thead>\n",
       "    <tr style=\"text-align: right;\">\n",
       "      <th></th>\n",
       "      <th>bundleId</th>\n",
       "      <th>trackName</th>\n",
       "      <th>IsUniversal</th>\n",
       "    </tr>\n",
       "  </thead>\n",
       "  <tbody>\n",
       "    <tr>\n",
       "      <th>0</th>\n",
       "      <td>com.aaa.iphone.discounts</td>\n",
       "      <td>AAA Mobile</td>\n",
       "      <td>True</td>\n",
       "    </tr>\n",
       "    <tr>\n",
       "      <th>1</th>\n",
       "      <td>com.nextgenreality.gunclublite</td>\n",
       "      <td>AAA GUN CLUB lite</td>\n",
       "      <td>False</td>\n",
       "    </tr>\n",
       "    <tr>\n",
       "      <th>2</th>\n",
       "      <td>com.mcgames.chaosstrike2</td>\n",
       "      <td>Vanguard Online - AAA Shooting Free Online Gam...</td>\n",
       "      <td>True</td>\n",
       "    </tr>\n",
       "    <tr>\n",
       "      <th>3</th>\n",
       "      <td>com.BulletParty.BunboGames</td>\n",
       "      <td>AAA Bullet Party - Online first person shooter...</td>\n",
       "      <td>True</td>\n",
       "    </tr>\n",
       "    <tr>\n",
       "      <th>4</th>\n",
       "      <td>com.fmapp2010.ISearchFree</td>\n",
       "      <td>iSheacher</td>\n",
       "      <td>False</td>\n",
       "    </tr>\n",
       "    <tr>\n",
       "      <th>5</th>\n",
       "      <td>com.onteca.civilwarlite</td>\n",
       "      <td>AAA American Civil War Cannon Shooter : Defend...</td>\n",
       "      <td>True</td>\n",
       "    </tr>\n",
       "    <tr>\n",
       "      <th>6</th>\n",
       "      <td>com.appynation.powertoolsfree</td>\n",
       "      <td>Draw with Powertools FX Free</td>\n",
       "      <td>True</td>\n",
       "    </tr>\n",
       "    <tr>\n",
       "      <th>7</th>\n",
       "      <td>com.1361447304.4691361447304</td>\n",
       "      <td>AAA+ Foundr - Entrepreneur Magazine for a Startup</td>\n",
       "      <td>True</td>\n",
       "    </tr>\n",
       "    <tr>\n",
       "      <th>8</th>\n",
       "      <td>com.1443792976.11461443792976</td>\n",
       "      <td>AAA+ Swimsuits &amp; Sports Magazine App For Men</td>\n",
       "      <td>True</td>\n",
       "    </tr>\n",
       "    <tr>\n",
       "      <th>9</th>\n",
       "      <td>com.AnjaneyaApps.AAA1024Free</td>\n",
       "      <td>AAA 1024 Puzzle - cool math board game</td>\n",
       "      <td>True</td>\n",
       "    </tr>\n",
       "  </tbody>\n",
       "</table>\n",
       "</div>"
      ],
      "text/plain": [
       "                         bundleId  \\\n",
       "0        com.aaa.iphone.discounts   \n",
       "1  com.nextgenreality.gunclublite   \n",
       "2        com.mcgames.chaosstrike2   \n",
       "3      com.BulletParty.BunboGames   \n",
       "4       com.fmapp2010.ISearchFree   \n",
       "5         com.onteca.civilwarlite   \n",
       "6   com.appynation.powertoolsfree   \n",
       "7    com.1361447304.4691361447304   \n",
       "8   com.1443792976.11461443792976   \n",
       "9    com.AnjaneyaApps.AAA1024Free   \n",
       "\n",
       "                                           trackName IsUniversal  \n",
       "0                                         AAA Mobile        True  \n",
       "1                                  AAA GUN CLUB lite       False  \n",
       "2  Vanguard Online - AAA Shooting Free Online Gam...        True  \n",
       "3  AAA Bullet Party - Online first person shooter...        True  \n",
       "4                                          iSheacher       False  \n",
       "5  AAA American Civil War Cannon Shooter : Defend...        True  \n",
       "6                       Draw with Powertools FX Free        True  \n",
       "7  AAA+ Foundr - Entrepreneur Magazine for a Startup        True  \n",
       "8       AAA+ Swimsuits & Sports Magazine App For Men        True  \n",
       "9             AAA 1024 Puzzle - cool math board game        True  "
      ]
     },
     "execution_count": 8,
     "metadata": {},
     "output_type": "execute_result"
    }
   ],
   "source": [
    "def getIsUniversal(x):\n",
    "    if x == '[]':\n",
    "        return False\n",
    "    return True\n",
    "\n",
    "data['IsUniversal'] = df['features'].apply(lambda x: getIsUniversal(x))\n",
    "\n",
    "data.head(10)"
   ]
  },
  {
   "cell_type": "markdown",
   "metadata": {},
   "source": [
    "### (3) advisories"
   ]
  },
  {
   "cell_type": "code",
   "execution_count": 9,
   "metadata": {
    "collapsed": true,
    "scrolled": false
   },
   "outputs": [],
   "source": [
    "# df.advisories.value_counts()\n",
    "# TODO: this is a categorical data and one row can have one or more of these; Think of how to deal with this\n",
    "# but this could be an important data after all\n",
    "\n",
    "advisories = {}\n",
    "for advisoriesString in df.advisories.values:\n",
    "    ads = json.loads(advisoriesString)\n",
    "    for a in ads:\n",
    "        if a not in advisories:\n",
    "            advisories[a] = 0\n",
    "        advisories[a] = advisories[a] + 1"
   ]
  },
  {
   "cell_type": "code",
   "execution_count": 10,
   "metadata": {},
   "outputs": [
    {
     "data": {
      "text/html": [
       "<div>\n",
       "<table border=\"1\" class=\"dataframe\">\n",
       "  <thead>\n",
       "    <tr style=\"text-align: right;\">\n",
       "      <th></th>\n",
       "      <th>advisory</th>\n",
       "      <th>count</th>\n",
       "    </tr>\n",
       "  </thead>\n",
       "  <tbody>\n",
       "    <tr>\n",
       "      <th>0</th>\n",
       "      <td>Infrequent/Mild Simulated Gambling</td>\n",
       "      <td>3458</td>\n",
       "    </tr>\n",
       "    <tr>\n",
       "      <th>1</th>\n",
       "      <td>Infrequent/Mild Realistic Violence</td>\n",
       "      <td>9387</td>\n",
       "    </tr>\n",
       "    <tr>\n",
       "      <th>2</th>\n",
       "      <td>Infrequent/Mild Alcohol, Tobacco, or Drug Use ...</td>\n",
       "      <td>13828</td>\n",
       "    </tr>\n",
       "    <tr>\n",
       "      <th>3</th>\n",
       "      <td>Frequent/Intense Cartoon or Fantasy Violence</td>\n",
       "      <td>4288</td>\n",
       "    </tr>\n",
       "    <tr>\n",
       "      <th>4</th>\n",
       "      <td>Frequent/Intense Medical/Treatment Information</td>\n",
       "      <td>3992</td>\n",
       "    </tr>\n",
       "    <tr>\n",
       "      <th>5</th>\n",
       "      <td>Infrequent/Mild Medical/Treatment Information</td>\n",
       "      <td>9460</td>\n",
       "    </tr>\n",
       "    <tr>\n",
       "      <th>6</th>\n",
       "      <td>Infrequent/Mild Mature/Suggestive Themes</td>\n",
       "      <td>14720</td>\n",
       "    </tr>\n",
       "    <tr>\n",
       "      <th>7</th>\n",
       "      <td>Frequent/Intense Horror/Fear Themes</td>\n",
       "      <td>1368</td>\n",
       "    </tr>\n",
       "    <tr>\n",
       "      <th>8</th>\n",
       "      <td>Frequent/Intense Simulated Gambling</td>\n",
       "      <td>4912</td>\n",
       "    </tr>\n",
       "    <tr>\n",
       "      <th>9</th>\n",
       "      <td>Unrestricted Web Access</td>\n",
       "      <td>17518</td>\n",
       "    </tr>\n",
       "  </tbody>\n",
       "</table>\n",
       "</div>"
      ],
      "text/plain": [
       "                                            advisory  count\n",
       "0                 Infrequent/Mild Simulated Gambling   3458\n",
       "1                 Infrequent/Mild Realistic Violence   9387\n",
       "2  Infrequent/Mild Alcohol, Tobacco, or Drug Use ...  13828\n",
       "3       Frequent/Intense Cartoon or Fantasy Violence   4288\n",
       "4     Frequent/Intense Medical/Treatment Information   3992\n",
       "5      Infrequent/Mild Medical/Treatment Information   9460\n",
       "6           Infrequent/Mild Mature/Suggestive Themes  14720\n",
       "7                Frequent/Intense Horror/Fear Themes   1368\n",
       "8                Frequent/Intense Simulated Gambling   4912\n",
       "9                            Unrestricted Web Access  17518"
      ]
     },
     "execution_count": 10,
     "metadata": {},
     "output_type": "execute_result"
    }
   ],
   "source": [
    "adf = pd.DataFrame([[k,v] for k,v in advisories.items()], columns=['advisory', 'count'])\n",
    "adf.head(10)"
   ]
  },
  {
   "cell_type": "code",
   "execution_count": 11,
   "metadata": {
    "collapsed": true
   },
   "outputs": [],
   "source": [
    "adf = adf.sort_values([\"count\"], axis=0, ascending=False)"
   ]
  },
  {
   "cell_type": "code",
   "execution_count": 12,
   "metadata": {},
   "outputs": [
    {
     "data": {
      "text/plain": [
       "<matplotlib.text.Text at 0x2928ad85748>"
      ]
     },
     "execution_count": 12,
     "metadata": {},
     "output_type": "execute_result"
    },
    {
     "data": {
      "image/png": "[encoded data removed]",
      "text/plain": [
       "<matplotlib.figure.Figure at 0x292c1eca208>"
      ]
     },
     "metadata": {},
     "output_type": "display_data"
    }
   ],
   "source": [
    "plt.figure(figsize=(10, 5))\n",
    "fx = sns.barplot(x='advisory', y='count', data=adf)\n",
    "fx.set_xticklabels(rotation=90, labels=adf['advisory'])\n",
    "plt.title(\"Distribution by advisory\")"
   ]
  },
  {
   "cell_type": "code",
   "execution_count": 13,
   "metadata": {
    "collapsed": true
   },
   "outputs": [],
   "source": [
    "data[\"advisories\"] = df.advisories"
   ]
  },
  {
   "cell_type": "markdown",
   "metadata": {},
   "source": [
    "### (4) trackCensoredName\n",
    "\n",
    "This seem to be very similar to the name of the track itself, let's see the no of rows where these values differ"
   ]
  },
  {
   "cell_type": "code",
   "execution_count": 14,
   "metadata": {},
   "outputs": [
    {
     "name": "stdout",
     "output_type": "stream",
     "text": [
      "(4, 30)\n"
     ]
    },
    {
     "data": {
      "text/html": [
       "<div>\n",
       "<table border=\"1\" class=\"dataframe\">\n",
       "  <thead>\n",
       "    <tr style=\"text-align: right;\">\n",
       "      <th></th>\n",
       "      <th>trackCensoredName</th>\n",
       "      <th>trackName</th>\n",
       "    </tr>\n",
       "  </thead>\n",
       "  <tbody>\n",
       "    <tr>\n",
       "      <th>77518</th>\n",
       "      <td>F*g Garanti - Kvalitetsstemplet</td>\n",
       "      <td>Fag Garanti - Kvalitetsstemplet</td>\n",
       "    </tr>\n",
       "    <tr>\n",
       "      <th>138646</th>\n",
       "      <td>F*G SmartCheck</td>\n",
       "      <td>FAG SmartCheck</td>\n",
       "    </tr>\n",
       "    <tr>\n",
       "      <th>177041</th>\n",
       "      <td>Chin'Chic et les P't**s Malins</td>\n",
       "      <td>Chin'Chic et les P'tits Malins</td>\n",
       "    </tr>\n",
       "    <tr>\n",
       "      <th>299371</th>\n",
       "      <td>Bull S**t - Reloaded</td>\n",
       "      <td>Bull Shit - Reloaded</td>\n",
       "    </tr>\n",
       "  </tbody>\n",
       "</table>\n",
       "</div>"
      ],
      "text/plain": [
       "                      trackCensoredName                        trackName\n",
       "77518   F*g Garanti - Kvalitetsstemplet  Fag Garanti - Kvalitetsstemplet\n",
       "138646                   F*G SmartCheck                   FAG SmartCheck\n",
       "177041   Chin'Chic et les P't**s Malins   Chin'Chic et les P'tits Malins\n",
       "299371             Bull S**t - Reloaded             Bull Shit - Reloaded"
      ]
     },
     "execution_count": 14,
     "metadata": {},
     "output_type": "execute_result"
    }
   ],
   "source": [
    "print (df.loc[df['trackCensoredName'] != df['trackName']].shape)\n",
    "\n",
    "df.loc[df['trackCensoredName'] != df['trackName']][['trackCensoredName', 'trackName']]"
   ]
  },
  {
   "cell_type": "markdown",
   "metadata": {},
   "source": [
    "**Summary:**: only four rows with trackCensoredName differing from trackName so this features is useless for now\n",
    "\n",
    "### (5) fileSizeBytes\n",
    "This seem to be an interesting property let's see"
   ]
  },
  {
   "cell_type": "code",
   "execution_count": 15,
   "metadata": {},
   "outputs": [
    {
     "name": "stdout",
     "output_type": "stream",
     "text": [
      "Average file size in MD: 58.10 \n",
      "Median file size in MD: 29.83 \n"
     ]
    },
    {
     "data": {
      "text/plain": [
       "<matplotlib.axes._subplots.AxesSubplot at 0x2928aec7da0>"
      ]
     },
     "execution_count": 15,
     "metadata": {},
     "output_type": "execute_result"
    },
    {
     "data": {
      "image/png": "[encoded data removed]",
      "text/plain": [
       "<matplotlib.figure.Figure at 0x29286719f98>"
      ]
     },
     "metadata": {},
     "output_type": "display_data"
    }
   ],
   "source": [
    "meanSize = df.fileSizeBytes.mean()\n",
    "medianSize = df.fileSizeBytes.median()\n",
    "\n",
    "\n",
    "print (\"Average file size in MD: %0.2f \" % (meanSize / (1024 * 1024)))\n",
    "print (\"Median file size in MD: %0.2f \" % (medianSize / (1024 * 1024)))\n",
    "\n",
    "df.fileSizeBytes.plot(figsize=(10,6))"
   ]
  },
  {
   "cell_type": "code",
   "execution_count": 16,
   "metadata": {},
   "outputs": [
    {
     "data": {
      "text/html": [
       "<div>\n",
       "<table border=\"1\" class=\"dataframe\">\n",
       "  <thead>\n",
       "    <tr style=\"text-align: right;\">\n",
       "      <th></th>\n",
       "      <th>bundleId</th>\n",
       "      <th>trackName</th>\n",
       "      <th>IsUniversal</th>\n",
       "      <th>advisories</th>\n",
       "      <th>fileSizeInMB</th>\n",
       "    </tr>\n",
       "  </thead>\n",
       "  <tbody>\n",
       "    <tr>\n",
       "      <th>0</th>\n",
       "      <td>com.aaa.iphone.discounts</td>\n",
       "      <td>AAA Mobile</td>\n",
       "      <td>True</td>\n",
       "      <td>[]</td>\n",
       "      <td>153.721680</td>\n",
       "    </tr>\n",
       "    <tr>\n",
       "      <th>1</th>\n",
       "      <td>com.nextgenreality.gunclublite</td>\n",
       "      <td>AAA GUN CLUB lite</td>\n",
       "      <td>False</td>\n",
       "      <td>[\"Infrequent/Mild Mature/Suggestive Themes\"]</td>\n",
       "      <td>29.033732</td>\n",
       "    </tr>\n",
       "    <tr>\n",
       "      <th>2</th>\n",
       "      <td>com.mcgames.chaosstrike2</td>\n",
       "      <td>Vanguard Online - AAA Shooting Free Online Gam...</td>\n",
       "      <td>True</td>\n",
       "      <td>[\"Infrequent/Mild Realistic Violence\", \"Infreq...</td>\n",
       "      <td>174.367188</td>\n",
       "    </tr>\n",
       "    <tr>\n",
       "      <th>3</th>\n",
       "      <td>com.BulletParty.BunboGames</td>\n",
       "      <td>AAA Bullet Party - Online first person shooter...</td>\n",
       "      <td>True</td>\n",
       "      <td>[\"Frequent/Intense Mature/Suggestive Themes\", ...</td>\n",
       "      <td>1182.394531</td>\n",
       "    </tr>\n",
       "    <tr>\n",
       "      <th>4</th>\n",
       "      <td>com.fmapp2010.ISearchFree</td>\n",
       "      <td>iSheacher</td>\n",
       "      <td>False</td>\n",
       "      <td>[\"Infrequent/Mild Alcohol, Tobacco, or Drug Us...</td>\n",
       "      <td>1.434688</td>\n",
       "    </tr>\n",
       "    <tr>\n",
       "      <th>5</th>\n",
       "      <td>com.onteca.civilwarlite</td>\n",
       "      <td>AAA American Civil War Cannon Shooter : Defend...</td>\n",
       "      <td>True</td>\n",
       "      <td>[\"Infrequent/Mild Cartoon or Fantasy Violence\"]</td>\n",
       "      <td>107.042969</td>\n",
       "    </tr>\n",
       "    <tr>\n",
       "      <th>6</th>\n",
       "      <td>com.appynation.powertoolsfree</td>\n",
       "      <td>Draw with Powertools FX Free</td>\n",
       "      <td>True</td>\n",
       "      <td>[]</td>\n",
       "      <td>56.867188</td>\n",
       "    </tr>\n",
       "    <tr>\n",
       "      <th>7</th>\n",
       "      <td>com.1361447304.4691361447304</td>\n",
       "      <td>AAA+ Foundr - Entrepreneur Magazine for a Startup</td>\n",
       "      <td>True</td>\n",
       "      <td>[]</td>\n",
       "      <td>32.477539</td>\n",
       "    </tr>\n",
       "    <tr>\n",
       "      <th>8</th>\n",
       "      <td>com.1443792976.11461443792976</td>\n",
       "      <td>AAA+ Swimsuits &amp; Sports Magazine App For Men</td>\n",
       "      <td>True</td>\n",
       "      <td>[\"Infrequent/Mild Mature/Suggestive Themes\", \"...</td>\n",
       "      <td>37.444336</td>\n",
       "    </tr>\n",
       "    <tr>\n",
       "      <th>9</th>\n",
       "      <td>com.AnjaneyaApps.AAA1024Free</td>\n",
       "      <td>AAA 1024 Puzzle - cool math board game</td>\n",
       "      <td>True</td>\n",
       "      <td>[]</td>\n",
       "      <td>13.113281</td>\n",
       "    </tr>\n",
       "  </tbody>\n",
       "</table>\n",
       "</div>"
      ],
      "text/plain": [
       "                         bundleId  \\\n",
       "0        com.aaa.iphone.discounts   \n",
       "1  com.nextgenreality.gunclublite   \n",
       "2        com.mcgames.chaosstrike2   \n",
       "3      com.BulletParty.BunboGames   \n",
       "4       com.fmapp2010.ISearchFree   \n",
       "5         com.onteca.civilwarlite   \n",
       "6   com.appynation.powertoolsfree   \n",
       "7    com.1361447304.4691361447304   \n",
       "8   com.1443792976.11461443792976   \n",
       "9    com.AnjaneyaApps.AAA1024Free   \n",
       "\n",
       "                                           trackName IsUniversal  \\\n",
       "0                                         AAA Mobile        True   \n",
       "1                                  AAA GUN CLUB lite       False   \n",
       "2  Vanguard Online - AAA Shooting Free Online Gam...        True   \n",
       "3  AAA Bullet Party - Online first person shooter...        True   \n",
       "4                                          iSheacher       False   \n",
       "5  AAA American Civil War Cannon Shooter : Defend...        True   \n",
       "6                       Draw with Powertools FX Free        True   \n",
       "7  AAA+ Foundr - Entrepreneur Magazine for a Startup        True   \n",
       "8       AAA+ Swimsuits & Sports Magazine App For Men        True   \n",
       "9             AAA 1024 Puzzle - cool math board game        True   \n",
       "\n",
       "                                          advisories  fileSizeInMB  \n",
       "0                                                 []    153.721680  \n",
       "1       [\"Infrequent/Mild Mature/Suggestive Themes\"]     29.033732  \n",
       "2  [\"Infrequent/Mild Realistic Violence\", \"Infreq...    174.367188  \n",
       "3  [\"Frequent/Intense Mature/Suggestive Themes\", ...   1182.394531  \n",
       "4  [\"Infrequent/Mild Alcohol, Tobacco, or Drug Us...      1.434688  \n",
       "5    [\"Infrequent/Mild Cartoon or Fantasy Violence\"]    107.042969  \n",
       "6                                                 []     56.867188  \n",
       "7                                                 []     32.477539  \n",
       "8  [\"Infrequent/Mild Mature/Suggestive Themes\", \"...     37.444336  \n",
       "9                                                 []     13.113281  "
      ]
     },
     "execution_count": 16,
     "metadata": {},
     "output_type": "execute_result"
    }
   ],
   "source": [
    "data['fileSizeInMB'] = df['fileSizeBytes'].apply(lambda x: x / (1024 * 1024))\n",
    "data.head(10)"
   ]
  },
  {
   "cell_type": "markdown",
   "metadata": {},
   "source": [
    "### (6) contentAdvisoryRating"
   ]
  },
  {
   "cell_type": "code",
   "execution_count": 17,
   "metadata": {},
   "outputs": [
    {
     "name": "stdout",
     "output_type": "stream",
     "text": [
      "4+               247982\n",
      "17+               33675\n",
      "12+               31243\n",
      "9+                12514\n",
      "Not yet rated        12\n",
      "Name: contentAdvisoryRating, dtype: int64\n",
      "\n",
      "Normalized distribution %\n",
      "4+               76.202270\n",
      "17+              10.347975\n",
      "12+               9.600647\n",
      "9+                3.845421\n",
      "Not yet rated     0.003687\n",
      "Name: contentAdvisoryRating, dtype: float64\n"
     ]
    },
    {
     "data": {
      "text/plain": [
       "<matplotlib.axes._subplots.AxesSubplot at 0x2928e33f4e0>"
      ]
     },
     "execution_count": 17,
     "metadata": {},
     "output_type": "execute_result"
    },
    {
     "data": {
      "image/png": "[encoded data removed]",
      "text/plain": [
       "<matplotlib.figure.Figure at 0x29290440fd0>"
      ]
     },
     "metadata": {},
     "output_type": "display_data"
    },
    {
     "data": {
      "image/png": "[encoded data removed]",
      "text/plain": [
       "<matplotlib.figure.Figure at 0x2928f750320>"
      ]
     },
     "metadata": {},
     "output_type": "display_data"
    }
   ],
   "source": [
    "print (df.contentAdvisoryRating.value_counts())\n",
    "print ()\n",
    "print (\"Normalized distribution %\")\n",
    "print (df.contentAdvisoryRating.value_counts(normalize =True) * 100)\n",
    "\n",
    "_ct = pd.crosstab(df.contentAdvisoryRating, \"count\")\n",
    "_ct.plot(kind=\"pie\", subplots=True)\n",
    "\n",
    "_ct.plot(kind=\"bar\")"
   ]
  },
  {
   "cell_type": "code",
   "execution_count": 18,
   "metadata": {
    "collapsed": true
   },
   "outputs": [],
   "source": [
    "data['contentAdvisoryRating'] = df['contentAdvisoryRating']"
   ]
  },
  {
   "cell_type": "markdown",
   "metadata": {},
   "source": [
    "**Summary**: while nearly `75%` is `4+` rated apps other seem to have a meaning full distribution as well;\n",
    "### (7) genreIds\n",
    "\n",
    "This feature intutively seem to be highly correlated to `genres` property; So we shall rather look at that in place of this;\n",
    "\n",
    "### (8) currentVersionReleaseDate\n",
    "release date of current version; seems an interesting property which doens't need much preprocessing we will keep it as such;"
   ]
  },
  {
   "cell_type": "code",
   "execution_count": 19,
   "metadata": {
    "collapsed": true
   },
   "outputs": [],
   "source": [
    "data['currentVersionReleaseDate'] = df.currentVersionReleaseDate"
   ]
  },
  {
   "cell_type": "markdown",
   "metadata": {},
   "source": [
    "### (9) currency"
   ]
  },
  {
   "cell_type": "code",
   "execution_count": 20,
   "metadata": {},
   "outputs": [
    {
     "data": {
      "text/plain": [
       "USD    325426\n",
       "Name: currency, dtype: int64"
      ]
     },
     "execution_count": 20,
     "metadata": {},
     "output_type": "execute_result"
    }
   ],
   "source": [
    "df.currency.value_counts()"
   ]
  },
  {
   "cell_type": "markdown",
   "metadata": {},
   "source": [
    "All values are USD hence we will ignore\n",
    "### (10) wrapperType"
   ]
  },
  {
   "cell_type": "code",
   "execution_count": 21,
   "metadata": {},
   "outputs": [
    {
     "data": {
      "text/plain": [
       "software    325426\n",
       "Name: wrapperType, dtype: int64"
      ]
     },
     "execution_count": 21,
     "metadata": {},
     "output_type": "execute_result"
    }
   ],
   "source": [
    "df.wrapperType.value_counts()"
   ]
  },
  {
   "cell_type": "markdown",
   "metadata": {},
   "source": [
    "all values are software; hence we will ignore\n",
    "### (11) version"
   ]
  },
  {
   "cell_type": "code",
   "execution_count": 22,
   "metadata": {},
   "outputs": [
    {
     "data": {
      "text/plain": [
       "1.0      61293\n",
       "1.1      22754\n",
       "1.2      13378\n",
       "2.0       8446\n",
       "1.3       7976\n",
       "1.0.1     7412\n",
       "1.4       5821\n",
       "1.0.0     5286\n",
       "1.0.2     4550\n",
       "1.5       4132\n",
       "2.1       3994\n",
       "3.0       3225\n",
       "1.0.3     2919\n",
       "1.6       2897\n",
       "2.2       2546\n",
       "1.1.0     2397\n",
       "1.1.1     2162\n",
       "1.0.4     2040\n",
       "1.7       1995\n",
       "1.2.1     1780\n",
       "Name: version, dtype: int64"
      ]
     },
     "execution_count": 22,
     "metadata": {},
     "output_type": "execute_result"
    }
   ],
   "source": [
    "df.version.value_counts().head(20)"
   ]
  },
  {
   "cell_type": "markdown",
   "metadata": {},
   "source": [
    "**Summary**\n",
    " - This seem to be string like property which can have any value;\n",
    " We can maybe extract features like major version and subversions"
   ]
  },
  {
   "cell_type": "code",
   "execution_count": 23,
   "metadata": {},
   "outputs": [
    {
     "data": {
      "text/html": [
       "<div>\n",
       "<table border=\"1\" class=\"dataframe\">\n",
       "  <thead>\n",
       "    <tr style=\"text-align: right;\">\n",
       "      <th></th>\n",
       "      <th>bundleId</th>\n",
       "      <th>version</th>\n",
       "      <th>subversion</th>\n",
       "    </tr>\n",
       "  </thead>\n",
       "  <tbody>\n",
       "    <tr>\n",
       "      <th>0</th>\n",
       "      <td>com.aaa.iphone.discounts</td>\n",
       "      <td>3</td>\n",
       "      <td>3.11</td>\n",
       "    </tr>\n",
       "    <tr>\n",
       "      <th>1</th>\n",
       "      <td>com.nextgenreality.gunclublite</td>\n",
       "      <td>1</td>\n",
       "      <td>1.7</td>\n",
       "    </tr>\n",
       "    <tr>\n",
       "      <th>2</th>\n",
       "      <td>com.mcgames.chaosstrike2</td>\n",
       "      <td>2</td>\n",
       "      <td>2.0</td>\n",
       "    </tr>\n",
       "    <tr>\n",
       "      <th>3</th>\n",
       "      <td>com.BulletParty.BunboGames</td>\n",
       "      <td>1</td>\n",
       "      <td>1.0</td>\n",
       "    </tr>\n",
       "    <tr>\n",
       "      <th>4</th>\n",
       "      <td>com.fmapp2010.ISearchFree</td>\n",
       "      <td>1</td>\n",
       "      <td>1.3</td>\n",
       "    </tr>\n",
       "    <tr>\n",
       "      <th>5</th>\n",
       "      <td>com.onteca.civilwarlite</td>\n",
       "      <td>4</td>\n",
       "      <td>4.1</td>\n",
       "    </tr>\n",
       "    <tr>\n",
       "      <th>6</th>\n",
       "      <td>com.appynation.powertoolsfree</td>\n",
       "      <td>2</td>\n",
       "      <td>2.7</td>\n",
       "    </tr>\n",
       "    <tr>\n",
       "      <th>7</th>\n",
       "      <td>com.1361447304.4691361447304</td>\n",
       "      <td>7</td>\n",
       "      <td>7.8</td>\n",
       "    </tr>\n",
       "    <tr>\n",
       "      <th>8</th>\n",
       "      <td>com.1443792976.11461443792976</td>\n",
       "      <td>7</td>\n",
       "      <td>7.8</td>\n",
       "    </tr>\n",
       "    <tr>\n",
       "      <th>9</th>\n",
       "      <td>com.AnjaneyaApps.AAA1024Free</td>\n",
       "      <td>1</td>\n",
       "      <td>1.2</td>\n",
       "    </tr>\n",
       "  </tbody>\n",
       "</table>\n",
       "</div>"
      ],
      "text/plain": [
       "                         bundleId version subversion\n",
       "0        com.aaa.iphone.discounts       3       3.11\n",
       "1  com.nextgenreality.gunclublite       1        1.7\n",
       "2        com.mcgames.chaosstrike2       2        2.0\n",
       "3      com.BulletParty.BunboGames       1        1.0\n",
       "4       com.fmapp2010.ISearchFree       1        1.3\n",
       "5         com.onteca.civilwarlite       4        4.1\n",
       "6   com.appynation.powertoolsfree       2        2.7\n",
       "7    com.1361447304.4691361447304       7        7.8\n",
       "8   com.1443792976.11461443792976       7        7.8\n",
       "9    com.AnjaneyaApps.AAA1024Free       1        1.2"
      ]
     },
     "execution_count": 23,
     "metadata": {},
     "output_type": "execute_result"
    }
   ],
   "source": [
    "def getMajorVersion(ver):\n",
    "    return ver.split('.')[0]\n",
    "\n",
    "def getMajorSubVersion(ver):\n",
    "    splt = ver.split('.')\n",
    "    if len(splt) >= 2:\n",
    "        return \".\".join(splt[0:2])\n",
    "    return splt[0] +\".0\"\n",
    "\n",
    "data['version'] = df['version'].apply(lambda x: getMajorVersion(x))\n",
    "data['subversion'] = df['version'].apply(lambda x: getMajorSubVersion(x))\n",
    "\n",
    "data[['bundleId', 'version', 'subversion']].head(10)"
   ]
  },
  {
   "cell_type": "markdown",
   "metadata": {},
   "source": [
    "### (12) artistName"
   ]
  },
  {
   "cell_type": "code",
   "execution_count": 24,
   "metadata": {},
   "outputs": [
    {
     "name": "stdout",
     "output_type": "stream",
     "text": [
      "artists with max applications\n"
     ]
    },
    {
     "data": {
      "text/plain": [
       "CrowdCompass, Inc.                      1523\n",
       "eChurch Apps                            1212\n",
       "MINDBODY, Incorporated                  1008\n",
       "Subsplash Inc                            997\n",
       "DoubleDutch                              800\n",
       "FMG Suite                                704\n",
       "KitApps, Inc.                            612\n",
       "SKOOLBAG PTY LTD                         575\n",
       "ChowNow                                  463\n",
       "Ketchapp                                 418\n",
       "EventMobi                                414\n",
       "Sharefaith                               398\n",
       "AppsVision                               396\n",
       "Magzter Inc.                             368\n",
       "Tapps Tecnologia da Informação Ltda.     316\n",
       "Flytomap                                 261\n",
       "Guidebook Inc                            258\n",
       "Narvii Inc.                              244\n",
       "Nobex Technologies                       243\n",
       "Big Fish Games, Inc                      234\n",
       "Name: artistName, dtype: int64"
      ]
     },
     "execution_count": 24,
     "metadata": {},
     "output_type": "execute_result"
    }
   ],
   "source": [
    "print (\"artists with max applications\")\n",
    "df.artistName.value_counts().head(20)"
   ]
  },
  {
   "cell_type": "code",
   "execution_count": 25,
   "metadata": {
    "collapsed": true
   },
   "outputs": [],
   "source": [
    "data['artist'] = df['artistName']"
   ]
  },
  {
   "cell_type": "markdown",
   "metadata": {},
   "source": [
    "### (13) artistId:\n",
    "might is highly correlated to artistName and hence will ignore\n",
    "\n",
    "### (14) genres\n",
    "This is one of very important property; Let's do some analysis here"
   ]
  },
  {
   "cell_type": "code",
   "execution_count": 26,
   "metadata": {
    "collapsed": true
   },
   "outputs": [],
   "source": [
    "import json\n",
    "genres = {}\n",
    "for genreString in df.genres.values:\n",
    "    gs = json.loads(genreString)\n",
    "    for g in gs:\n",
    "        if g not in genres:\n",
    "            genres[g] = 0\n",
    "        genres[g] = genres[g] + 1"
   ]
  },
  {
   "cell_type": "code",
   "execution_count": 27,
   "metadata": {},
   "outputs": [
    {
     "data": {
      "text/html": [
       "<div>\n",
       "<table border=\"1\" class=\"dataframe\">\n",
       "  <thead>\n",
       "    <tr style=\"text-align: right;\">\n",
       "      <th></th>\n",
       "      <th>genre</th>\n",
       "      <th>count</th>\n",
       "    </tr>\n",
       "  </thead>\n",
       "  <tbody>\n",
       "    <tr>\n",
       "      <th>0</th>\n",
       "      <td>Business</td>\n",
       "      <td>43091</td>\n",
       "    </tr>\n",
       "    <tr>\n",
       "      <th>1</th>\n",
       "      <td>Racing</td>\n",
       "      <td>5894</td>\n",
       "    </tr>\n",
       "    <tr>\n",
       "      <th>2</th>\n",
       "      <td>Games</td>\n",
       "      <td>79645</td>\n",
       "    </tr>\n",
       "    <tr>\n",
       "      <th>3</th>\n",
       "      <td>Food &amp; Drink</td>\n",
       "      <td>9041</td>\n",
       "    </tr>\n",
       "    <tr>\n",
       "      <th>4</th>\n",
       "      <td>Eating &amp; Drinking</td>\n",
       "      <td>86</td>\n",
       "    </tr>\n",
       "    <tr>\n",
       "      <th>5</th>\n",
       "      <td>Finance</td>\n",
       "      <td>15379</td>\n",
       "    </tr>\n",
       "    <tr>\n",
       "      <th>6</th>\n",
       "      <td>Celebrations</td>\n",
       "      <td>204</td>\n",
       "    </tr>\n",
       "    <tr>\n",
       "      <th>7</th>\n",
       "      <td>People</td>\n",
       "      <td>234</td>\n",
       "    </tr>\n",
       "    <tr>\n",
       "      <th>8</th>\n",
       "      <td>Art</td>\n",
       "      <td>213</td>\n",
       "    </tr>\n",
       "    <tr>\n",
       "      <th>9</th>\n",
       "      <td>Sports</td>\n",
       "      <td>20509</td>\n",
       "    </tr>\n",
       "  </tbody>\n",
       "</table>\n",
       "</div>"
      ],
      "text/plain": [
       "               genre  count\n",
       "0           Business  43091\n",
       "1             Racing   5894\n",
       "2              Games  79645\n",
       "3       Food & Drink   9041\n",
       "4  Eating & Drinking     86\n",
       "5            Finance  15379\n",
       "6       Celebrations    204\n",
       "7             People    234\n",
       "8                Art    213\n",
       "9             Sports  20509"
      ]
     },
     "execution_count": 27,
     "metadata": {},
     "output_type": "execute_result"
    }
   ],
   "source": [
    "gdf = pd.DataFrame([[k,v] for k,v in genres.items()], columns=['genre', 'count'])\n",
    "gdf.head(10)"
   ]
  },
  {
   "cell_type": "code",
   "execution_count": 28,
   "metadata": {
    "collapsed": true
   },
   "outputs": [],
   "source": [
    "gs = gdf.sort_values([\"count\"], axis=0, ascending=False)"
   ]
  },
  {
   "cell_type": "code",
   "execution_count": 29,
   "metadata": {
    "scrolled": false
   },
   "outputs": [
    {
     "data": {
      "text/plain": [
       "<matplotlib.text.Text at 0x2928a8a4eb8>"
      ]
     },
     "execution_count": 29,
     "metadata": {},
     "output_type": "execute_result"
    },
    {
     "data": {
      "image/png": "[encoded data removed]",
      "text/plain": [
       "<matplotlib.figure.Figure at 0x2929129f978>"
      ]
     },
     "metadata": {},
     "output_type": "display_data"
    }
   ],
   "source": [
    "plt.figure(figsize=(10, 5))\n",
    "fx = sns.barplot(x='genre', y='count', data=gs.head(15))\n",
    "fx.set_xticklabels(rotation=90, labels=gs['genre'])\n",
    "plt.title(\"Distribution by genres\")"
   ]
  },
  {
   "cell_type": "code",
   "execution_count": 30,
   "metadata": {},
   "outputs": [
    {
     "data": {
      "text/html": [
       "<div>\n",
       "<table border=\"1\" class=\"dataframe\">\n",
       "  <thead>\n",
       "    <tr style=\"text-align: right;\">\n",
       "      <th></th>\n",
       "      <th>bundleId</th>\n",
       "      <th>trackName</th>\n",
       "      <th>IsUniversal</th>\n",
       "      <th>advisories</th>\n",
       "      <th>fileSizeInMB</th>\n",
       "      <th>contentAdvisoryRating</th>\n",
       "      <th>currentVersionReleaseDate</th>\n",
       "      <th>version</th>\n",
       "      <th>subversion</th>\n",
       "      <th>artist</th>\n",
       "      <th>genres</th>\n",
       "    </tr>\n",
       "  </thead>\n",
       "  <tbody>\n",
       "    <tr>\n",
       "      <th>0</th>\n",
       "      <td>com.aaa.iphone.discounts</td>\n",
       "      <td>AAA Mobile</td>\n",
       "      <td>True</td>\n",
       "      <td>[]</td>\n",
       "      <td>153.721680</td>\n",
       "      <td>4+</td>\n",
       "      <td>2017-12-19T13:23:36Z</td>\n",
       "      <td>3</td>\n",
       "      <td>3.11</td>\n",
       "      <td>American Automobile Association</td>\n",
       "      <td>[\"Lifestyle\", \"Travel\"]</td>\n",
       "    </tr>\n",
       "    <tr>\n",
       "      <th>1</th>\n",
       "      <td>com.nextgenreality.gunclublite</td>\n",
       "      <td>AAA GUN CLUB lite</td>\n",
       "      <td>False</td>\n",
       "      <td>[\"Infrequent/Mild Mature/Suggestive Themes\"]</td>\n",
       "      <td>29.033732</td>\n",
       "      <td>9+</td>\n",
       "      <td>2009-11-07T02:12:31Z</td>\n",
       "      <td>1</td>\n",
       "      <td>1.7</td>\n",
       "      <td>Gun Club Studios</td>\n",
       "      <td>[\"Entertainment\", \"Games\", \"Simulation\", \"Acti...</td>\n",
       "    </tr>\n",
       "    <tr>\n",
       "      <th>2</th>\n",
       "      <td>com.mcgames.chaosstrike2</td>\n",
       "      <td>Vanguard Online - AAA Shooting Free Online Gam...</td>\n",
       "      <td>True</td>\n",
       "      <td>[\"Infrequent/Mild Realistic Violence\", \"Infreq...</td>\n",
       "      <td>174.367188</td>\n",
       "      <td>12+</td>\n",
       "      <td>2016-06-13T17:52:01Z</td>\n",
       "      <td>2</td>\n",
       "      <td>2.0</td>\n",
       "      <td>Hasim Mert Corekci</td>\n",
       "      <td>[\"Games\", \"Arcade\", \"Action\"]</td>\n",
       "    </tr>\n",
       "    <tr>\n",
       "      <th>3</th>\n",
       "      <td>com.BulletParty.BunboGames</td>\n",
       "      <td>AAA Bullet Party - Online first person shooter...</td>\n",
       "      <td>True</td>\n",
       "      <td>[\"Frequent/Intense Mature/Suggestive Themes\", ...</td>\n",
       "      <td>1182.394531</td>\n",
       "      <td>17+</td>\n",
       "      <td>2015-04-22T15:01:15Z</td>\n",
       "      <td>1</td>\n",
       "      <td>1.0</td>\n",
       "      <td>Engin Yildiz</td>\n",
       "      <td>[\"Games\", \"Arcade\", \"Action\"]</td>\n",
       "    </tr>\n",
       "    <tr>\n",
       "      <th>4</th>\n",
       "      <td>com.fmapp2010.ISearchFree</td>\n",
       "      <td>iSheacher</td>\n",
       "      <td>False</td>\n",
       "      <td>[\"Infrequent/Mild Alcohol, Tobacco, or Drug Us...</td>\n",
       "      <td>1.434688</td>\n",
       "      <td>17+</td>\n",
       "      <td>2011-11-23T01:52:45Z</td>\n",
       "      <td>1</td>\n",
       "      <td>1.3</td>\n",
       "      <td>feng min</td>\n",
       "      <td>[\"Photo &amp; Video\", \"Utilities\"]</td>\n",
       "    </tr>\n",
       "    <tr>\n",
       "      <th>5</th>\n",
       "      <td>com.onteca.civilwarlite</td>\n",
       "      <td>AAA American Civil War Cannon Shooter : Defend...</td>\n",
       "      <td>True</td>\n",
       "      <td>[\"Infrequent/Mild Cartoon or Fantasy Violence\"]</td>\n",
       "      <td>107.042969</td>\n",
       "      <td>9+</td>\n",
       "      <td>2015-06-29T16:38:41Z</td>\n",
       "      <td>4</td>\n",
       "      <td>4.1</td>\n",
       "      <td>Onteca</td>\n",
       "      <td>[\"Games\", \"Entertainment\", \"Strategy\", \"Simula...</td>\n",
       "    </tr>\n",
       "    <tr>\n",
       "      <th>6</th>\n",
       "      <td>com.appynation.powertoolsfree</td>\n",
       "      <td>Draw with Powertools FX Free</td>\n",
       "      <td>True</td>\n",
       "      <td>[]</td>\n",
       "      <td>56.867188</td>\n",
       "      <td>4+</td>\n",
       "      <td>2016-01-12T23:42:31Z</td>\n",
       "      <td>2</td>\n",
       "      <td>2.7</td>\n",
       "      <td>Onteca</td>\n",
       "      <td>[\"Games\", \"Photo &amp; Video\", \"Trivia\", \"Board\"]</td>\n",
       "    </tr>\n",
       "    <tr>\n",
       "      <th>7</th>\n",
       "      <td>com.1361447304.4691361447304</td>\n",
       "      <td>AAA+ Foundr - Entrepreneur Magazine for a Startup</td>\n",
       "      <td>True</td>\n",
       "      <td>[]</td>\n",
       "      <td>32.477539</td>\n",
       "      <td>4+</td>\n",
       "      <td>2017-05-12T22:18:51Z</td>\n",
       "      <td>7</td>\n",
       "      <td>7.8</td>\n",
       "      <td>NHC PUBLISHING PTY. LTD</td>\n",
       "      <td>[\"Business\", \"Magazines &amp; Newspapers\"]</td>\n",
       "    </tr>\n",
       "    <tr>\n",
       "      <th>8</th>\n",
       "      <td>com.1443792976.11461443792976</td>\n",
       "      <td>AAA+ Swimsuits &amp; Sports Magazine App For Men</td>\n",
       "      <td>True</td>\n",
       "      <td>[\"Infrequent/Mild Mature/Suggestive Themes\", \"...</td>\n",
       "      <td>37.444336</td>\n",
       "      <td>17+</td>\n",
       "      <td>2017-02-14T21:57:51Z</td>\n",
       "      <td>7</td>\n",
       "      <td>7.8</td>\n",
       "      <td>azacreations</td>\n",
       "      <td>[\"Magazines &amp; Newspapers\", \"Sports\"]</td>\n",
       "    </tr>\n",
       "    <tr>\n",
       "      <th>9</th>\n",
       "      <td>com.AnjaneyaApps.AAA1024Free</td>\n",
       "      <td>AAA 1024 Puzzle - cool math board game</td>\n",
       "      <td>True</td>\n",
       "      <td>[]</td>\n",
       "      <td>13.113281</td>\n",
       "      <td>4+</td>\n",
       "      <td>2014-05-28T07:00:00Z</td>\n",
       "      <td>1</td>\n",
       "      <td>1.2</td>\n",
       "      <td>Bharat Bhushan</td>\n",
       "      <td>[\"Games\", \"Puzzle\", \"Entertainment\", \"Family\"]</td>\n",
       "    </tr>\n",
       "  </tbody>\n",
       "</table>\n",
       "</div>"
      ],
      "text/plain": [
       "                         bundleId  \\\n",
       "0        com.aaa.iphone.discounts   \n",
       "1  com.nextgenreality.gunclublite   \n",
       "2        com.mcgames.chaosstrike2   \n",
       "3      com.BulletParty.BunboGames   \n",
       "4       com.fmapp2010.ISearchFree   \n",
       "5         com.onteca.civilwarlite   \n",
       "6   com.appynation.powertoolsfree   \n",
       "7    com.1361447304.4691361447304   \n",
       "8   com.1443792976.11461443792976   \n",
       "9    com.AnjaneyaApps.AAA1024Free   \n",
       "\n",
       "                                           trackName IsUniversal  \\\n",
       "0                                         AAA Mobile        True   \n",
       "1                                  AAA GUN CLUB lite       False   \n",
       "2  Vanguard Online - AAA Shooting Free Online Gam...        True   \n",
       "3  AAA Bullet Party - Online first person shooter...        True   \n",
       "4                                          iSheacher       False   \n",
       "5  AAA American Civil War Cannon Shooter : Defend...        True   \n",
       "6                       Draw with Powertools FX Free        True   \n",
       "7  AAA+ Foundr - Entrepreneur Magazine for a Startup        True   \n",
       "8       AAA+ Swimsuits & Sports Magazine App For Men        True   \n",
       "9             AAA 1024 Puzzle - cool math board game        True   \n",
       "\n",
       "                                          advisories  fileSizeInMB  \\\n",
       "0                                                 []    153.721680   \n",
       "1       [\"Infrequent/Mild Mature/Suggestive Themes\"]     29.033732   \n",
       "2  [\"Infrequent/Mild Realistic Violence\", \"Infreq...    174.367188   \n",
       "3  [\"Frequent/Intense Mature/Suggestive Themes\", ...   1182.394531   \n",
       "4  [\"Infrequent/Mild Alcohol, Tobacco, or Drug Us...      1.434688   \n",
       "5    [\"Infrequent/Mild Cartoon or Fantasy Violence\"]    107.042969   \n",
       "6                                                 []     56.867188   \n",
       "7                                                 []     32.477539   \n",
       "8  [\"Infrequent/Mild Mature/Suggestive Themes\", \"...     37.444336   \n",
       "9                                                 []     13.113281   \n",
       "\n",
       "  contentAdvisoryRating currentVersionReleaseDate version subversion  \\\n",
       "0                    4+      2017-12-19T13:23:36Z       3       3.11   \n",
       "1                    9+      2009-11-07T02:12:31Z       1        1.7   \n",
       "2                   12+      2016-06-13T17:52:01Z       2        2.0   \n",
       "3                   17+      2015-04-22T15:01:15Z       1        1.0   \n",
       "4                   17+      2011-11-23T01:52:45Z       1        1.3   \n",
       "5                    9+      2015-06-29T16:38:41Z       4        4.1   \n",
       "6                    4+      2016-01-12T23:42:31Z       2        2.7   \n",
       "7                    4+      2017-05-12T22:18:51Z       7        7.8   \n",
       "8                   17+      2017-02-14T21:57:51Z       7        7.8   \n",
       "9                    4+      2014-05-28T07:00:00Z       1        1.2   \n",
       "\n",
       "                            artist  \\\n",
       "0  American Automobile Association   \n",
       "1                 Gun Club Studios   \n",
       "2               Hasim Mert Corekci   \n",
       "3                     Engin Yildiz   \n",
       "4                         feng min   \n",
       "5                           Onteca   \n",
       "6                           Onteca   \n",
       "7          NHC PUBLISHING PTY. LTD   \n",
       "8                     azacreations   \n",
       "9                   Bharat Bhushan   \n",
       "\n",
       "                                              genres  \n",
       "0                            [\"Lifestyle\", \"Travel\"]  \n",
       "1  [\"Entertainment\", \"Games\", \"Simulation\", \"Acti...  \n",
       "2                      [\"Games\", \"Arcade\", \"Action\"]  \n",
       "3                      [\"Games\", \"Arcade\", \"Action\"]  \n",
       "4                     [\"Photo & Video\", \"Utilities\"]  \n",
       "5  [\"Games\", \"Entertainment\", \"Strategy\", \"Simula...  \n",
       "6      [\"Games\", \"Photo & Video\", \"Trivia\", \"Board\"]  \n",
       "7             [\"Business\", \"Magazines & Newspapers\"]  \n",
       "8               [\"Magazines & Newspapers\", \"Sports\"]  \n",
       "9     [\"Games\", \"Puzzle\", \"Entertainment\", \"Family\"]  "
      ]
     },
     "execution_count": 30,
     "metadata": {},
     "output_type": "execute_result"
    }
   ],
   "source": [
    "data['genres'] = df['genres']\n",
    "data.head(10)"
   ]
  },
  {
   "cell_type": "markdown",
   "metadata": {},
   "source": [
    "### (15) Price\n",
    "One of most important field"
   ]
  },
  {
   "cell_type": "code",
   "execution_count": 31,
   "metadata": {},
   "outputs": [
    {
     "name": "stdout",
     "output_type": "stream",
     "text": [
      "% Free: 89.438 %\n"
     ]
    }
   ],
   "source": [
    "percentageFree = df[df.price == 0].shape[0] / df.shape[0] * 100\n",
    "\n",
    "print (\"%% Free: %0.3f %%\" % percentageFree)"
   ]
  },
  {
   "cell_type": "code",
   "execution_count": 32,
   "metadata": {
    "collapsed": true
   },
   "outputs": [],
   "source": [
    "data['price'] = df['price']"
   ]
  },
  {
   "cell_type": "code",
   "execution_count": 33,
   "metadata": {},
   "outputs": [
    {
     "data": {
      "text/html": [
       "<div>\n",
       "<table border=\"1\" class=\"dataframe\">\n",
       "  <thead>\n",
       "    <tr style=\"text-align: right;\">\n",
       "      <th></th>\n",
       "      <th>bundleId</th>\n",
       "      <th>trackName</th>\n",
       "      <th>IsUniversal</th>\n",
       "      <th>advisories</th>\n",
       "      <th>fileSizeInMB</th>\n",
       "      <th>contentAdvisoryRating</th>\n",
       "      <th>currentVersionReleaseDate</th>\n",
       "      <th>version</th>\n",
       "      <th>subversion</th>\n",
       "      <th>artist</th>\n",
       "      <th>genres</th>\n",
       "      <th>price</th>\n",
       "    </tr>\n",
       "  </thead>\n",
       "  <tbody>\n",
       "    <tr>\n",
       "      <th>0</th>\n",
       "      <td>com.aaa.iphone.discounts</td>\n",
       "      <td>AAA Mobile</td>\n",
       "      <td>True</td>\n",
       "      <td>[]</td>\n",
       "      <td>153.721680</td>\n",
       "      <td>4+</td>\n",
       "      <td>2017-12-19T13:23:36Z</td>\n",
       "      <td>3</td>\n",
       "      <td>3.11</td>\n",
       "      <td>American Automobile Association</td>\n",
       "      <td>[\"Lifestyle\", \"Travel\"]</td>\n",
       "      <td>0.0</td>\n",
       "    </tr>\n",
       "    <tr>\n",
       "      <th>1</th>\n",
       "      <td>com.nextgenreality.gunclublite</td>\n",
       "      <td>AAA GUN CLUB lite</td>\n",
       "      <td>False</td>\n",
       "      <td>[\"Infrequent/Mild Mature/Suggestive Themes\"]</td>\n",
       "      <td>29.033732</td>\n",
       "      <td>9+</td>\n",
       "      <td>2009-11-07T02:12:31Z</td>\n",
       "      <td>1</td>\n",
       "      <td>1.7</td>\n",
       "      <td>Gun Club Studios</td>\n",
       "      <td>[\"Entertainment\", \"Games\", \"Simulation\", \"Acti...</td>\n",
       "      <td>0.0</td>\n",
       "    </tr>\n",
       "    <tr>\n",
       "      <th>2</th>\n",
       "      <td>com.mcgames.chaosstrike2</td>\n",
       "      <td>Vanguard Online - AAA Shooting Free Online Gam...</td>\n",
       "      <td>True</td>\n",
       "      <td>[\"Infrequent/Mild Realistic Violence\", \"Infreq...</td>\n",
       "      <td>174.367188</td>\n",
       "      <td>12+</td>\n",
       "      <td>2016-06-13T17:52:01Z</td>\n",
       "      <td>2</td>\n",
       "      <td>2.0</td>\n",
       "      <td>Hasim Mert Corekci</td>\n",
       "      <td>[\"Games\", \"Arcade\", \"Action\"]</td>\n",
       "      <td>0.0</td>\n",
       "    </tr>\n",
       "  </tbody>\n",
       "</table>\n",
       "</div>"
      ],
      "text/plain": [
       "                         bundleId  \\\n",
       "0        com.aaa.iphone.discounts   \n",
       "1  com.nextgenreality.gunclublite   \n",
       "2        com.mcgames.chaosstrike2   \n",
       "\n",
       "                                           trackName IsUniversal  \\\n",
       "0                                         AAA Mobile        True   \n",
       "1                                  AAA GUN CLUB lite       False   \n",
       "2  Vanguard Online - AAA Shooting Free Online Gam...        True   \n",
       "\n",
       "                                          advisories  fileSizeInMB  \\\n",
       "0                                                 []    153.721680   \n",
       "1       [\"Infrequent/Mild Mature/Suggestive Themes\"]     29.033732   \n",
       "2  [\"Infrequent/Mild Realistic Violence\", \"Infreq...    174.367188   \n",
       "\n",
       "  contentAdvisoryRating currentVersionReleaseDate version subversion  \\\n",
       "0                    4+      2017-12-19T13:23:36Z       3       3.11   \n",
       "1                    9+      2009-11-07T02:12:31Z       1        1.7   \n",
       "2                   12+      2016-06-13T17:52:01Z       2        2.0   \n",
       "\n",
       "                            artist  \\\n",
       "0  American Automobile Association   \n",
       "1                 Gun Club Studios   \n",
       "2               Hasim Mert Corekci   \n",
       "\n",
       "                                              genres  price  \n",
       "0                            [\"Lifestyle\", \"Travel\"]    0.0  \n",
       "1  [\"Entertainment\", \"Games\", \"Simulation\", \"Acti...    0.0  \n",
       "2                      [\"Games\", \"Arcade\", \"Action\"]    0.0  "
      ]
     },
     "execution_count": 33,
     "metadata": {},
     "output_type": "execute_result"
    }
   ],
   "source": [
    "data.head(3)"
   ]
  },
  {
   "cell_type": "markdown",
   "metadata": {},
   "source": [
    "### (16) Description\n",
    "This is a plain text field, will just copy it to new dataframe and use as text features later"
   ]
  },
  {
   "cell_type": "code",
   "execution_count": 34,
   "metadata": {
    "collapsed": true
   },
   "outputs": [],
   "source": [
    "data['description'] = df.description"
   ]
  },
  {
   "cell_type": "markdown",
   "metadata": {},
   "source": [
    "### (17) isVppDeviceBasedLicensingEnabled\n",
    "I don't totally know what this feature means (TODO);\n",
    "99.2% sample have true value rest have false, but stills storing this to actual df"
   ]
  },
  {
   "cell_type": "code",
   "execution_count": 35,
   "metadata": {},
   "outputs": [
    {
     "data": {
      "text/plain": [
       "True     99.271109\n",
       "False     0.728891\n",
       "Name: isVppDeviceBasedLicensingEnabled, dtype: float64"
      ]
     },
     "execution_count": 35,
     "metadata": {},
     "output_type": "execute_result"
    }
   ],
   "source": [
    "df.isVppDeviceBasedLicensingEnabled.value_counts(normalize=True) * 100"
   ]
  },
  {
   "cell_type": "code",
   "execution_count": 36,
   "metadata": {
    "collapsed": true
   },
   "outputs": [],
   "source": [
    "data['isVppDeviceBasedLicensingEnabled'] = df.isVppDeviceBasedLicensingEnabled"
   ]
  },
  {
   "cell_type": "markdown",
   "metadata": {},
   "source": [
    "### (17) primaryGenreName\n",
    "This is an interesting feature"
   ]
  },
  {
   "cell_type": "code",
   "execution_count": 37,
   "metadata": {},
   "outputs": [
    {
     "data": {
      "text/plain": [
       "Games                     21.963519\n",
       "Business                   9.546256\n",
       "Education                  8.949500\n",
       "Lifestyle                  6.593819\n",
       "Entertainment              6.125509\n",
       "Utilities                  5.890740\n",
       "Finance                    3.736026\n",
       "Health & Fitness           3.681636\n",
       "Productivity               3.395549\n",
       "Travel                     3.312888\n",
       "Sports                     2.950594\n",
       "Music                      2.941068\n",
       "Medical                    2.849496\n",
       "Photo & Video              2.705070\n",
       "Reference                  2.458009\n",
       "Food & Drink               2.186672\n",
       "Social Networking          2.159323\n",
       "News                       2.155943\n",
       "Shopping                   1.972184\n",
       "Book                       1.813930\n",
       "Navigation                 1.368360\n",
       "Stickers                   0.721823\n",
       "Weather                    0.445263\n",
       "Magazines & Newspapers     0.076822\n",
       "Name: primaryGenreName, dtype: float64"
      ]
     },
     "execution_count": 37,
     "metadata": {},
     "output_type": "execute_result"
    }
   ],
   "source": [
    "df.primaryGenreName.value_counts(normalize=True) * 100"
   ]
  },
  {
   "cell_type": "code",
   "execution_count": 38,
   "metadata": {},
   "outputs": [
    {
     "data": {
      "text/plain": [
       "<matplotlib.axes._subplots.AxesSubplot at 0x2928a95a128>"
      ]
     },
     "execution_count": 38,
     "metadata": {},
     "output_type": "execute_result"
    },
    {
     "data": {
      "image/png": "[encoded data removed]",
      "text/plain": [
       "<matplotlib.figure.Figure at 0x2928a92d0b8>"
      ]
     },
     "metadata": {},
     "output_type": "display_data"
    }
   ],
   "source": [
    "_ct = pd.crosstab(df.primaryGenreName, \"count\")\n",
    "_ct.plot(kind='bar', figsize=(10, 5))"
   ]
  },
  {
   "cell_type": "code",
   "execution_count": 39,
   "metadata": {
    "collapsed": true
   },
   "outputs": [],
   "source": [
    "data['primaryGenreName'] = df.primaryGenreName"
   ]
  },
  {
   "cell_type": "markdown",
   "metadata": {},
   "source": [
    "### (17) releaseDate\n",
    "released date of app; This could be related to how old the app is"
   ]
  },
  {
   "cell_type": "code",
   "execution_count": 40,
   "metadata": {
    "collapsed": true
   },
   "outputs": [],
   "source": [
    "# data['releaseDate'] = df.releaseDate\n",
    "from datetime import datetime\n",
    "def getAgeInDays(datestring):\n",
    "    return (datetime.now() - datetime.strptime(datestring, \"%Y-%m-%dT%H:%M:%SZ\")).days\n",
    "\n",
    "data['releaseDate'] = df.releaseDate\n",
    "data['ageInDays'] = df.releaseDate.apply(lambda x: getAgeInDays(x))"
   ]
  },
  {
   "cell_type": "code",
   "execution_count": 41,
   "metadata": {},
   "outputs": [
    {
     "data": {
      "text/plain": [
       "<matplotlib.axes._subplots.AxesSubplot at 0x2928a989a20>"
      ]
     },
     "execution_count": 41,
     "metadata": {},
     "output_type": "execute_result"
    },
    {
     "data": {
      "image/png": "[encoded data removed]",
      "text/plain": [
       "<matplotlib.figure.Figure at 0x2928aa2a0b8>"
      ]
     },
     "metadata": {},
     "output_type": "display_data"
    }
   ],
   "source": [
    "data['ageInDays'].hist()"
   ]
  },
  {
   "cell_type": "markdown",
   "metadata": {},
   "source": [
    "### (18) minimumOsVersion\n",
    "We will just keep the main version no for simplicity"
   ]
  },
  {
   "cell_type": "code",
   "execution_count": 42,
   "metadata": {
    "collapsed": true
   },
   "outputs": [],
   "source": [
    "def getMajorOSVersion(osver):\n",
    "    return osver.split(\".\")[0]\n",
    "data['minimumOsVersion'] = df.minimumOsVersion.apply(lambda x: getMajorOSVersion(x))"
   ]
  },
  {
   "cell_type": "code",
   "execution_count": 43,
   "metadata": {},
   "outputs": [
    {
     "data": {
      "text/plain": [
       "8     31.688310\n",
       "7     18.771088\n",
       "6     17.206062\n",
       "9     15.771327\n",
       "5      5.356671\n",
       "10     4.593364\n",
       "4      4.281772\n",
       "3      1.698082\n",
       "11     0.434815\n",
       "2      0.198509\n",
       "Name: minimumOsVersion, dtype: float64"
      ]
     },
     "execution_count": 43,
     "metadata": {},
     "output_type": "execute_result"
    }
   ],
   "source": [
    "# % distribution\n",
    "data['minimumOsVersion'].value_counts(normalize=True) * 100"
   ]
  },
  {
   "cell_type": "markdown",
   "metadata": {},
   "source": [
    "### (19) formattedPrice\n",
    "Since we have price we will ignore this\n",
    "\n",
    "### (20) primaryGenreId\n",
    "Since we have string of primary Genre we will ignore this\n",
    "\n",
    "### (21, 22) averageUserRating & avgUserRatingCV\n",
    "This is another most important feature"
   ]
  },
  {
   "cell_type": "code",
   "execution_count": 44,
   "metadata": {},
   "outputs": [
    {
     "data": {
      "text/plain": [
       "null    64.345197\n",
       "4.5     11.909005\n",
       "4.0      7.458839\n",
       "3.5      4.804472\n",
       "5.0      3.555647\n",
       "3.0      3.420747\n",
       "2.5      2.303750\n",
       "2.0      1.363136\n",
       "1.5      0.614272\n",
       "1.0      0.224936\n",
       "Name: averageUserRating, dtype: float64"
      ]
     },
     "execution_count": 44,
     "metadata": {},
     "output_type": "execute_result"
    }
   ],
   "source": [
    "# Actual\n",
    "df.averageUserRating.value_counts(normalize=True) * 100"
   ]
  },
  {
   "cell_type": "code",
   "execution_count": 45,
   "metadata": {},
   "outputs": [
    {
     "data": {
      "text/plain": [
       "null    59.795775\n",
       "5.0      9.968165\n",
       "4.5      9.513069\n",
       "4.0      6.126124\n",
       "3.5      3.660433\n",
       "3.0      3.488658\n",
       "1.0      2.906344\n",
       "2.5      1.931929\n",
       "2.0      1.758925\n",
       "1.5      0.850577\n",
       "Name: avgUserRatingCV, dtype: float64"
      ]
     },
     "execution_count": 45,
     "metadata": {},
     "output_type": "execute_result"
    }
   ],
   "source": [
    "# current version\n",
    "df.avgUserRatingCV.value_counts(normalize=True) * 100"
   ]
  },
  {
   "cell_type": "code",
   "execution_count": 46,
   "metadata": {},
   "outputs": [
    {
     "data": {
      "text/plain": [
       "<matplotlib.text.Text at 0x2928e3387b8>"
      ]
     },
     "execution_count": 46,
     "metadata": {},
     "output_type": "execute_result"
    },
    {
     "data": {
      "image/png": "[encoded data removed]",
      "text/plain": [
       "<matplotlib.figure.Figure at 0x29291db5d30>"
      ]
     },
     "metadata": {},
     "output_type": "display_data"
    },
    {
     "data": {
      "image/png": "[encoded data removed]",
      "text/plain": [
       "<matplotlib.figure.Figure at 0x29291db5cf8>"
      ]
     },
     "metadata": {},
     "output_type": "display_data"
    }
   ],
   "source": [
    "_ct = pd.crosstab(df.averageUserRating, \"Count\")\n",
    "_ct.plot(kind='bar', figsize=(15, 7))\n",
    "plt.title(\"Plot for average user rating\")\n",
    "\n",
    "_ct = pd.crosstab(df.avgUserRatingCV, \"Count\")\n",
    "_ct.plot(kind='bar', figsize=(15, 7))\n",
    "plt.title(\"Plot for average user rating for current version\")"
   ]
  },
  {
   "cell_type": "code",
   "execution_count": 47,
   "metadata": {
    "collapsed": true
   },
   "outputs": [],
   "source": [
    "data['averageUserRating'] = df.averageUserRating\n",
    "data['avgUserRatingCV'] = df.avgUserRatingCV"
   ]
  },
  {
   "cell_type": "markdown",
   "metadata": {},
   "source": [
    "**Sumamry**: maximum apps have no user rating at all;\n",
    "### (23, 24) userRatingCount & userRatingCountCV"
   ]
  },
  {
   "cell_type": "code",
   "execution_count": 48,
   "metadata": {},
   "outputs": [
    {
     "data": {
      "text/plain": [
       "<matplotlib.text.Text at 0x292c1fa1080>"
      ]
     },
     "execution_count": 48,
     "metadata": {},
     "output_type": "execute_result"
    },
    {
     "data": {
      "image/png": "[encoded data removed]",
      "text/plain": [
       "<matplotlib.figure.Figure at 0x292c1f126d8>"
      ]
     },
     "metadata": {},
     "output_type": "display_data"
    },
    {
     "data": {
      "image/png": "[encoded data removed]",
      "text/plain": [
       "<matplotlib.figure.Figure at 0x292c1f619b0>"
      ]
     },
     "metadata": {},
     "output_type": "display_data"
    }
   ],
   "source": [
    "data['userRatingCount'] = df.userRatingCount.replace('null', 0)\n",
    "data.userRatingCount = data.userRatingCount.apply(lambda x: int(x))\n",
    "data.userRatingCount.hist(figsize=(10, 5))\n",
    "plt.title(\"Histogram for user rating count\")\n",
    "\n",
    "plt.figure()\n",
    "data['userRatingCountCV'] = df.userRatingCountCV.replace('null', 0)\n",
    "data.userRatingCountCV = data.userRatingCountCV.apply(lambda x: int(x))\n",
    "data.userRatingCountCV.hist(figsize=(10, 5))\n",
    "plt.title(\"Histogram for user rating count for current version\")"
   ]
  },
  {
   "cell_type": "markdown",
   "metadata": {},
   "source": [
    "### (25) sellerUrl\n",
    " - Not all of the sellers have url, so one interesting property would be to check if website exist on the first place"
   ]
  },
  {
   "cell_type": "code",
   "execution_count": 49,
   "metadata": {},
   "outputs": [
    {
     "name": "stdout",
     "output_type": "stream",
     "text": [
      "% apps with and without seller url\n",
      "False    54.957502\n",
      "True     45.042498\n",
      "Name: hasUrl, dtype: float64\n"
     ]
    },
    {
     "data": {
      "text/plain": [
       "0    False\n",
       "1     True\n",
       "2    False\n",
       "3    False\n",
       "4     True\n",
       "5    False\n",
       "6    False\n",
       "7    False\n",
       "8     True\n",
       "9    False\n",
       "Name: hasUrl, dtype: bool"
      ]
     },
     "execution_count": 49,
     "metadata": {},
     "output_type": "execute_result"
    }
   ],
   "source": [
    "data['hasUrl'] = df.sellerUrl.apply(lambda x: x != 'null')\n",
    "\n",
    "print (\"% apps with and without seller url\")\n",
    "print (data.hasUrl.value_counts(normalize=True) * 100)\n",
    "\n",
    "data['hasUrl'].head(10)"
   ]
  },
  {
   "cell_type": "code",
   "execution_count": 50,
   "metadata": {
    "collapsed": true
   },
   "outputs": [],
   "source": [
    "def getDomain(url):\n",
    "    if url == 'null':\n",
    "        return 'null'\n",
    "    \n",
    "    _splt = url.split('/')\n",
    "    if len(_splt) >= 3:\n",
    "        return _splt[2]\n",
    "    return 'null'\n",
    "\n",
    "data['sellerUrl'] = df.sellerUrl\n",
    "data['sellerUrlDomain'] = df.sellerUrl.apply(lambda x: getDomain(x))"
   ]
  },
  {
   "cell_type": "code",
   "execution_count": 51,
   "metadata": {},
   "outputs": [
    {
     "data": {
      "text/html": [
       "<div>\n",
       "<table border=\"1\" class=\"dataframe\">\n",
       "  <thead>\n",
       "    <tr style=\"text-align: right;\">\n",
       "      <th></th>\n",
       "      <th>bundleId</th>\n",
       "      <th>trackName</th>\n",
       "      <th>IsUniversal</th>\n",
       "      <th>advisories</th>\n",
       "      <th>fileSizeInMB</th>\n",
       "      <th>contentAdvisoryRating</th>\n",
       "      <th>currentVersionReleaseDate</th>\n",
       "      <th>version</th>\n",
       "      <th>subversion</th>\n",
       "      <th>artist</th>\n",
       "      <th>...</th>\n",
       "      <th>releaseDate</th>\n",
       "      <th>ageInDays</th>\n",
       "      <th>minimumOsVersion</th>\n",
       "      <th>averageUserRating</th>\n",
       "      <th>avgUserRatingCV</th>\n",
       "      <th>userRatingCount</th>\n",
       "      <th>userRatingCountCV</th>\n",
       "      <th>hasUrl</th>\n",
       "      <th>sellerUrl</th>\n",
       "      <th>sellerUrlDomain</th>\n",
       "    </tr>\n",
       "  </thead>\n",
       "  <tbody>\n",
       "    <tr>\n",
       "      <th>0</th>\n",
       "      <td>com.aaa.iphone.discounts</td>\n",
       "      <td>AAA Mobile</td>\n",
       "      <td>True</td>\n",
       "      <td>[]</td>\n",
       "      <td>153.721680</td>\n",
       "      <td>4+</td>\n",
       "      <td>2017-12-19T13:23:36Z</td>\n",
       "      <td>3</td>\n",
       "      <td>3.11</td>\n",
       "      <td>American Automobile Association</td>\n",
       "      <td>...</td>\n",
       "      <td>2009-04-21T04:39:36Z</td>\n",
       "      <td>3189</td>\n",
       "      <td>10</td>\n",
       "      <td>3.0</td>\n",
       "      <td>3.0</td>\n",
       "      <td>24767</td>\n",
       "      <td>34</td>\n",
       "      <td>False</td>\n",
       "      <td>null</td>\n",
       "      <td>null</td>\n",
       "    </tr>\n",
       "    <tr>\n",
       "      <th>1</th>\n",
       "      <td>com.nextgenreality.gunclublite</td>\n",
       "      <td>AAA GUN CLUB lite</td>\n",
       "      <td>False</td>\n",
       "      <td>[\"Infrequent/Mild Mature/Suggestive Themes\"]</td>\n",
       "      <td>29.033732</td>\n",
       "      <td>9+</td>\n",
       "      <td>2009-11-07T02:12:31Z</td>\n",
       "      <td>1</td>\n",
       "      <td>1.7</td>\n",
       "      <td>Gun Club Studios</td>\n",
       "      <td>...</td>\n",
       "      <td>2009-04-28T07:00:00Z</td>\n",
       "      <td>3182</td>\n",
       "      <td>2</td>\n",
       "      <td>3.5</td>\n",
       "      <td>3.5</td>\n",
       "      <td>30957</td>\n",
       "      <td>20294</td>\n",
       "      <td>True</td>\n",
       "      <td>http://www.thebinarymill.com/gunclub3/</td>\n",
       "      <td>www.thebinarymill.com</td>\n",
       "    </tr>\n",
       "    <tr>\n",
       "      <th>2</th>\n",
       "      <td>com.mcgames.chaosstrike2</td>\n",
       "      <td>Vanguard Online - AAA Shooting Free Online Gam...</td>\n",
       "      <td>True</td>\n",
       "      <td>[\"Infrequent/Mild Realistic Violence\", \"Infreq...</td>\n",
       "      <td>174.367188</td>\n",
       "      <td>12+</td>\n",
       "      <td>2016-06-13T17:52:01Z</td>\n",
       "      <td>2</td>\n",
       "      <td>2.0</td>\n",
       "      <td>Hasim Mert Corekci</td>\n",
       "      <td>...</td>\n",
       "      <td>2016-01-30T00:15:05Z</td>\n",
       "      <td>715</td>\n",
       "      <td>7</td>\n",
       "      <td>4.0</td>\n",
       "      <td>4.0</td>\n",
       "      <td>403</td>\n",
       "      <td>259</td>\n",
       "      <td>False</td>\n",
       "      <td>null</td>\n",
       "      <td>null</td>\n",
       "    </tr>\n",
       "    <tr>\n",
       "      <th>3</th>\n",
       "      <td>com.BulletParty.BunboGames</td>\n",
       "      <td>AAA Bullet Party - Online first person shooter...</td>\n",
       "      <td>True</td>\n",
       "      <td>[\"Frequent/Intense Mature/Suggestive Themes\", ...</td>\n",
       "      <td>1182.394531</td>\n",
       "      <td>17+</td>\n",
       "      <td>2015-04-22T15:01:15Z</td>\n",
       "      <td>1</td>\n",
       "      <td>1.0</td>\n",
       "      <td>Engin Yildiz</td>\n",
       "      <td>...</td>\n",
       "      <td>2014-11-06T01:21:25Z</td>\n",
       "      <td>1164</td>\n",
       "      <td>6</td>\n",
       "      <td>3.5</td>\n",
       "      <td>3.5</td>\n",
       "      <td>165</td>\n",
       "      <td>146</td>\n",
       "      <td>False</td>\n",
       "      <td>null</td>\n",
       "      <td>null</td>\n",
       "    </tr>\n",
       "    <tr>\n",
       "      <th>4</th>\n",
       "      <td>com.fmapp2010.ISearchFree</td>\n",
       "      <td>iSheacher</td>\n",
       "      <td>False</td>\n",
       "      <td>[\"Infrequent/Mild Alcohol, Tobacco, or Drug Us...</td>\n",
       "      <td>1.434688</td>\n",
       "      <td>17+</td>\n",
       "      <td>2011-11-23T01:52:45Z</td>\n",
       "      <td>1</td>\n",
       "      <td>1.3</td>\n",
       "      <td>feng min</td>\n",
       "      <td>...</td>\n",
       "      <td>2010-05-19T07:00:00Z</td>\n",
       "      <td>2796</td>\n",
       "      <td>3</td>\n",
       "      <td>2.5</td>\n",
       "      <td>2.0</td>\n",
       "      <td>322</td>\n",
       "      <td>71</td>\n",
       "      <td>True</td>\n",
       "      <td>http://clotapp.blog.com/2010/04/19/all-images-...</td>\n",
       "      <td>clotapp.blog.com</td>\n",
       "    </tr>\n",
       "    <tr>\n",
       "      <th>5</th>\n",
       "      <td>com.onteca.civilwarlite</td>\n",
       "      <td>AAA American Civil War Cannon Shooter : Defend...</td>\n",
       "      <td>True</td>\n",
       "      <td>[\"Infrequent/Mild Cartoon or Fantasy Violence\"]</td>\n",
       "      <td>107.042969</td>\n",
       "      <td>9+</td>\n",
       "      <td>2015-06-29T16:38:41Z</td>\n",
       "      <td>4</td>\n",
       "      <td>4.1</td>\n",
       "      <td>Onteca</td>\n",
       "      <td>...</td>\n",
       "      <td>2012-11-16T20:26:43Z</td>\n",
       "      <td>1884</td>\n",
       "      <td>6</td>\n",
       "      <td>3.0</td>\n",
       "      <td>3.5</td>\n",
       "      <td>199</td>\n",
       "      <td>50</td>\n",
       "      <td>False</td>\n",
       "      <td>null</td>\n",
       "      <td>null</td>\n",
       "    </tr>\n",
       "    <tr>\n",
       "      <th>6</th>\n",
       "      <td>com.appynation.powertoolsfree</td>\n",
       "      <td>Draw with Powertools FX Free</td>\n",
       "      <td>True</td>\n",
       "      <td>[]</td>\n",
       "      <td>56.867188</td>\n",
       "      <td>4+</td>\n",
       "      <td>2016-01-12T23:42:31Z</td>\n",
       "      <td>2</td>\n",
       "      <td>2.7</td>\n",
       "      <td>Onteca</td>\n",
       "      <td>...</td>\n",
       "      <td>2012-08-02T19:17:30Z</td>\n",
       "      <td>1990</td>\n",
       "      <td>7</td>\n",
       "      <td>4.0</td>\n",
       "      <td>2.5</td>\n",
       "      <td>64</td>\n",
       "      <td>4</td>\n",
       "      <td>False</td>\n",
       "      <td>null</td>\n",
       "      <td>null</td>\n",
       "    </tr>\n",
       "    <tr>\n",
       "      <th>7</th>\n",
       "      <td>com.1361447304.4691361447304</td>\n",
       "      <td>AAA+ Foundr - Entrepreneur Magazine for a Startup</td>\n",
       "      <td>True</td>\n",
       "      <td>[]</td>\n",
       "      <td>32.477539</td>\n",
       "      <td>4+</td>\n",
       "      <td>2017-05-12T22:18:51Z</td>\n",
       "      <td>7</td>\n",
       "      <td>7.8</td>\n",
       "      <td>NHC PUBLISHING PTY. LTD</td>\n",
       "      <td>...</td>\n",
       "      <td>2013-03-05T00:19:42Z</td>\n",
       "      <td>1776</td>\n",
       "      <td>8</td>\n",
       "      <td>5.0</td>\n",
       "      <td>5.0</td>\n",
       "      <td>325</td>\n",
       "      <td>5</td>\n",
       "      <td>False</td>\n",
       "      <td>null</td>\n",
       "      <td>null</td>\n",
       "    </tr>\n",
       "    <tr>\n",
       "      <th>8</th>\n",
       "      <td>com.1443792976.11461443792976</td>\n",
       "      <td>AAA+ Swimsuits &amp; Sports Magazine App For Men</td>\n",
       "      <td>True</td>\n",
       "      <td>[\"Infrequent/Mild Mature/Suggestive Themes\", \"...</td>\n",
       "      <td>37.444336</td>\n",
       "      <td>17+</td>\n",
       "      <td>2017-02-14T21:57:51Z</td>\n",
       "      <td>7</td>\n",
       "      <td>7.8</td>\n",
       "      <td>azacreations</td>\n",
       "      <td>...</td>\n",
       "      <td>2015-10-13T20:10:31Z</td>\n",
       "      <td>823</td>\n",
       "      <td>8</td>\n",
       "      <td>4.0</td>\n",
       "      <td>3.5</td>\n",
       "      <td>86</td>\n",
       "      <td>17</td>\n",
       "      <td>True</td>\n",
       "      <td>http://www.swimsuitsandsports.com/</td>\n",
       "      <td>www.swimsuitsandsports.com</td>\n",
       "    </tr>\n",
       "    <tr>\n",
       "      <th>9</th>\n",
       "      <td>com.AnjaneyaApps.AAA1024Free</td>\n",
       "      <td>AAA 1024 Puzzle - cool math board game</td>\n",
       "      <td>True</td>\n",
       "      <td>[]</td>\n",
       "      <td>13.113281</td>\n",
       "      <td>4+</td>\n",
       "      <td>2014-05-28T07:00:00Z</td>\n",
       "      <td>1</td>\n",
       "      <td>1.2</td>\n",
       "      <td>Bharat Bhushan</td>\n",
       "      <td>...</td>\n",
       "      <td>2014-05-28T07:00:00Z</td>\n",
       "      <td>1326</td>\n",
       "      <td>6</td>\n",
       "      <td>4.5</td>\n",
       "      <td>4.5</td>\n",
       "      <td>7</td>\n",
       "      <td>7</td>\n",
       "      <td>False</td>\n",
       "      <td>null</td>\n",
       "      <td>null</td>\n",
       "    </tr>\n",
       "  </tbody>\n",
       "</table>\n",
       "<p>10 rows × 25 columns</p>\n",
       "</div>"
      ],
      "text/plain": [
       "                         bundleId  \\\n",
       "0        com.aaa.iphone.discounts   \n",
       "1  com.nextgenreality.gunclublite   \n",
       "2        com.mcgames.chaosstrike2   \n",
       "3      com.BulletParty.BunboGames   \n",
       "4       com.fmapp2010.ISearchFree   \n",
       "5         com.onteca.civilwarlite   \n",
       "6   com.appynation.powertoolsfree   \n",
       "7    com.1361447304.4691361447304   \n",
       "8   com.1443792976.11461443792976   \n",
       "9    com.AnjaneyaApps.AAA1024Free   \n",
       "\n",
       "                                           trackName IsUniversal  \\\n",
       "0                                         AAA Mobile        True   \n",
       "1                                  AAA GUN CLUB lite       False   \n",
       "2  Vanguard Online - AAA Shooting Free Online Gam...        True   \n",
       "3  AAA Bullet Party - Online first person shooter...        True   \n",
       "4                                          iSheacher       False   \n",
       "5  AAA American Civil War Cannon Shooter : Defend...        True   \n",
       "6                       Draw with Powertools FX Free        True   \n",
       "7  AAA+ Foundr - Entrepreneur Magazine for a Startup        True   \n",
       "8       AAA+ Swimsuits & Sports Magazine App For Men        True   \n",
       "9             AAA 1024 Puzzle - cool math board game        True   \n",
       "\n",
       "                                          advisories  fileSizeInMB  \\\n",
       "0                                                 []    153.721680   \n",
       "1       [\"Infrequent/Mild Mature/Suggestive Themes\"]     29.033732   \n",
       "2  [\"Infrequent/Mild Realistic Violence\", \"Infreq...    174.367188   \n",
       "3  [\"Frequent/Intense Mature/Suggestive Themes\", ...   1182.394531   \n",
       "4  [\"Infrequent/Mild Alcohol, Tobacco, or Drug Us...      1.434688   \n",
       "5    [\"Infrequent/Mild Cartoon or Fantasy Violence\"]    107.042969   \n",
       "6                                                 []     56.867188   \n",
       "7                                                 []     32.477539   \n",
       "8  [\"Infrequent/Mild Mature/Suggestive Themes\", \"...     37.444336   \n",
       "9                                                 []     13.113281   \n",
       "\n",
       "  contentAdvisoryRating currentVersionReleaseDate version subversion  \\\n",
       "0                    4+      2017-12-19T13:23:36Z       3       3.11   \n",
       "1                    9+      2009-11-07T02:12:31Z       1        1.7   \n",
       "2                   12+      2016-06-13T17:52:01Z       2        2.0   \n",
       "3                   17+      2015-04-22T15:01:15Z       1        1.0   \n",
       "4                   17+      2011-11-23T01:52:45Z       1        1.3   \n",
       "5                    9+      2015-06-29T16:38:41Z       4        4.1   \n",
       "6                    4+      2016-01-12T23:42:31Z       2        2.7   \n",
       "7                    4+      2017-05-12T22:18:51Z       7        7.8   \n",
       "8                   17+      2017-02-14T21:57:51Z       7        7.8   \n",
       "9                    4+      2014-05-28T07:00:00Z       1        1.2   \n",
       "\n",
       "                            artist             ...              \\\n",
       "0  American Automobile Association             ...               \n",
       "1                 Gun Club Studios             ...               \n",
       "2               Hasim Mert Corekci             ...               \n",
       "3                     Engin Yildiz             ...               \n",
       "4                         feng min             ...               \n",
       "5                           Onteca             ...               \n",
       "6                           Onteca             ...               \n",
       "7          NHC PUBLISHING PTY. LTD             ...               \n",
       "8                     azacreations             ...               \n",
       "9                   Bharat Bhushan             ...               \n",
       "\n",
       "            releaseDate  ageInDays minimumOsVersion averageUserRating  \\\n",
       "0  2009-04-21T04:39:36Z       3189               10               3.0   \n",
       "1  2009-04-28T07:00:00Z       3182                2               3.5   \n",
       "2  2016-01-30T00:15:05Z        715                7               4.0   \n",
       "3  2014-11-06T01:21:25Z       1164                6               3.5   \n",
       "4  2010-05-19T07:00:00Z       2796                3               2.5   \n",
       "5  2012-11-16T20:26:43Z       1884                6               3.0   \n",
       "6  2012-08-02T19:17:30Z       1990                7               4.0   \n",
       "7  2013-03-05T00:19:42Z       1776                8               5.0   \n",
       "8  2015-10-13T20:10:31Z        823                8               4.0   \n",
       "9  2014-05-28T07:00:00Z       1326                6               4.5   \n",
       "\n",
       "  avgUserRatingCV userRatingCount  userRatingCountCV hasUrl  \\\n",
       "0             3.0           24767                 34  False   \n",
       "1             3.5           30957              20294   True   \n",
       "2             4.0             403                259  False   \n",
       "3             3.5             165                146  False   \n",
       "4             2.0             322                 71   True   \n",
       "5             3.5             199                 50  False   \n",
       "6             2.5              64                  4  False   \n",
       "7             5.0             325                  5  False   \n",
       "8             3.5              86                 17   True   \n",
       "9             4.5               7                  7  False   \n",
       "\n",
       "                                           sellerUrl  \\\n",
       "0                                               null   \n",
       "1             http://www.thebinarymill.com/gunclub3/   \n",
       "2                                               null   \n",
       "3                                               null   \n",
       "4  http://clotapp.blog.com/2010/04/19/all-images-...   \n",
       "5                                               null   \n",
       "6                                               null   \n",
       "7                                               null   \n",
       "8                 http://www.swimsuitsandsports.com/   \n",
       "9                                               null   \n",
       "\n",
       "              sellerUrlDomain  \n",
       "0                        null  \n",
       "1       www.thebinarymill.com  \n",
       "2                        null  \n",
       "3                        null  \n",
       "4            clotapp.blog.com  \n",
       "5                        null  \n",
       "6                        null  \n",
       "7                        null  \n",
       "8  www.swimsuitsandsports.com  \n",
       "9                        null  \n",
       "\n",
       "[10 rows x 25 columns]"
      ]
     },
     "execution_count": 51,
     "metadata": {},
     "output_type": "execute_result"
    }
   ],
   "source": [
    "data.head(10)"
   ]
  },
  {
   "cell_type": "markdown",
   "metadata": {},
   "source": [
    "### (26) releaseNotes"
   ]
  },
  {
   "cell_type": "code",
   "execution_count": 52,
   "metadata": {
    "collapsed": true
   },
   "outputs": [],
   "source": [
    "data['releaseNotes'] = df.releaseNotes"
   ]
  },
  {
   "cell_type": "markdown",
   "metadata": {},
   "source": [
    "## Write new data frame to disk"
   ]
  },
  {
   "cell_type": "code",
   "execution_count": 58,
   "metadata": {
    "collapsed": true
   },
   "outputs": [],
   "source": [
    "data.to_csv(\"../dataset/processed.data.csv\", encoding='utf-8', index=False)"
   ]
  },
  {
   "cell_type": "markdown",
   "metadata": {},
   "source": [
    "### Let's have a look at summary so far for paid apps"
   ]
  },
  {
   "cell_type": "code",
   "execution_count": 54,
   "metadata": {},
   "outputs": [
    {
     "data": {
      "text/plain": [
       "(34372, 30)"
      ]
     },
     "execution_count": 54,
     "metadata": {},
     "output_type": "execute_result"
    }
   ],
   "source": [
    "paidApps = df[df.price > 0]\n",
    "paidApps.shape"
   ]
  },
  {
   "cell_type": "markdown",
   "metadata": {},
   "source": [
    "**Summary**: around 15.5K paid apps have been mined; Let's look at their `contentAdvisoryRating` and `Genres`"
   ]
  },
  {
   "cell_type": "code",
   "execution_count": 55,
   "metadata": {
    "collapsed": true
   },
   "outputs": [],
   "source": [
    "def plotSummary(_df, figsize=(10, 5)):\n",
    "    print (_df.contentAdvisoryRating.value_counts())\n",
    "    print ()\n",
    "    print (\"Normalized distribution in %\")\n",
    "    print (_df.contentAdvisoryRating.value_counts(normalize =True) * 100)\n",
    "\n",
    "    _ct = pd.crosstab(_df.contentAdvisoryRating, \"count\")\n",
    "    _ct.plot(kind=\"pie\", subplots=True)\n",
    "    _ct.plot(kind=\"bar\")\n",
    "    plt.title(\"Distribution by content advisory rating\")    \n",
    "    \n",
    "    # Genres\n",
    "    _genres = {}\n",
    "    for genreString in _df.genres.values:\n",
    "        gs = json.loads(genreString)\n",
    "        for g in gs:\n",
    "            if g not in _genres:\n",
    "                _genres[g] = 0\n",
    "            _genres[g] = _genres[g] + 1\n",
    "    \n",
    "    _gdf = pd.DataFrame([[k,v] for k,v in _genres.items()], columns=['genre', 'count'])\n",
    "    _gs = _gdf.sort_values([\"count\"], axis=0, ascending=False)\n",
    "    \n",
    "    plt.figure(figsize=figsize)\n",
    "    fx = sns.barplot(x='genre', y='count', data=_gs.head(30))\n",
    "    fx.set_xticklabels(rotation=90, labels=_gs['genre'])\n",
    "    plt.title(\"Distribution by genres\")\n",
    "    \n",
    "    _ct = pd.crosstab(_df.primaryGenreName, \"count\")\n",
    "    print (_ct.columns)\n",
    "    _ct = _ct.sort_values([\"count\"], axis=0, ascending=False)\n",
    "#     sns.barplot(x='primaryGenreName', y='count', data=_ct)\n",
    "    _ct.plot(kind='bar', figsize=figsize)\n",
    "    plt.title(\"Distribution by primary genres\")\n"
   ]
  },
  {
   "cell_type": "code",
   "execution_count": 56,
   "metadata": {
    "scrolled": false
   },
   "outputs": [
    {
     "name": "stdout",
     "output_type": "stream",
     "text": [
      "4+     27707\n",
      "12+     2856\n",
      "17+     2261\n",
      "9+      1548\n",
      "Name: contentAdvisoryRating, dtype: int64\n",
      "\n",
      "Normalized distribution in %\n",
      "4+     80.609217\n",
      "12+     8.309089\n",
      "17+     6.578029\n",
      "9+      4.503666\n",
      "Name: contentAdvisoryRating, dtype: float64\n",
      "Index(['count'], dtype='object', name='col_0')\n"
     ]
    },
    {
     "data": {
      "image/png": "[encoded data removed]",
      "text/plain": [
       "<matplotlib.figure.Figure at 0x292c509a588>"
      ]
     },
     "metadata": {},
     "output_type": "display_data"
    },
    {
     "data": {
      "image/png": "[encoded data removed]",
      "text/plain": [
       "<matplotlib.figure.Figure at 0x292c509a358>"
      ]
     },
     "metadata": {},
     "output_type": "display_data"
    },
    {
     "data": {
      "image/png": "[encoded data removed]",
      "text/plain": [
       "<matplotlib.figure.Figure at 0x292c57faf28>"
      ]
     },
     "metadata": {},
     "output_type": "display_data"
    },
    {
     "data": {
      "image/png": "[encoded data removed]",
      "text/plain": [
       "<matplotlib.figure.Figure at 0x292c59541d0>"
      ]
     },
     "metadata": {},
     "output_type": "display_data"
    }
   ],
   "source": [
    "plotSummary(paidApps)"
   ]
  },
  {
   "cell_type": "markdown",
   "metadata": {},
   "source": [
    "**Summary**:\n",
    " - Paid apps are more educational as compared to Games or Entertainment\n",
    " - Content Advisory Rating seem to be similar to free apps"
   ]
  },
  {
   "cell_type": "code",
   "execution_count": null,
   "metadata": {
    "collapsed": true
   },
   "outputs": [],
   "source": []
  }
 ],
 "metadata": {
  "kernelspec": {
   "display_name": "Python 3",
   "language": "python",
   "name": "python3"
  },
  "language_info": {
   "codemirror_mode": {
    "name": "ipython",
    "version": 3
   },
   "file_extension": ".py",
   "mimetype": "text/x-python",
   "name": "python",
   "nbconvert_exporter": "python",
   "pygments_lexer": "ipython3",
   "version": "3.5.2"
  }
 },
 "nbformat": 4,
 "nbformat_minor": 2
}
