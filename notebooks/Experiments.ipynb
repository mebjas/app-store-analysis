{
 "cells": [
  {
   "cell_type": "markdown",
   "metadata": {
    "collapsed": true
   },
   "source": [
    "# Experiments\n",
    "\n",
    "## Tasks\n",
    " - Find correlation between fields\n",
    " - Find correlation of fields with certain properties like:\n",
    "        - Price\n",
    "        - Rating\n",
    "        - Rating count\n",
    "- Check if we can build a regression / classification model for rating / rating count\n",
    "- Check if we can build a regression model for price\n",
    "- Cluster apps to see related apps;\n",
    "- Check what fields can be used to perform KNN lookup to find similar apps"
   ]
  },
  {
   "cell_type": "code",
   "execution_count": 77,
   "metadata": {
    "collapsed": true
   },
   "outputs": [],
   "source": [
    "import json\n",
    "import pandas as pd\n",
    "import numpy as np\n",
    "import matplotlib.pyplot as plt\n",
    "import seaborn as sns\n",
    "%matplotlib inline\n",
    "\n",
    "sns.set_style(\"whitegrid\")\n",
    "sns.set_palette(\"Set1\", 8, .75)\n",
    "\n",
    "figsize = (10, 7)"
   ]
  },
  {
   "cell_type": "code",
   "execution_count": 2,
   "metadata": {
    "collapsed": true
   },
   "outputs": [],
   "source": [
    "df = pd.read_csv(\"../dataset/processed.data.csv\", encoding='utf-8')"
   ]
  },
  {
   "cell_type": "code",
   "execution_count": 3,
   "metadata": {},
   "outputs": [
    {
     "data": {
      "text/plain": [
       "Index(['bundleId', 'trackName', 'IsUniversal', 'advisories', 'fileSizeInMB',\n",
       "       'contentAdvisoryRating', 'currentVersionReleaseDate', 'version',\n",
       "       'subversion', 'artist', 'genres', 'price', 'description',\n",
       "       'isVppDeviceBasedLicensingEnabled', 'primaryGenreName', 'releaseDate',\n",
       "       'ageInDays', 'minimumOsVersion', 'averageUserRating', 'avgUserRatingCV',\n",
       "       'userRatingCount', 'userRatingCountCV', 'hasUrl', 'sellerUrl',\n",
       "       'sellerUrlDomain', 'releaseNotes'],\n",
       "      dtype='object')"
      ]
     },
     "execution_count": 3,
     "metadata": {},
     "output_type": "execute_result"
    }
   ],
   "source": [
    "# let's list out all the columns\n",
    "df.columns"
   ]
  },
  {
   "cell_type": "code",
   "execution_count": 4,
   "metadata": {
    "collapsed": true
   },
   "outputs": [],
   "source": [
    "totalApps = df.shape[0]\n",
    "totalFreeApps = df[df.price == 0].shape[0]"
   ]
  },
  {
   "cell_type": "code",
   "execution_count": 5,
   "metadata": {},
   "outputs": [
    {
     "name": "stdout",
     "output_type": "stream",
     "text": [
      "Total Apps 325426\n",
      "Total Free Apps: 291054 (89.44 %)\n"
     ]
    }
   ],
   "source": [
    "print (\"Total Apps\", totalApps)\n",
    "print (\"Total Free Apps: %d (%0.2f %%)\" % (totalFreeApps, (totalFreeApps / totalApps * 100)))"
   ]
  },
  {
   "cell_type": "markdown",
   "metadata": {},
   "source": [
    "### Summary\n",
    " - Some apps are not available in the DB"
   ]
  },
  {
   "cell_type": "markdown",
   "metadata": {},
   "source": [
    "# Some regression analysis"
   ]
  },
  {
   "cell_type": "code",
   "execution_count": 6,
   "metadata": {
    "collapsed": true
   },
   "outputs": [],
   "source": [
    "df1 = pd.DataFrame()\n",
    "df1['name'] = df.trackName"
   ]
  },
  {
   "cell_type": "code",
   "execution_count": 7,
   "metadata": {},
   "outputs": [
    {
     "data": {
      "text/html": [
       "<div>\n",
       "<table border=\"1\" class=\"dataframe\">\n",
       "  <thead>\n",
       "    <tr style=\"text-align: right;\">\n",
       "      <th></th>\n",
       "      <th>name</th>\n",
       "      <th>isUniversal</th>\n",
       "    </tr>\n",
       "  </thead>\n",
       "  <tbody>\n",
       "    <tr>\n",
       "      <th>0</th>\n",
       "      <td>AAA Mobile</td>\n",
       "      <td>1</td>\n",
       "    </tr>\n",
       "    <tr>\n",
       "      <th>1</th>\n",
       "      <td>AAA GUN CLUB lite</td>\n",
       "      <td>0</td>\n",
       "    </tr>\n",
       "    <tr>\n",
       "      <th>2</th>\n",
       "      <td>Vanguard Online - AAA Shooting Free Online Gam...</td>\n",
       "      <td>1</td>\n",
       "    </tr>\n",
       "    <tr>\n",
       "      <th>3</th>\n",
       "      <td>AAA Bullet Party - Online first person shooter...</td>\n",
       "      <td>1</td>\n",
       "    </tr>\n",
       "    <tr>\n",
       "      <th>4</th>\n",
       "      <td>iSheacher</td>\n",
       "      <td>0</td>\n",
       "    </tr>\n",
       "    <tr>\n",
       "      <th>5</th>\n",
       "      <td>AAA American Civil War Cannon Shooter : Defend...</td>\n",
       "      <td>1</td>\n",
       "    </tr>\n",
       "    <tr>\n",
       "      <th>6</th>\n",
       "      <td>Draw with Powertools FX Free</td>\n",
       "      <td>1</td>\n",
       "    </tr>\n",
       "    <tr>\n",
       "      <th>7</th>\n",
       "      <td>AAA+ Foundr - Entrepreneur Magazine for a Startup</td>\n",
       "      <td>1</td>\n",
       "    </tr>\n",
       "    <tr>\n",
       "      <th>8</th>\n",
       "      <td>AAA+ Swimsuits &amp; Sports Magazine App For Men</td>\n",
       "      <td>1</td>\n",
       "    </tr>\n",
       "    <tr>\n",
       "      <th>9</th>\n",
       "      <td>AAA 1024 Puzzle - cool math board game</td>\n",
       "      <td>1</td>\n",
       "    </tr>\n",
       "  </tbody>\n",
       "</table>\n",
       "</div>"
      ],
      "text/plain": [
       "                                                name  isUniversal\n",
       "0                                         AAA Mobile            1\n",
       "1                                  AAA GUN CLUB lite            0\n",
       "2  Vanguard Online - AAA Shooting Free Online Gam...            1\n",
       "3  AAA Bullet Party - Online first person shooter...            1\n",
       "4                                          iSheacher            0\n",
       "5  AAA American Civil War Cannon Shooter : Defend...            1\n",
       "6                       Draw with Powertools FX Free            1\n",
       "7  AAA+ Foundr - Entrepreneur Magazine for a Startup            1\n",
       "8       AAA+ Swimsuits & Sports Magazine App For Men            1\n",
       "9             AAA 1024 Puzzle - cool math board game            1"
      ]
     },
     "execution_count": 7,
     "metadata": {},
     "output_type": "execute_result"
    }
   ],
   "source": [
    "# df.IsUniversal\n",
    "def getIsUniversalBinary(b):\n",
    "    if b == True:\n",
    "        return 1\n",
    "    return 0\n",
    "\n",
    "df1['isUniversal'] = df.IsUniversal.apply(lambda x: getIsUniversalBinary(x))\n",
    "df1.head(10)"
   ]
  },
  {
   "cell_type": "code",
   "execution_count": 8,
   "metadata": {
    "collapsed": true
   },
   "outputs": [],
   "source": [
    "df1['fileSizeInMB'] = df.fileSizeInMB"
   ]
  },
  {
   "cell_type": "code",
   "execution_count": 9,
   "metadata": {
    "collapsed": true,
    "scrolled": false
   },
   "outputs": [],
   "source": [
    "## let's one hot encode advisories\n",
    "AdvisoriesIndex = 1\n",
    "AllAdvisories = {}\n",
    "\n",
    "tmprows = []\n",
    "\n",
    "for ads in df.advisories:\n",
    "    ads = json.loads(ads)\n",
    "    tmprow = []\n",
    "    for ad in ads:\n",
    "        if ad not in AllAdvisories:\n",
    "            AllAdvisories[ad] = AdvisoriesIndex\n",
    "            AdvisoriesIndex = AdvisoriesIndex + 1\n",
    "        tmprow.append(AllAdvisories[ad])\n",
    "    tmprows.append(tmprow)"
   ]
  },
  {
   "cell_type": "code",
   "execution_count": 10,
   "metadata": {},
   "outputs": [
    {
     "data": {
      "text/html": [
       "<div>\n",
       "<table border=\"1\" class=\"dataframe\">\n",
       "  <thead>\n",
       "    <tr style=\"text-align: right;\">\n",
       "      <th></th>\n",
       "      <th>name</th>\n",
       "      <th>isUniversal</th>\n",
       "      <th>fileSizeInMB</th>\n",
       "      <th>Advisory.1</th>\n",
       "      <th>Advisory.2</th>\n",
       "      <th>Advisory.3</th>\n",
       "      <th>Advisory.4</th>\n",
       "      <th>Advisory.5</th>\n",
       "      <th>Advisory.6</th>\n",
       "      <th>Advisory.7</th>\n",
       "      <th>...</th>\n",
       "      <th>Advisory.11</th>\n",
       "      <th>Advisory.12</th>\n",
       "      <th>Advisory.13</th>\n",
       "      <th>Advisory.14</th>\n",
       "      <th>Advisory.15</th>\n",
       "      <th>Advisory.16</th>\n",
       "      <th>Advisory.17</th>\n",
       "      <th>Advisory.18</th>\n",
       "      <th>Advisory.19</th>\n",
       "      <th>Advisory.20</th>\n",
       "    </tr>\n",
       "  </thead>\n",
       "  <tbody>\n",
       "    <tr>\n",
       "      <th>0</th>\n",
       "      <td>AAA Mobile</td>\n",
       "      <td>1</td>\n",
       "      <td>153.721680</td>\n",
       "      <td>0</td>\n",
       "      <td>0</td>\n",
       "      <td>0</td>\n",
       "      <td>0</td>\n",
       "      <td>0</td>\n",
       "      <td>0</td>\n",
       "      <td>0</td>\n",
       "      <td>...</td>\n",
       "      <td>0</td>\n",
       "      <td>0</td>\n",
       "      <td>0</td>\n",
       "      <td>0</td>\n",
       "      <td>0</td>\n",
       "      <td>0</td>\n",
       "      <td>0</td>\n",
       "      <td>0</td>\n",
       "      <td>0</td>\n",
       "      <td>0</td>\n",
       "    </tr>\n",
       "    <tr>\n",
       "      <th>1</th>\n",
       "      <td>AAA GUN CLUB lite</td>\n",
       "      <td>0</td>\n",
       "      <td>29.033732</td>\n",
       "      <td>1</td>\n",
       "      <td>0</td>\n",
       "      <td>0</td>\n",
       "      <td>0</td>\n",
       "      <td>0</td>\n",
       "      <td>0</td>\n",
       "      <td>0</td>\n",
       "      <td>...</td>\n",
       "      <td>0</td>\n",
       "      <td>0</td>\n",
       "      <td>0</td>\n",
       "      <td>0</td>\n",
       "      <td>0</td>\n",
       "      <td>0</td>\n",
       "      <td>0</td>\n",
       "      <td>0</td>\n",
       "      <td>0</td>\n",
       "      <td>0</td>\n",
       "    </tr>\n",
       "    <tr>\n",
       "      <th>2</th>\n",
       "      <td>Vanguard Online - AAA Shooting Free Online Gam...</td>\n",
       "      <td>1</td>\n",
       "      <td>174.367188</td>\n",
       "      <td>1</td>\n",
       "      <td>1</td>\n",
       "      <td>1</td>\n",
       "      <td>0</td>\n",
       "      <td>0</td>\n",
       "      <td>0</td>\n",
       "      <td>0</td>\n",
       "      <td>...</td>\n",
       "      <td>0</td>\n",
       "      <td>0</td>\n",
       "      <td>0</td>\n",
       "      <td>0</td>\n",
       "      <td>0</td>\n",
       "      <td>0</td>\n",
       "      <td>0</td>\n",
       "      <td>0</td>\n",
       "      <td>0</td>\n",
       "      <td>0</td>\n",
       "    </tr>\n",
       "    <tr>\n",
       "      <th>3</th>\n",
       "      <td>AAA Bullet Party - Online first person shooter...</td>\n",
       "      <td>1</td>\n",
       "      <td>1182.394531</td>\n",
       "      <td>0</td>\n",
       "      <td>0</td>\n",
       "      <td>1</td>\n",
       "      <td>1</td>\n",
       "      <td>1</td>\n",
       "      <td>0</td>\n",
       "      <td>0</td>\n",
       "      <td>...</td>\n",
       "      <td>0</td>\n",
       "      <td>0</td>\n",
       "      <td>0</td>\n",
       "      <td>0</td>\n",
       "      <td>0</td>\n",
       "      <td>0</td>\n",
       "      <td>0</td>\n",
       "      <td>0</td>\n",
       "      <td>0</td>\n",
       "      <td>0</td>\n",
       "    </tr>\n",
       "    <tr>\n",
       "      <th>4</th>\n",
       "      <td>iSheacher</td>\n",
       "      <td>0</td>\n",
       "      <td>1.434688</td>\n",
       "      <td>0</td>\n",
       "      <td>1</td>\n",
       "      <td>1</td>\n",
       "      <td>1</td>\n",
       "      <td>0</td>\n",
       "      <td>1</td>\n",
       "      <td>1</td>\n",
       "      <td>...</td>\n",
       "      <td>0</td>\n",
       "      <td>0</td>\n",
       "      <td>0</td>\n",
       "      <td>0</td>\n",
       "      <td>0</td>\n",
       "      <td>0</td>\n",
       "      <td>0</td>\n",
       "      <td>0</td>\n",
       "      <td>0</td>\n",
       "      <td>0</td>\n",
       "    </tr>\n",
       "    <tr>\n",
       "      <th>5</th>\n",
       "      <td>AAA American Civil War Cannon Shooter : Defend...</td>\n",
       "      <td>1</td>\n",
       "      <td>107.042969</td>\n",
       "      <td>0</td>\n",
       "      <td>0</td>\n",
       "      <td>1</td>\n",
       "      <td>0</td>\n",
       "      <td>0</td>\n",
       "      <td>0</td>\n",
       "      <td>0</td>\n",
       "      <td>...</td>\n",
       "      <td>0</td>\n",
       "      <td>0</td>\n",
       "      <td>0</td>\n",
       "      <td>0</td>\n",
       "      <td>0</td>\n",
       "      <td>0</td>\n",
       "      <td>0</td>\n",
       "      <td>0</td>\n",
       "      <td>0</td>\n",
       "      <td>0</td>\n",
       "    </tr>\n",
       "    <tr>\n",
       "      <th>6</th>\n",
       "      <td>Draw with Powertools FX Free</td>\n",
       "      <td>1</td>\n",
       "      <td>56.867188</td>\n",
       "      <td>0</td>\n",
       "      <td>0</td>\n",
       "      <td>0</td>\n",
       "      <td>0</td>\n",
       "      <td>0</td>\n",
       "      <td>0</td>\n",
       "      <td>0</td>\n",
       "      <td>...</td>\n",
       "      <td>0</td>\n",
       "      <td>0</td>\n",
       "      <td>0</td>\n",
       "      <td>0</td>\n",
       "      <td>0</td>\n",
       "      <td>0</td>\n",
       "      <td>0</td>\n",
       "      <td>0</td>\n",
       "      <td>0</td>\n",
       "      <td>0</td>\n",
       "    </tr>\n",
       "    <tr>\n",
       "      <th>7</th>\n",
       "      <td>AAA+ Foundr - Entrepreneur Magazine for a Startup</td>\n",
       "      <td>1</td>\n",
       "      <td>32.477539</td>\n",
       "      <td>0</td>\n",
       "      <td>0</td>\n",
       "      <td>0</td>\n",
       "      <td>0</td>\n",
       "      <td>0</td>\n",
       "      <td>0</td>\n",
       "      <td>0</td>\n",
       "      <td>...</td>\n",
       "      <td>0</td>\n",
       "      <td>0</td>\n",
       "      <td>0</td>\n",
       "      <td>0</td>\n",
       "      <td>0</td>\n",
       "      <td>0</td>\n",
       "      <td>0</td>\n",
       "      <td>0</td>\n",
       "      <td>0</td>\n",
       "      <td>0</td>\n",
       "    </tr>\n",
       "    <tr>\n",
       "      <th>8</th>\n",
       "      <td>AAA+ Swimsuits &amp; Sports Magazine App For Men</td>\n",
       "      <td>1</td>\n",
       "      <td>37.444336</td>\n",
       "      <td>1</td>\n",
       "      <td>0</td>\n",
       "      <td>0</td>\n",
       "      <td>0</td>\n",
       "      <td>0</td>\n",
       "      <td>0</td>\n",
       "      <td>1</td>\n",
       "      <td>...</td>\n",
       "      <td>1</td>\n",
       "      <td>0</td>\n",
       "      <td>0</td>\n",
       "      <td>0</td>\n",
       "      <td>0</td>\n",
       "      <td>0</td>\n",
       "      <td>0</td>\n",
       "      <td>0</td>\n",
       "      <td>0</td>\n",
       "      <td>0</td>\n",
       "    </tr>\n",
       "    <tr>\n",
       "      <th>9</th>\n",
       "      <td>AAA 1024 Puzzle - cool math board game</td>\n",
       "      <td>1</td>\n",
       "      <td>13.113281</td>\n",
       "      <td>0</td>\n",
       "      <td>0</td>\n",
       "      <td>0</td>\n",
       "      <td>0</td>\n",
       "      <td>0</td>\n",
       "      <td>0</td>\n",
       "      <td>0</td>\n",
       "      <td>...</td>\n",
       "      <td>0</td>\n",
       "      <td>0</td>\n",
       "      <td>0</td>\n",
       "      <td>0</td>\n",
       "      <td>0</td>\n",
       "      <td>0</td>\n",
       "      <td>0</td>\n",
       "      <td>0</td>\n",
       "      <td>0</td>\n",
       "      <td>0</td>\n",
       "    </tr>\n",
       "  </tbody>\n",
       "</table>\n",
       "<p>10 rows × 23 columns</p>\n",
       "</div>"
      ],
      "text/plain": [
       "                                                name  isUniversal  \\\n",
       "0                                         AAA Mobile            1   \n",
       "1                                  AAA GUN CLUB lite            0   \n",
       "2  Vanguard Online - AAA Shooting Free Online Gam...            1   \n",
       "3  AAA Bullet Party - Online first person shooter...            1   \n",
       "4                                          iSheacher            0   \n",
       "5  AAA American Civil War Cannon Shooter : Defend...            1   \n",
       "6                       Draw with Powertools FX Free            1   \n",
       "7  AAA+ Foundr - Entrepreneur Magazine for a Startup            1   \n",
       "8       AAA+ Swimsuits & Sports Magazine App For Men            1   \n",
       "9             AAA 1024 Puzzle - cool math board game            1   \n",
       "\n",
       "   fileSizeInMB  Advisory.1  Advisory.2  Advisory.3  Advisory.4  Advisory.5  \\\n",
       "0    153.721680           0           0           0           0           0   \n",
       "1     29.033732           1           0           0           0           0   \n",
       "2    174.367188           1           1           1           0           0   \n",
       "3   1182.394531           0           0           1           1           1   \n",
       "4      1.434688           0           1           1           1           0   \n",
       "5    107.042969           0           0           1           0           0   \n",
       "6     56.867188           0           0           0           0           0   \n",
       "7     32.477539           0           0           0           0           0   \n",
       "8     37.444336           1           0           0           0           0   \n",
       "9     13.113281           0           0           0           0           0   \n",
       "\n",
       "   Advisory.6  Advisory.7     ...       Advisory.11  Advisory.12  Advisory.13  \\\n",
       "0           0           0     ...                 0            0            0   \n",
       "1           0           0     ...                 0            0            0   \n",
       "2           0           0     ...                 0            0            0   \n",
       "3           0           0     ...                 0            0            0   \n",
       "4           1           1     ...                 0            0            0   \n",
       "5           0           0     ...                 0            0            0   \n",
       "6           0           0     ...                 0            0            0   \n",
       "7           0           0     ...                 0            0            0   \n",
       "8           0           1     ...                 1            0            0   \n",
       "9           0           0     ...                 0            0            0   \n",
       "\n",
       "   Advisory.14  Advisory.15  Advisory.16  Advisory.17  Advisory.18  \\\n",
       "0            0            0            0            0            0   \n",
       "1            0            0            0            0            0   \n",
       "2            0            0            0            0            0   \n",
       "3            0            0            0            0            0   \n",
       "4            0            0            0            0            0   \n",
       "5            0            0            0            0            0   \n",
       "6            0            0            0            0            0   \n",
       "7            0            0            0            0            0   \n",
       "8            0            0            0            0            0   \n",
       "9            0            0            0            0            0   \n",
       "\n",
       "   Advisory.19  Advisory.20  \n",
       "0            0            0  \n",
       "1            0            0  \n",
       "2            0            0  \n",
       "3            0            0  \n",
       "4            0            0  \n",
       "5            0            0  \n",
       "6            0            0  \n",
       "7            0            0  \n",
       "8            0            0  \n",
       "9            0            0  \n",
       "\n",
       "[10 rows x 23 columns]"
      ]
     },
     "execution_count": 10,
     "metadata": {},
     "output_type": "execute_result"
    }
   ],
   "source": [
    "def getAdvisoryVal(i, j):\n",
    "    if i in j:\n",
    "        return 1\n",
    "    return 0\n",
    "\n",
    "df1['tmp'] = tmprows\n",
    "\n",
    "for i in range(1, AdvisoriesIndex):\n",
    "    key = 'Advisory.' +str(i)\n",
    "    tmp = []\n",
    "    \n",
    "    df1[key] = df1['tmp'].apply(lambda x: getAdvisoryVal(i, x))\n",
    "\n",
    "df1 = df1.drop(['tmp'], axis=1)\n",
    "df1.head(10)"
   ]
  },
  {
   "cell_type": "code",
   "execution_count": 11,
   "metadata": {
    "collapsed": true
   },
   "outputs": [],
   "source": [
    "# let's replace Not Yet Rated to 4+ as 4+ is max value and NYR occurs like only 9 times < 0.01%\n",
    "df.contentAdvisoryRating = df.contentAdvisoryRating.replace('Not yet rated', '4+')"
   ]
  },
  {
   "cell_type": "code",
   "execution_count": 12,
   "metadata": {},
   "outputs": [
    {
     "data": {
      "text/html": [
       "<div>\n",
       "<table border=\"1\" class=\"dataframe\">\n",
       "  <thead>\n",
       "    <tr style=\"text-align: right;\">\n",
       "      <th></th>\n",
       "      <th>name</th>\n",
       "      <th>isUniversal</th>\n",
       "      <th>fileSizeInMB</th>\n",
       "      <th>Advisory.1</th>\n",
       "      <th>Advisory.2</th>\n",
       "      <th>Advisory.3</th>\n",
       "      <th>Advisory.4</th>\n",
       "      <th>Advisory.5</th>\n",
       "      <th>Advisory.6</th>\n",
       "      <th>Advisory.7</th>\n",
       "      <th>...</th>\n",
       "      <th>Advisory.15</th>\n",
       "      <th>Advisory.16</th>\n",
       "      <th>Advisory.17</th>\n",
       "      <th>Advisory.18</th>\n",
       "      <th>Advisory.19</th>\n",
       "      <th>Advisory.20</th>\n",
       "      <th>AR.4+</th>\n",
       "      <th>AR.17+</th>\n",
       "      <th>AR.12+</th>\n",
       "      <th>AR.9+</th>\n",
       "    </tr>\n",
       "  </thead>\n",
       "  <tbody>\n",
       "    <tr>\n",
       "      <th>0</th>\n",
       "      <td>AAA Mobile</td>\n",
       "      <td>1</td>\n",
       "      <td>153.72168</td>\n",
       "      <td>0</td>\n",
       "      <td>0</td>\n",
       "      <td>0</td>\n",
       "      <td>0</td>\n",
       "      <td>0</td>\n",
       "      <td>0</td>\n",
       "      <td>0</td>\n",
       "      <td>...</td>\n",
       "      <td>0</td>\n",
       "      <td>0</td>\n",
       "      <td>0</td>\n",
       "      <td>0</td>\n",
       "      <td>0</td>\n",
       "      <td>0</td>\n",
       "      <td>1</td>\n",
       "      <td>0</td>\n",
       "      <td>0</td>\n",
       "      <td>0</td>\n",
       "    </tr>\n",
       "  </tbody>\n",
       "</table>\n",
       "<p>1 rows × 27 columns</p>\n",
       "</div>"
      ],
      "text/plain": [
       "         name  isUniversal  fileSizeInMB  Advisory.1  Advisory.2  Advisory.3  \\\n",
       "0  AAA Mobile            1     153.72168           0           0           0   \n",
       "\n",
       "   Advisory.4  Advisory.5  Advisory.6  Advisory.7  ...    Advisory.15  \\\n",
       "0           0           0           0           0  ...              0   \n",
       "\n",
       "   Advisory.16  Advisory.17  Advisory.18  Advisory.19  Advisory.20  AR.4+  \\\n",
       "0            0            0            0            0            0      1   \n",
       "\n",
       "   AR.17+  AR.12+  AR.9+  \n",
       "0       0       0      0  \n",
       "\n",
       "[1 rows x 27 columns]"
      ]
     },
     "execution_count": 12,
     "metadata": {},
     "output_type": "execute_result"
    }
   ],
   "source": [
    "for val in df.contentAdvisoryRating.value_counts().index:\n",
    "    key = 'AR.' +val\n",
    "    df1[key] = 0\n",
    "    df1.loc[df.contentAdvisoryRating == val, key] = 1\n",
    "\n",
    "df1.head(1)"
   ]
  },
  {
   "cell_type": "code",
   "execution_count": 13,
   "metadata": {},
   "outputs": [
    {
     "data": {
      "text/html": [
       "<div>\n",
       "<table border=\"1\" class=\"dataframe\">\n",
       "  <thead>\n",
       "    <tr style=\"text-align: right;\">\n",
       "      <th></th>\n",
       "      <th>name</th>\n",
       "      <th>isUniversal</th>\n",
       "      <th>fileSizeInMB</th>\n",
       "      <th>Advisory.1</th>\n",
       "      <th>Advisory.2</th>\n",
       "      <th>Advisory.3</th>\n",
       "      <th>Advisory.4</th>\n",
       "      <th>Advisory.5</th>\n",
       "      <th>Advisory.6</th>\n",
       "      <th>Advisory.7</th>\n",
       "      <th>...</th>\n",
       "      <th>PrimaryGenre.Reference</th>\n",
       "      <th>PrimaryGenre.Food &amp; Drink</th>\n",
       "      <th>PrimaryGenre.Social Networking</th>\n",
       "      <th>PrimaryGenre.News</th>\n",
       "      <th>PrimaryGenre.Shopping</th>\n",
       "      <th>PrimaryGenre.Book</th>\n",
       "      <th>PrimaryGenre.Navigation</th>\n",
       "      <th>PrimaryGenre.Stickers</th>\n",
       "      <th>PrimaryGenre.Weather</th>\n",
       "      <th>PrimaryGenre.Magazines &amp; Newspapers</th>\n",
       "    </tr>\n",
       "  </thead>\n",
       "  <tbody>\n",
       "    <tr>\n",
       "      <th>0</th>\n",
       "      <td>AAA Mobile</td>\n",
       "      <td>1</td>\n",
       "      <td>153.72168</td>\n",
       "      <td>0</td>\n",
       "      <td>0</td>\n",
       "      <td>0</td>\n",
       "      <td>0</td>\n",
       "      <td>0</td>\n",
       "      <td>0</td>\n",
       "      <td>0</td>\n",
       "      <td>...</td>\n",
       "      <td>0</td>\n",
       "      <td>0</td>\n",
       "      <td>0</td>\n",
       "      <td>0</td>\n",
       "      <td>0</td>\n",
       "      <td>0</td>\n",
       "      <td>0</td>\n",
       "      <td>0</td>\n",
       "      <td>0</td>\n",
       "      <td>0</td>\n",
       "    </tr>\n",
       "  </tbody>\n",
       "</table>\n",
       "<p>1 rows × 51 columns</p>\n",
       "</div>"
      ],
      "text/plain": [
       "         name  isUniversal  fileSizeInMB  Advisory.1  Advisory.2  Advisory.3  \\\n",
       "0  AAA Mobile            1     153.72168           0           0           0   \n",
       "\n",
       "   Advisory.4  Advisory.5  Advisory.6  Advisory.7  \\\n",
       "0           0           0           0           0   \n",
       "\n",
       "                  ...                   PrimaryGenre.Reference  \\\n",
       "0                 ...                                        0   \n",
       "\n",
       "   PrimaryGenre.Food & Drink  PrimaryGenre.Social Networking  \\\n",
       "0                          0                               0   \n",
       "\n",
       "   PrimaryGenre.News  PrimaryGenre.Shopping  PrimaryGenre.Book  \\\n",
       "0                  0                      0                  0   \n",
       "\n",
       "   PrimaryGenre.Navigation  PrimaryGenre.Stickers  PrimaryGenre.Weather  \\\n",
       "0                        0                      0                     0   \n",
       "\n",
       "   PrimaryGenre.Magazines & Newspapers  \n",
       "0                                    0  \n",
       "\n",
       "[1 rows x 51 columns]"
      ]
     },
     "execution_count": 13,
     "metadata": {},
     "output_type": "execute_result"
    }
   ],
   "source": [
    "for val in df.primaryGenreName.value_counts().index:\n",
    "    key = 'PrimaryGenre.' +val\n",
    "    df1[key] = 0\n",
    "    df1.loc[df.primaryGenreName == val, key] = 1\n",
    "\n",
    "df1.head(1)"
   ]
  },
  {
   "cell_type": "code",
   "execution_count": 15,
   "metadata": {
    "collapsed": true
   },
   "outputs": [],
   "source": [
    "df1['price'] = df.price"
   ]
  },
  {
   "cell_type": "code",
   "execution_count": 69,
   "metadata": {
    "collapsed": true
   },
   "outputs": [],
   "source": [
    "df2 = df1[df1.price > 0]"
   ]
  },
  {
   "cell_type": "code",
   "execution_count": 70,
   "metadata": {
    "scrolled": false
   },
   "outputs": [
    {
     "data": {
      "text/plain": [
       "count    34372.000000\n",
       "mean         4.892886\n",
       "std         17.395455\n",
       "min          0.990000\n",
       "25%          0.990000\n",
       "50%          1.990000\n",
       "75%          3.990000\n",
       "max        999.990000\n",
       "Name: price, dtype: float64"
      ]
     },
     "execution_count": 70,
     "metadata": {},
     "output_type": "execute_result"
    }
   ],
   "source": [
    "df2.price.describe()"
   ]
  },
  {
   "cell_type": "code",
   "execution_count": 71,
   "metadata": {},
   "outputs": [
    {
     "name": "stdout",
     "output_type": "stream",
     "text": [
      "No of apps with price > 10 2263\n",
      "Percentage of such apps:  6.5838473175840795\n"
     ]
    }
   ],
   "source": [
    "print (\"No of apps with price > 10\", df2[df2.price > 10].shape[0])\n",
    "\n",
    "print (\"Percentage of such apps: \", (df2[df2.price > 10].shape[0] / df2.shape[0] * 100))"
   ]
  },
  {
   "cell_type": "markdown",
   "metadata": {},
   "source": [
    "Since the no of apps is very low, we wil remove them from regression;"
   ]
  },
  {
   "cell_type": "code",
   "execution_count": 72,
   "metadata": {
    "collapsed": true
   },
   "outputs": [],
   "source": [
    "df2 = df2[df2.price <= 10]"
   ]
  },
  {
   "cell_type": "code",
   "execution_count": 90,
   "metadata": {
    "collapsed": true
   },
   "outputs": [],
   "source": [
    "Y = df2.price.values\n",
    "X = df2.drop(['price', 'name'], axis=1).values"
   ]
  },
  {
   "cell_type": "code",
   "execution_count": 208,
   "metadata": {
    "scrolled": false
   },
   "outputs": [
    {
     "name": "stdout",
     "output_type": "stream",
     "text": [
      "Min: 0.990, Max: 9.990\n",
      "[0.0 - 1.0) = 12186\n",
      "[1.0 - 2.0) = 6865\n",
      "[2.0 - 3.0) = 4934\n",
      "[3.0 - 4.0) = 2048\n",
      "[4.0 - 5.0) = 2777\n",
      "[5.0 - 6.0) = 751\n",
      "[6.0 - 7.0) = 588\n",
      "[7.0 - 8.0) = 419\n",
      "[8.0 - 9.0) = 277\n",
      "[9.0 - 10.0) = 1264\n"
     ]
    },
    {
     "data": {
      "text/plain": [
       "<matplotlib.text.Text at 0x1823de36780>"
      ]
     },
     "execution_count": 208,
     "metadata": {},
     "output_type": "execute_result"
    },
    {
     "data": {
      "image/png": "[encoded data removed]",
      "text/plain": [
       "<matplotlib.figure.Figure at 0x182348a8940>"
      ]
     },
     "metadata": {},
     "output_type": "display_data"
    }
   ],
   "source": [
    "## plotting a distribution myself\n",
    "import math\n",
    "plt.figure(figsize=figsize)\n",
    "\n",
    "bins = 10\n",
    "divisor = (10 / bins)\n",
    "freq = np.zeros((bins, 2))\n",
    "YMax, YMin = Y.max(), Y.min()\n",
    "print (\"Min: %0.3f, Max: %0.3f\" % (YMin, YMax))\n",
    "\n",
    "for price in Y:\n",
    "    freq[math.floor(price / divisor)][1] = freq[math.floor(price / divisor)][1] + 1\n",
    "\n",
    "freq[:, 0] = [i * divisor for i in range(0, bins)]\n",
    "\n",
    "hist = pd.DataFrame(freq, columns=['price', 'count'])\n",
    "sns.barplot(x='price', y='count', data=hist)\n",
    "\n",
    "for priceMin, count in freq:\n",
    "    print (\"[%0.1f - %0.1f) = %d\" % (priceMin, priceMin + divisor, count))\n",
    "        \n",
    "plt.title(\"No of apps in price range [0, 100]\")"
   ]
  },
  {
   "cell_type": "code",
   "execution_count": 79,
   "metadata": {
    "collapsed": true
   },
   "outputs": [],
   "source": [
    "from sklearn.linear_model import Ridge\n",
    "from sklearn.preprocessing import PolynomialFeatures\n",
    "from sklearn.pipeline import make_pipeline"
   ]
  },
  {
   "cell_type": "code",
   "execution_count": 99,
   "metadata": {},
   "outputs": [
    {
     "data": {
      "image/png": "[encoded data removed]",
      "text/plain": [
       "<matplotlib.figure.Figure at 0x18233d553c8>"
      ]
     },
     "metadata": {},
     "output_type": "display_data"
    }
   ],
   "source": [
    "n_samples = 20000\n",
    "\n",
    "# plotting the ground truth\n",
    "plt.figure(figsize=figsize)\n",
    "plt.plot(Y[:n_samples], color='navy', label=\"actual price\")\n",
    "\n",
    "# print (Y)\n",
    "\n",
    "for count, degree in enumerate(range(1, 3)):\n",
    "    model = make_pipeline(PolynomialFeatures(degree), Ridge())\n",
    "    model.fit(X[:n_samples], Y[:n_samples])\n",
    "    y_plot = model.predict(X[:n_samples])\n",
    "    plt.plot(y_plot, linewidth=2, label=\"degree %d\" % degree)\n",
    "\n",
    "plt.legend()\n",
    "plt.show()"
   ]
  },
  {
   "cell_type": "code",
   "execution_count": 140,
   "metadata": {
    "collapsed": true
   },
   "outputs": [],
   "source": [
    "Z = np.zeros((Y.shape[0]))\n",
    "for i, y in enumerate(Y):\n",
    "    if y > 1:\n",
    "        Z[i] = 1\n",
    "\n",
    "X_train, X_test, y_train, y_test = train_test_split(X, Z, test_size=0.2, random_state=42)"
   ]
  },
  {
   "cell_type": "code",
   "execution_count": 220,
   "metadata": {
    "collapsed": true
   },
   "outputs": [],
   "source": [
    "import sys\n",
    "\n",
    "from sklearn.model_selection import train_test_split\n",
    "\n",
    "\n",
    "from sklearn.neighbors import KNeighborsClassifier\n",
    "from sklearn.neural_network import MLPClassifier\n",
    "from sklearn.linear_model import RidgeClassifier, RidgeClassifierCV\n",
    "from sklearn.naive_bayes import GaussianNB\n",
    "from sklearn.tree import DecisionTreeClassifier, ExtraTreeClassifier\n",
    "from sklearn.linear_model import LogisticRegression\n",
    "from sklearn.svm import SVC\n",
    "from sklearn.ensemble import RandomForestClassifier, GradientBoostingClassifier, ExtraTreesClassifier\n",
    "\n",
    "from sklearn.metrics import accuracy_score, precision_recall_fscore_support, classification_report\n",
    "\n",
    "LINE = \"------------------------------------------------------------------------------\"\n",
    "\n",
    "classifiers = {\n",
    "    \"Naive Bayes\": GaussianNB(),\n",
    "    \"Decision Tree\": DecisionTreeClassifier(),\n",
    "#     \"Logistic Regression\": LogisticRegression(),\n",
    "#     \"SVM Linear Kernel\": SVC(),\n",
    "    \"Random Forest\": RandomForestClassifier(max_depth=20),\n",
    "#     \"Gradient Boosting\": GradientBoostingClassifier(),\n",
    "    \"ExtraTreeClassifier\": ExtraTreeClassifier(),\n",
    "    \"ExtraTreesClassifier\": ExtraTreesClassifier(),    # note that this one is an ensemble\n",
    "#     \"KNeighborsClassifier\": KNeighborsClassifier(),\n",
    "#     \"RidgeClassifier\": RidgeClassifier(),\n",
    "#     \"RidgeClassifierCV\": RidgeClassifier()\n",
    "}"
   ]
  },
  {
   "cell_type": "code",
   "execution_count": 176,
   "metadata": {},
   "outputs": [
    {
     "data": {
      "text/plain": [
       "<matplotlib.text.Text at 0x18233daf3c8>"
      ]
     },
     "execution_count": 176,
     "metadata": {},
     "output_type": "execute_result"
    },
    {
     "data": {
      "image/png": "[encoded data removed]",
      "text/plain": [
       "<matplotlib.figure.Figure at 0x18237cb1128>"
      ]
     },
     "metadata": {},
     "output_type": "display_data"
    },
    {
     "data": {
      "image/png": "[encoded data removed]",
      "text/plain": [
       "<matplotlib.figure.Figure at 0x18233d73b38>"
      ]
     },
     "metadata": {},
     "output_type": "display_data"
    }
   ],
   "source": [
    "_df = pd.DataFrame(data, columns=['depth', 'criteria', 'train accuracy', 'test accuracy'])\n",
    "\n",
    "_df[_df['criteria'] == 'gini'][['train accuracy', 'test accuracy']].plot(figsize=figsize, kind='line')\n",
    "plt.title(\"Gini Based\")\n",
    "\n",
    "_df[_df['criteria'] != 'gini'][['train accuracy', 'test accuracy']].plot(figsize=figsize, kind='line')\n",
    "plt.title(\"Entropy Based\")"
   ]
  },
  {
   "cell_type": "code",
   "execution_count": 183,
   "metadata": {
    "collapsed": true
   },
   "outputs": [],
   "source": [
    "param_grid = {\n",
    "    \"max_depth\": [10, 15, 20],\n",
    "    \"min_samples_split\": [2, 3, 10],\n",
    "#     \"min_samples_leaf\": [1, 3, 10],\n",
    "#     \"bootstrap\": [True, False],\n",
    "    \"criterion\": [\"gini\", \"entropy\"],\n",
    "    \"n_estimators\": [20, 50, 100]\n",
    "}"
   ]
  },
  {
   "cell_type": "code",
   "execution_count": 199,
   "metadata": {
    "scrolled": true
   },
   "outputs": [
    {
     "name": "stdout",
     "output_type": "stream",
     "text": [
      "Fitting 2 folds for each of 40 candidates, totalling 80 fits\n",
      "[CV] bootstrap=True, min_samples_split=2, max_features=10 ............\n",
      "[CV]  bootstrap=True, min_samples_split=2, max_features=10, score=0.689427, total=   2.2s\n",
      "[CV] bootstrap=True, min_samples_split=2, max_features=10 ............\n"
     ]
    },
    {
     "name": "stderr",
     "output_type": "stream",
     "text": [
      "[Parallel(n_jobs=1)]: Done   1 out of   1 | elapsed:    2.5s remaining:    0.0s\n"
     ]
    },
    {
     "name": "stdout",
     "output_type": "stream",
     "text": [
      "[CV]  bootstrap=True, min_samples_split=2, max_features=10, score=0.694620, total=   2.2s\n",
      "[CV] bootstrap=True, min_samples_split=3, max_features=10 ............\n"
     ]
    },
    {
     "name": "stderr",
     "output_type": "stream",
     "text": [
      "[Parallel(n_jobs=1)]: Done   2 out of   2 | elapsed:    5.0s remaining:    0.0s\n"
     ]
    },
    {
     "name": "stdout",
     "output_type": "stream",
     "text": [
      "[CV]  bootstrap=True, min_samples_split=3, max_features=10, score=0.691218, total=   1.6s\n",
      "[CV] bootstrap=True, min_samples_split=3, max_features=10 ............\n"
     ]
    },
    {
     "name": "stderr",
     "output_type": "stream",
     "text": [
      "[Parallel(n_jobs=1)]: Done   3 out of   3 | elapsed:    7.0s remaining:    0.0s\n"
     ]
    },
    {
     "name": "stdout",
     "output_type": "stream",
     "text": [
      "[CV]  bootstrap=True, min_samples_split=3, max_features=10, score=0.696099, total=   1.5s\n",
      "[CV] bootstrap=True, min_samples_split=5, max_features=10 ............\n"
     ]
    },
    {
     "name": "stderr",
     "output_type": "stream",
     "text": [
      "[Parallel(n_jobs=1)]: Done   4 out of   4 | elapsed:    8.8s remaining:    0.0s\n"
     ]
    },
    {
     "name": "stdout",
     "output_type": "stream",
     "text": [
      "[CV]  bootstrap=True, min_samples_split=5, max_features=10, score=0.693086, total=   1.5s\n",
      "[CV] bootstrap=True, min_samples_split=5, max_features=10 ............\n"
     ]
    },
    {
     "name": "stderr",
     "output_type": "stream",
     "text": [
      "[Parallel(n_jobs=1)]: Done   5 out of   5 | elapsed:   10.7s remaining:    0.0s\n"
     ]
    },
    {
     "name": "stdout",
     "output_type": "stream",
     "text": [
      "[CV]  bootstrap=True, min_samples_split=5, max_features=10, score=0.693607, total=   1.5s\n",
      "[CV] bootstrap=True, min_samples_split=10, max_features=10 ...........\n"
     ]
    },
    {
     "name": "stderr",
     "output_type": "stream",
     "text": [
      "[Parallel(n_jobs=1)]: Done   6 out of   6 | elapsed:   12.5s remaining:    0.0s\n"
     ]
    },
    {
     "name": "stdout",
     "output_type": "stream",
     "text": [
      "[CV]  bootstrap=True, min_samples_split=10, max_features=10, score=0.691763, total=   1.5s\n",
      "[CV] bootstrap=True, min_samples_split=10, max_features=10 ...........\n"
     ]
    },
    {
     "name": "stderr",
     "output_type": "stream",
     "text": [
      "[Parallel(n_jobs=1)]: Done   7 out of   7 | elapsed:   14.3s remaining:    0.0s\n"
     ]
    },
    {
     "name": "stdout",
     "output_type": "stream",
     "text": [
      "[CV]  bootstrap=True, min_samples_split=10, max_features=10, score=0.693685, total=   1.8s\n",
      "[CV] bootstrap=True, min_samples_split=2, max_features=15 ............\n"
     ]
    },
    {
     "name": "stderr",
     "output_type": "stream",
     "text": [
      "[Parallel(n_jobs=1)]: Done   8 out of   8 | elapsed:   16.5s remaining:    0.0s\n"
     ]
    },
    {
     "name": "stdout",
     "output_type": "stream",
     "text": [
      "[CV]  bootstrap=True, min_samples_split=2, max_features=15, score=0.691062, total=   2.4s\n",
      "[CV] bootstrap=True, min_samples_split=2, max_features=15 ............\n"
     ]
    },
    {
     "name": "stderr",
     "output_type": "stream",
     "text": [
      "[Parallel(n_jobs=1)]: Done   9 out of   9 | elapsed:   19.3s remaining:    0.0s\n"
     ]
    },
    {
     "name": "stdout",
     "output_type": "stream",
     "text": [
      "[CV]  bootstrap=True, min_samples_split=2, max_features=15, score=0.694308, total=   2.3s\n",
      "[CV] bootstrap=True, min_samples_split=3, max_features=15 ............\n",
      "[CV]  bootstrap=True, min_samples_split=3, max_features=15, score=0.690050, total=   2.6s\n",
      "[CV] bootstrap=True, min_samples_split=3, max_features=15 ............\n",
      "[CV]  bootstrap=True, min_samples_split=3, max_features=15, score=0.697423, total=   2.2s\n",
      "[CV] bootstrap=True, min_samples_split=5, max_features=15 ............\n",
      "[CV]  bootstrap=True, min_samples_split=5, max_features=15, score=0.692152, total=   2.2s\n",
      "[CV] bootstrap=True, min_samples_split=5, max_features=15 ............\n",
      "[CV]  bootstrap=True, min_samples_split=5, max_features=15, score=0.693218, total=   2.3s\n",
      "[CV] bootstrap=True, min_samples_split=10, max_features=15 ...........\n",
      "[CV]  bootstrap=True, min_samples_split=10, max_features=15, score=0.692541, total=   2.2s\n",
      "[CV] bootstrap=True, min_samples_split=10, max_features=15 ...........\n",
      "[CV]  bootstrap=True, min_samples_split=10, max_features=15, score=0.694698, total=   2.0s\n",
      "[CV] bootstrap=True, min_samples_split=2, max_features=20 ............\n",
      "[CV]  bootstrap=True, min_samples_split=2, max_features=20, score=0.692230, total=   2.6s\n",
      "[CV] bootstrap=True, min_samples_split=2, max_features=20 ............\n",
      "[CV]  bootstrap=True, min_samples_split=2, max_features=20, score=0.695087, total=   2.6s\n",
      "[CV] bootstrap=True, min_samples_split=3, max_features=20 ............\n",
      "[CV]  bootstrap=True, min_samples_split=3, max_features=20, score=0.693709, total=   2.6s\n",
      "[CV] bootstrap=True, min_samples_split=3, max_features=20 ............\n",
      "[CV]  bootstrap=True, min_samples_split=3, max_features=20, score=0.692985, total=   2.7s\n",
      "[CV] bootstrap=True, min_samples_split=5, max_features=20 ............\n",
      "[CV]  bootstrap=True, min_samples_split=5, max_features=20, score=0.689505, total=   2.8s\n",
      "[CV] bootstrap=True, min_samples_split=5, max_features=20 ............\n",
      "[CV]  bootstrap=True, min_samples_split=5, max_features=20, score=0.696099, total=   2.6s\n",
      "[CV] bootstrap=True, min_samples_split=10, max_features=20 ...........\n",
      "[CV]  bootstrap=True, min_samples_split=10, max_features=20, score=0.692853, total=   2.7s\n",
      "[CV] bootstrap=True, min_samples_split=10, max_features=20 ...........\n",
      "[CV]  bootstrap=True, min_samples_split=10, max_features=20, score=0.696488, total=   2.5s\n",
      "[CV] bootstrap=True, min_samples_split=2, max_features=25 ............\n",
      "[CV]  bootstrap=True, min_samples_split=2, max_features=25, score=0.687792, total=   3.6s\n",
      "[CV] bootstrap=True, min_samples_split=2, max_features=25 ............\n",
      "[CV]  bootstrap=True, min_samples_split=2, max_features=25, score=0.697189, total=   3.1s\n",
      "[CV] bootstrap=True, min_samples_split=3, max_features=25 ............\n",
      "[CV]  bootstrap=True, min_samples_split=3, max_features=25, score=0.688648, total=   3.1s\n",
      "[CV] bootstrap=True, min_samples_split=3, max_features=25 ............\n",
      "[CV]  bootstrap=True, min_samples_split=3, max_features=25, score=0.695087, total=   3.2s\n",
      "[CV] bootstrap=True, min_samples_split=5, max_features=25 ............\n",
      "[CV]  bootstrap=True, min_samples_split=5, max_features=25, score=0.688648, total=   3.4s\n",
      "[CV] bootstrap=True, min_samples_split=5, max_features=25 ............\n",
      "[CV]  bootstrap=True, min_samples_split=5, max_features=25, score=0.695554, total=   3.4s\n",
      "[CV] bootstrap=True, min_samples_split=10, max_features=25 ...........\n",
      "[CV]  bootstrap=True, min_samples_split=10, max_features=25, score=0.689427, total=   3.1s\n",
      "[CV] bootstrap=True, min_samples_split=10, max_features=25 ...........\n",
      "[CV]  bootstrap=True, min_samples_split=10, max_features=25, score=0.693140, total=   3.2s\n",
      "[CV] bootstrap=True, min_samples_split=2, max_features=30 ............\n",
      "[CV]  bootstrap=True, min_samples_split=2, max_features=30, score=0.686780, total=   3.6s\n",
      "[CV] bootstrap=True, min_samples_split=2, max_features=30 ............\n",
      "[CV]  bootstrap=True, min_samples_split=2, max_features=30, score=0.691427, total=   3.6s\n",
      "[CV] bootstrap=True, min_samples_split=3, max_features=30 ............\n",
      "[CV]  bootstrap=True, min_samples_split=3, max_features=30, score=0.689894, total=   3.4s\n",
      "[CV] bootstrap=True, min_samples_split=3, max_features=30 ............\n",
      "[CV]  bootstrap=True, min_samples_split=3, max_features=30, score=0.694853, total=   3.5s\n",
      "[CV] bootstrap=True, min_samples_split=5, max_features=30 ............\n",
      "[CV]  bootstrap=True, min_samples_split=5, max_features=30, score=0.689583, total=   3.5s\n",
      "[CV] bootstrap=True, min_samples_split=5, max_features=30 ............\n",
      "[CV]  bootstrap=True, min_samples_split=5, max_features=30, score=0.694075, total=   3.7s\n",
      "[CV] bootstrap=True, min_samples_split=10, max_features=30 ...........\n",
      "[CV]  bootstrap=True, min_samples_split=10, max_features=30, score=0.688493, total=   3.3s\n",
      "[CV] bootstrap=True, min_samples_split=10, max_features=30 ...........\n",
      "[CV]  bootstrap=True, min_samples_split=10, max_features=30, score=0.693062, total=   3.6s\n",
      "[CV] bootstrap=False, min_samples_split=2, max_features=10 ...........\n",
      "[CV]  bootstrap=False, min_samples_split=2, max_features=10, score=0.687169, total=   2.6s\n",
      "[CV] bootstrap=False, min_samples_split=2, max_features=10 ...........\n",
      "[CV]  bootstrap=False, min_samples_split=2, max_features=10, score=0.689559, total=   2.9s\n",
      "[CV] bootstrap=False, min_samples_split=3, max_features=10 ...........\n",
      "[CV]  bootstrap=False, min_samples_split=3, max_features=10, score=0.686702, total=   3.2s\n",
      "[CV] bootstrap=False, min_samples_split=3, max_features=10 ...........\n",
      "[CV]  bootstrap=False, min_samples_split=3, max_features=10, score=0.691894, total=   3.5s\n",
      "[CV] bootstrap=False, min_samples_split=5, max_features=10 ...........\n",
      "[CV]  bootstrap=False, min_samples_split=5, max_features=10, score=0.688181, total=   2.6s\n",
      "[CV] bootstrap=False, min_samples_split=5, max_features=10 ...........\n",
      "[CV]  bootstrap=False, min_samples_split=5, max_features=10, score=0.693218, total=   2.5s\n",
      "[CV] bootstrap=False, min_samples_split=10, max_features=10 ..........\n",
      "[CV]  bootstrap=False, min_samples_split=10, max_features=10, score=0.690517, total=   2.4s\n",
      "[CV] bootstrap=False, min_samples_split=10, max_features=10 ..........\n",
      "[CV]  bootstrap=False, min_samples_split=10, max_features=10, score=0.692751, total=   2.5s\n",
      "[CV] bootstrap=False, min_samples_split=2, max_features=15 ...........\n",
      "[CV]  bootstrap=False, min_samples_split=2, max_features=15, score=0.685690, total=   3.1s\n",
      "[CV] bootstrap=False, min_samples_split=2, max_features=15 ...........\n",
      "[CV]  bootstrap=False, min_samples_split=2, max_features=15, score=0.690415, total=   3.2s\n",
      "[CV] bootstrap=False, min_samples_split=3, max_features=15 ...........\n",
      "[CV]  bootstrap=False, min_samples_split=3, max_features=15, score=0.685768, total=   3.3s\n",
      "[CV] bootstrap=False, min_samples_split=3, max_features=15 ...........\n",
      "[CV]  bootstrap=False, min_samples_split=3, max_features=15, score=0.691972, total=   3.0s\n",
      "[CV] bootstrap=False, min_samples_split=5, max_features=15 ...........\n",
      "[CV]  bootstrap=False, min_samples_split=5, max_features=15, score=0.687169, total=   3.9s\n",
      "[CV] bootstrap=False, min_samples_split=5, max_features=15 ...........\n",
      "[CV]  bootstrap=False, min_samples_split=5, max_features=15, score=0.693997, total=   3.6s\n",
      "[CV] bootstrap=False, min_samples_split=10, max_features=15 ..........\n",
      "[CV]  bootstrap=False, min_samples_split=10, max_features=15, score=0.689349, total=   3.1s\n",
      "[CV] bootstrap=False, min_samples_split=10, max_features=15 ..........\n",
      "[CV]  bootstrap=False, min_samples_split=10, max_features=15, score=0.691739, total=   3.2s\n",
      "[CV] bootstrap=False, min_samples_split=2, max_features=20 ...........\n",
      "[CV]  bootstrap=False, min_samples_split=2, max_features=20, score=0.685145, total=   3.7s\n",
      "[CV] bootstrap=False, min_samples_split=2, max_features=20 ...........\n",
      "[CV]  bootstrap=False, min_samples_split=2, max_features=20, score=0.690726, total=   4.1s\n",
      "[CV] bootstrap=False, min_samples_split=3, max_features=20 ...........\n",
      "[CV]  bootstrap=False, min_samples_split=3, max_features=20, score=0.688181, total=   3.9s\n",
      "[CV] bootstrap=False, min_samples_split=3, max_features=20 ...........\n",
      "[CV]  bootstrap=False, min_samples_split=3, max_features=20, score=0.690804, total=   4.2s\n",
      "[CV] bootstrap=False, min_samples_split=5, max_features=20 ...........\n"
     ]
    },
    {
     "name": "stdout",
     "output_type": "stream",
     "text": [
      "[CV]  bootstrap=False, min_samples_split=5, max_features=20, score=0.686702, total=   4.0s\n",
      "[CV] bootstrap=False, min_samples_split=5, max_features=20 ...........\n",
      "[CV]  bootstrap=False, min_samples_split=5, max_features=20, score=0.692751, total=   4.3s\n",
      "[CV] bootstrap=False, min_samples_split=10, max_features=20 ..........\n",
      "[CV]  bootstrap=False, min_samples_split=10, max_features=20, score=0.688415, total=   4.2s\n",
      "[CV] bootstrap=False, min_samples_split=10, max_features=20 ..........\n",
      "[CV]  bootstrap=False, min_samples_split=10, max_features=20, score=0.692517, total=   4.1s\n",
      "[CV] bootstrap=False, min_samples_split=2, max_features=25 ...........\n",
      "[CV]  bootstrap=False, min_samples_split=2, max_features=25, score=0.682809, total=   4.5s\n",
      "[CV] bootstrap=False, min_samples_split=2, max_features=25 ...........\n",
      "[CV]  bootstrap=False, min_samples_split=2, max_features=25, score=0.689325, total=   4.6s\n",
      "[CV] bootstrap=False, min_samples_split=3, max_features=25 ...........\n",
      "[CV]  bootstrap=False, min_samples_split=3, max_features=25, score=0.685456, total=   4.6s\n",
      "[CV] bootstrap=False, min_samples_split=3, max_features=25 ...........\n",
      "[CV]  bootstrap=False, min_samples_split=3, max_features=25, score=0.690104, total=   4.5s\n",
      "[CV] bootstrap=False, min_samples_split=5, max_features=25 ...........\n",
      "[CV]  bootstrap=False, min_samples_split=5, max_features=25, score=0.684911, total=   4.2s\n",
      "[CV] bootstrap=False, min_samples_split=5, max_features=25 ...........\n",
      "[CV]  bootstrap=False, min_samples_split=5, max_features=25, score=0.690337, total=   4.4s\n",
      "[CV] bootstrap=False, min_samples_split=10, max_features=25 ..........\n",
      "[CV]  bootstrap=False, min_samples_split=10, max_features=25, score=0.686546, total=   4.6s\n",
      "[CV] bootstrap=False, min_samples_split=10, max_features=25 ..........\n",
      "[CV]  bootstrap=False, min_samples_split=10, max_features=25, score=0.689636, total=   4.4s\n",
      "[CV] bootstrap=False, min_samples_split=2, max_features=30 ...........\n",
      "[CV]  bootstrap=False, min_samples_split=2, max_features=30, score=0.681641, total=   5.0s\n",
      "[CV] bootstrap=False, min_samples_split=2, max_features=30 ...........\n",
      "[CV]  bootstrap=False, min_samples_split=2, max_features=30, score=0.686911, total=   4.9s\n",
      "[CV] bootstrap=False, min_samples_split=3, max_features=30 ...........\n",
      "[CV]  bootstrap=False, min_samples_split=3, max_features=30, score=0.682420, total=   5.5s\n",
      "[CV] bootstrap=False, min_samples_split=3, max_features=30 ...........\n",
      "[CV]  bootstrap=False, min_samples_split=3, max_features=30, score=0.691038, total=   5.5s\n",
      "[CV] bootstrap=False, min_samples_split=5, max_features=30 ...........\n",
      "[CV]  bootstrap=False, min_samples_split=5, max_features=30, score=0.683121, total=   5.7s\n",
      "[CV] bootstrap=False, min_samples_split=5, max_features=30 ...........\n",
      "[CV]  bootstrap=False, min_samples_split=5, max_features=30, score=0.689091, total=   5.3s\n",
      "[CV] bootstrap=False, min_samples_split=10, max_features=30 ..........\n",
      "[CV]  bootstrap=False, min_samples_split=10, max_features=30, score=0.682342, total=   6.5s\n",
      "[CV] bootstrap=False, min_samples_split=10, max_features=30 ..........\n",
      "[CV]  bootstrap=False, min_samples_split=10, max_features=30, score=0.689013, total=   6.6s\n"
     ]
    },
    {
     "name": "stderr",
     "output_type": "stream",
     "text": [
      "[Parallel(n_jobs=1)]: Done  80 out of  80 | elapsed:  4.9min finished\n"
     ]
    },
    {
     "name": "stdout",
     "output_type": "stream",
     "text": [
      "GridSearchCV took 301.69 seconds for 40 candidate parameter settings.\n"
     ]
    }
   ],
   "source": [
    "# Grid search\n",
    "from sklearn.model_selection import GridSearchCV\n",
    "from time import time\n",
    "\n",
    "'''\n",
    "# Best features so far;;\n",
    "\n",
    "n_estimators=100,\n",
    "bootstrap=True,\n",
    "criterion='gini',\n",
    "max_depth=15,\n",
    "max_features=15,\n",
    "min_samples_split=2\n",
    "'''\n",
    "\n",
    "params = {\n",
    "    'max_features': [10, 15, 20, 25, 30],\n",
    "    'min_samples_split': [2, 3, 5, 10],\n",
    "    'bootstrap': [True, False]\n",
    "}\n",
    "clf = RandomForestClassifier(n_estimators=100,\n",
    "                            criterion='gini',\n",
    "                            max_depth=15)\n",
    "\n",
    "# run grid search\n",
    "grid_search = GridSearchCV(clf, param_grid=params, verbose=10, cv=2)\n",
    "start = time()\n",
    "grid_search.fit(X_train, y_train)\n",
    "\n",
    "print(\"GridSearchCV took %.2f seconds for %d candidate parameter settings.\"\n",
    "      % (time() - start, len(grid_search.cv_results_['params'])))\n"
   ]
  },
  {
   "cell_type": "code",
   "execution_count": 201,
   "metadata": {},
   "outputs": [
    {
     "data": {
      "text/plain": [
       "{'bootstrap': True, 'max_features': 20, 'min_samples_split': 10}"
      ]
     },
     "execution_count": 201,
     "metadata": {},
     "output_type": "execute_result"
    }
   ],
   "source": [
    "grid_search.best_params_"
   ]
  },
  {
   "cell_type": "code",
   "execution_count": 219,
   "metadata": {},
   "outputs": [
    {
     "name": "stdout",
     "output_type": "stream",
     "text": [
      "------------------------------------------------------------------------------\n",
      "metrics on training data\n",
      "Accuracy:  0.748471989722\n",
      "             precision    recall  f1-score   support\n",
      "\n",
      "        0.0       0.79      0.46      0.58      9777\n",
      "        1.0       0.74      0.92      0.82     15910\n",
      "\n",
      "avg / total       0.76      0.75      0.73     25687\n",
      "\n",
      "------------------------------------------------------------------------------\n",
      "metrics on validation data\n",
      "Accuracy:  0.709592027406\n",
      "             precision    recall  f1-score   support\n",
      "\n",
      "        0.0       0.69      0.41      0.51      2409\n",
      "        1.0       0.71      0.89      0.79      4013\n",
      "\n",
      "avg / total       0.71      0.71      0.69      6422\n",
      "\n"
     ]
    }
   ],
   "source": [
    "#using these params\n",
    "clf = RandomForestClassifier(n_estimators=100,\n",
    "                             bootstrap=True,\n",
    "                             criterion='gini',\n",
    "                             max_depth=15,\n",
    "                             max_features=20,\n",
    "                             min_samples_split=10\n",
    "                            )\n",
    "clf.fit(X_train, y_train)\n",
    "\n",
    "print (LINE)\n",
    "print (\"metrics on training data\")\n",
    "pred = clf.predict(X_train)\n",
    "print (\"Accuracy: \", accuracy_score(y_train, pred))\n",
    "print(classification_report(y_train, pred))\n",
    "\n",
    "print (LINE)\n",
    "\n",
    "print (\"metrics on validation data\")\n",
    "pred = clf.predict(X_test)\n",
    "print (\"Accuracy: \", accuracy_score(y_test, pred))\n",
    "print(classification_report(y_test, pred))"
   ]
  },
  {
   "cell_type": "markdown",
   "metadata": {},
   "source": [
    "### Summary\n",
    " - We can build a classifier which can tell if an app should be priced above or below a dollar. What a waste!\n",
    " - Rather build a free / paid classifier;"
   ]
  },
  {
   "cell_type": "code",
   "execution_count": 231,
   "metadata": {
    "collapsed": true
   },
   "outputs": [],
   "source": [
    "Y = df1.price.values\n",
    "X = df1.drop(['price', 'name'], axis=1).values\n",
    "Z = np.zeros(Y.shape[0])\n",
    "for i, j in enumerate(Y):\n",
    "    if j != 0:\n",
    "        Z[i] = 1"
   ]
  },
  {
   "cell_type": "code",
   "execution_count": 235,
   "metadata": {},
   "outputs": [
    {
     "name": "stdout",
     "output_type": "stream",
     "text": [
      "(227798, 50) (227798,)\n",
      "(97628, 50) (97628,)\n"
     ]
    }
   ],
   "source": [
    "from sklearn.model_selection import train_test_split\n",
    "x_train, x_val, y_train, y_val = train_test_split(X, Z, test_size=0.3, random_state=42)\n",
    "print (x_train.shape, y_train.shape)\n",
    "print (x_val.shape, y_val.shape)"
   ]
  },
  {
   "cell_type": "code",
   "execution_count": 238,
   "metadata": {},
   "outputs": [
    {
     "name": "stdout",
     "output_type": "stream",
     "text": [
      "------------------------------------------------------------------------------\n",
      "metrics on training data\n",
      "Accuracy:  0.902799848989\n",
      "             precision    recall  f1-score   support\n",
      "\n",
      "        0.0       0.90      1.00      0.95    203801\n",
      "        1.0       0.85      0.09      0.17     23997\n",
      "\n",
      "avg / total       0.90      0.90      0.87    227798\n",
      "\n"
     ]
    }
   ],
   "source": [
    "#using these params\n",
    "clf = RandomForestClassifier(n_estimators=100,\n",
    "                             bootstrap=True,\n",
    "                             criterion='gini',\n",
    "                             max_depth=15,\n",
    "                             max_features=20,\n",
    "                             min_samples_split=10\n",
    "                            )\n",
    "clf.fit(x_train, y_train)\n",
    "\n",
    "print (LINE)\n",
    "print (\"metrics on training data\")\n",
    "pred = clf.predict(x_train)\n",
    "print (\"Accuracy: \", accuracy_score(y_train, pred))\n",
    "print(classification_report(y_train, pred))"
   ]
  },
  {
   "cell_type": "code",
   "execution_count": 241,
   "metadata": {},
   "outputs": [
    {
     "name": "stdout",
     "output_type": "stream",
     "text": [
      "------------------------------------------------------------------------------\n",
      "metrics on validation data\n",
      "Accuracy:  0.899434588438\n",
      "             precision    recall  f1-score   support\n",
      "\n",
      "        0.0       0.90      1.00      0.95     87253\n",
      "        1.0       0.75      0.08      0.15     10375\n",
      "\n",
      "avg / total       0.88      0.90      0.86     97628\n",
      "\n"
     ]
    }
   ],
   "source": [
    "print (LINE)\n",
    "\n",
    "print (\"metrics on validation data\")\n",
    "pred = clf.predict(x_val)\n",
    "print (\"Accuracy: \", accuracy_score(y_val, pred))\n",
    "print(classification_report(y_val, pred))"
   ]
  },
  {
   "cell_type": "code",
   "execution_count": 242,
   "metadata": {},
   "outputs": [
    {
     "data": {
      "text/plain": [
       "RandomForestClassifier(bootstrap=True, class_weight=None, criterion='gini',\n",
       "            max_depth=15, max_features=20, max_leaf_nodes=None,\n",
       "            min_impurity_split=1e-07, min_samples_leaf=1,\n",
       "            min_samples_split=10, min_weight_fraction_leaf=0.0,\n",
       "            n_estimators=100, n_jobs=1, oob_score=False, random_state=None,\n",
       "            verbose=0, warm_start=False)"
      ]
     },
     "execution_count": 242,
     "metadata": {},
     "output_type": "execute_result"
    }
   ],
   "source": [
    "## let's dump this model\n",
    "clf = RandomForestClassifier(n_estimators=100,\n",
    "                             bootstrap=True,\n",
    "                             criterion='gini',\n",
    "                             max_depth=15,\n",
    "                             max_features=20,\n",
    "                             min_samples_split=10\n",
    "                            )\n",
    "\n",
    "clf.fit(X, Z)"
   ]
  },
  {
   "cell_type": "code",
   "execution_count": 243,
   "metadata": {
    "collapsed": true
   },
   "outputs": [],
   "source": [
    "import pickle\n",
    "with open(\"../models/classifier/free-paid.randomforest.01.pkl\", \"wb\") as ofp:\n",
    "    pickle.dump(clf, ofp)"
   ]
  },
  {
   "cell_type": "code",
   "execution_count": null,
   "metadata": {
    "collapsed": true
   },
   "outputs": [],
   "source": []
  }
 ],
 "metadata": {
  "kernelspec": {
   "display_name": "Python 3",
   "language": "python",
   "name": "python3"
  },
  "language_info": {
   "codemirror_mode": {
    "name": "ipython",
    "version": 3
   },
   "file_extension": ".py",
   "mimetype": "text/x-python",
   "name": "python",
   "nbconvert_exporter": "python",
   "pygments_lexer": "ipython3",
   "version": "3.5.2"
  }
 },
 "nbformat": 4,
 "nbformat_minor": 2
}
